{
  "nbformat": 4,
  "nbformat_minor": 0,
  "metadata": {
    "colab": {
      "name": "Session12.ipynb",
      "version": "0.3.2",
      "provenance": [],
      "collapsed_sections": [],
      "include_colab_link": true
    },
    "kernelspec": {
      "name": "python3",
      "display_name": "Python 3"
    },
    "accelerator": "GPU"
  },
  "cells": [
    {
      "cell_type": "markdown",
      "metadata": {
        "id": "view-in-github",
        "colab_type": "text"
      },
      "source": [
        "<a href=\"https://colab.research.google.com/github/Curiousss/EVA/blob/master/Assignment12/Session12.ipynb\" target=\"_parent\"><img src=\"https://colab.research.google.com/assets/colab-badge.svg\" alt=\"Open In Colab\"/></a>"
      ]
    },
    {
      "cell_type": "code",
      "metadata": {
        "id": "4gOzeOpDAO_t",
        "colab_type": "code",
        "colab": {
          "base_uri": "https://localhost:8080/",
          "height": 35
        },
        "outputId": "f45e8359-657f-42f8-c2c0-14ec8311db24"
      },
      "source": [
        "!ls\n"
      ],
      "execution_count": 13,
      "outputs": [
        {
          "output_type": "stream",
          "text": [
            "cutout-random-erasing  keras-one-cycle\t__pycache__  sample_data\n"
          ],
          "name": "stdout"
        }
      ]
    },
    {
      "cell_type": "code",
      "metadata": {
        "id": "yalOHoPf7nMx",
        "colab_type": "code",
        "colab": {
          "base_uri": "https://localhost:8080/",
          "height": 35
        },
        "outputId": "11948d5f-3d79-4e5b-c751-f15f33c0083c"
      },
      "source": [
        "from sklearn.metrics import log_loss, roc_auc_score, accuracy_score\n",
        "from keras.losses import binary_crossentropy\n",
        "from keras.metrics import binary_accuracy\n",
        "from keras import backend as K\n",
        "from keras.callbacks import *"
      ],
      "execution_count": 1,
      "outputs": [
        {
          "output_type": "stream",
          "text": [
            "Using TensorFlow backend.\n"
          ],
          "name": "stderr"
        }
      ]
    },
    {
      "cell_type": "code",
      "metadata": {
        "id": "NbWvNjPJ71vU",
        "colab_type": "code",
        "colab": {}
      },
      "source": [
        "class CyclicLR(Callback):\n",
        "    \n",
        "    def __init__(self,base_lr, max_lr, step_size, base_m, max_m, cyclical_momentum):\n",
        " \n",
        "        self.base_lr = base_lr\n",
        "        self.max_lr = max_lr\n",
        "        self.base_m = base_m\n",
        "        self.max_m = max_m\n",
        "        self.cyclical_momentum = cyclical_momentum\n",
        "        self.step_size = step_size\n",
        "        \n",
        "        self.clr_iterations = 0.\n",
        "        self.cm_iterations = 0.\n",
        "        self.trn_iterations = 0.\n",
        "        self.history = {}\n",
        "        \n",
        "    def clr(self):\n",
        "        \n",
        "        cycle = np.floor(1+self.clr_iterations/(2*self.step_size))\n",
        "        \n",
        "        if cycle == 2:\n",
        "            x = np.abs(self.clr_iterations/self.step_size - 2*cycle + 1)          \n",
        "            return self.base_lr-(self.base_lr-self.base_lr/100)*np.maximum(0,(1-x))\n",
        "        \n",
        "        else:\n",
        "            x = np.abs(self.clr_iterations/self.step_size - 2*cycle + 1)\n",
        "            return self.base_lr + (self.max_lr-self.base_lr)*np.maximum(0,(1-x))\n",
        "    \n",
        "    def cm(self):\n",
        "        \n",
        "        cycle = np.floor(1+self.clr_iterations/(2*self.step_size))\n",
        "        \n",
        "        if cycle == 2:\n",
        "            \n",
        "            x = np.abs(self.clr_iterations/self.step_size - 2*cycle + 1) \n",
        "            return self.max_m\n",
        "        \n",
        "        else:\n",
        "            x = np.abs(self.clr_iterations/self.step_size - 2*cycle + 1)\n",
        "            return self.max_m - (self.max_m-self.base_m)*np.maximum(0,(1-x))\n",
        "        \n",
        "    def on_train_begin(self, logs={}):\n",
        "        logs = logs or {}\n",
        "\n",
        "        if self.clr_iterations == 0:\n",
        "            K.set_value(self.model.optimizer.lr, self.base_lr)\n",
        "        else:\n",
        "            K.set_value(self.model.optimizer.lr, self.clr())\n",
        "            \n",
        "        if self.cyclical_momentum == True:\n",
        "            if self.clr_iterations == 0:\n",
        "                K.set_value(self.model.optimizer.momentum, self.cm())\n",
        "            else:\n",
        "                K.set_value(self.model.optimizer.momentum, self.cm())\n",
        "                \n",
        "    def on_batch_begin(self, batch, logs=None):\n",
        "        \n",
        "        logs = logs or {}\n",
        "        self.trn_iterations += 1\n",
        "        self.clr_iterations += 1\n",
        "\n",
        "        self.history.setdefault('lr', []).append(K.get_value(self.model.optimizer.lr))\n",
        "        self.history.setdefault('iterations', []).append(self.trn_iterations)\n",
        "        \n",
        "        if self.cyclical_momentum == True:\n",
        "            self.history.setdefault('momentum', []).append(K.get_value(self.model.optimizer.momentum))\n",
        "\n",
        "        for k, v in logs.items():\n",
        "            self.history.setdefault(k, []).append(v)\n",
        "        \n",
        "        K.set_value(self.model.optimizer.lr, self.clr())\n",
        "        \n",
        "        if self.cyclical_momentum == True:\n",
        "            K.set_value(self.model.optimizer.momentum, self.cm())\n",
        "            "
      ],
      "execution_count": 0,
      "outputs": []
    },
    {
      "cell_type": "code",
      "metadata": {
        "id": "KkwXnw9OfHZl",
        "colab_type": "code",
        "colab": {}
      },
      "source": [
        "from keras import backend as K\n",
        "import time\n",
        "import matplotlib.pyplot as plt\n",
        "import numpy as np\n",
        "% matplotlib inline\n",
        "np.random.seed(2017) \n",
        "from keras import regularizers\n",
        "from keras.models import Sequential\n",
        "from keras.layers.convolutional import Convolution2D, MaxPooling2D,AveragePooling2D\n",
        "from keras.layers import Activation, Flatten, Dense, Dropout\n",
        "from keras.layers.normalization import BatchNormalization\n",
        "from keras.utils import np_utils\n",
        "from keras.preprocessing.image import ImageDataGenerator"
      ],
      "execution_count": 0,
      "outputs": []
    },
    {
      "cell_type": "code",
      "metadata": {
        "id": "NHpnoCHZfO8g",
        "colab_type": "code",
        "colab": {}
      },
      "source": [
        "from keras.datasets import cifar10\n",
        "(train_features, train_labels), (test_features, test_labels) = cifar10.load_data()\n",
        "num_train, img_rows, img_cols,img_channels =  train_features.shape\n",
        "num_test, _, _, _ =  test_features.shape\n",
        "num_classes = len(np.unique(train_labels))"
      ],
      "execution_count": 0,
      "outputs": []
    },
    {
      "cell_type": "code",
      "metadata": {
        "id": "2R9KHV8A19cw",
        "colab_type": "code",
        "outputId": "632bc2f7-4931-43e5-b696-c7167b3b84f0",
        "colab": {
          "base_uri": "https://localhost:8080/",
          "height": 90
        }
      },
      "source": [
        "print (num_classes)\n",
        "print (num_train)\n",
        "print (train_features.shape)\n",
        "print (test_features.shape)"
      ],
      "execution_count": 5,
      "outputs": [
        {
          "output_type": "stream",
          "text": [
            "10\n",
            "50000\n",
            "(50000, 32, 32, 3)\n",
            "(10000, 32, 32, 3)\n"
          ],
          "name": "stdout"
        }
      ]
    },
    {
      "cell_type": "code",
      "metadata": {
        "id": "14HyBUXdfS6G",
        "colab_type": "code",
        "outputId": "45527d7b-106d-4743-cdda-ea62180338ab",
        "colab": {
          "base_uri": "https://localhost:8080/",
          "height": 214
        }
      },
      "source": [
        "class_names = ['airplane','automobile','bird','cat','deer',\n",
        "               'dog','frog','horse','ship','truck']\n",
        "fig = plt.figure(figsize=(8,3))\n",
        "for i in range(num_classes):\n",
        "    ax = fig.add_subplot(2, 5, 1 + i, xticks=[], yticks=[])\n",
        "    idx = np.where(train_labels[:]==i)[0]\n",
        "    features_idx = train_features[idx,::]\n",
        "    img_num = np.random.randint(features_idx.shape[0])\n",
        "    im = features_idx[img_num]\n",
        "    ax.set_title(class_names[i])\n",
        "    plt.imshow(im)\n",
        "plt.show()"
      ],
      "execution_count": 6,
      "outputs": [
        {
          "output_type": "display_data",
          "data": {
            "image/png": "[encoded data removed]",
            "text/plain": [
              "<Figure size 576x216 with 10 Axes>"
            ]
          },
          "metadata": {
            "tags": []
          }
        }
      ]
    },
    {
      "cell_type": "code",
      "metadata": {
        "id": "bmfsk76-fadV",
        "colab_type": "code",
        "colab": {}
      },
      "source": [
        "def plot_model_history(model_history):\n",
        "    fig, axs = plt.subplots(1,2,figsize=(15,5))\n",
        "    # summarize history for accuracy\n",
        "    axs[0].plot(range(1,len(model_history.history['acc'])+1),model_history.history['acc'])\n",
        "    axs[0].plot(range(1,len(model_history.history['val_acc'])+1),model_history.history['val_acc'])\n",
        "    axs[0].set_title('Model Accuracy')\n",
        "    axs[0].set_ylabel('Accuracy')\n",
        "    axs[0].set_xlabel('Epoch')\n",
        "    axs[0].set_xticks(np.arange(1,len(model_history.history['acc'])+1),len(model_history.history['acc'])/10)\n",
        "    axs[0].legend(['train', 'val'], loc='best')\n",
        "    # summarize history for loss\n",
        "    axs[1].plot(range(1,len(model_history.history['loss'])+1),model_history.history['loss'])\n",
        "    axs[1].plot(range(1,len(model_history.history['val_loss'])+1),model_history.history['val_loss'])\n",
        "    axs[1].set_title('Model Loss')\n",
        "    axs[1].set_ylabel('Loss')\n",
        "    axs[1].set_xlabel('Epoch')\n",
        "    axs[1].set_xticks(np.arange(1,len(model_history.history['loss'])+1),len(model_history.history['loss'])/10)\n",
        "    axs[1].legend(['train', 'val'], loc='best')\n",
        "    plt.show()"
      ],
      "execution_count": 0,
      "outputs": []
    },
    {
      "cell_type": "code",
      "metadata": {
        "id": "YJMT4rjgfdZz",
        "colab_type": "code",
        "colab": {}
      },
      "source": [
        "def accuracy(test_x, test_y, model):\n",
        "    result = model.predict(test_x)\n",
        "    predicted_class = np.argmax(result, axis=1)\n",
        "    true_class = np.argmax(test_y, axis=1)\n",
        "    num_correct = np.sum(predicted_class == true_class) \n",
        "    accuracy = float(num_correct)/result.shape[0]\n",
        "    return (accuracy * 100)"
      ],
      "execution_count": 0,
      "outputs": []
    },
    {
      "cell_type": "code",
      "metadata": {
        "id": "T5c5nDvxm6zR",
        "colab_type": "code",
        "colab": {}
      },
      "source": [
        "train_features = train_features.astype('float32')/255\n",
        "test_features = test_features.astype('float32')/255\n",
        "# convert class labels to binary class labels\n",
        "train_labels = np_utils.to_categorical(train_labels, num_classes)\n",
        "test_labels = np_utils.to_categorical(test_labels, num_classes)"
      ],
      "execution_count": 0,
      "outputs": []
    },
    {
      "cell_type": "code",
      "metadata": {
        "id": "9upyHvwj3JhG",
        "colab_type": "code",
        "outputId": "985a7778-3929-44e6-c9f9-c69bf2d73c53",
        "colab": {
          "base_uri": "https://localhost:8080/",
          "height": 145
        }
      },
      "source": [
        "train_labels"
      ],
      "execution_count": 10,
      "outputs": [
        {
          "output_type": "execute_result",
          "data": {
            "text/plain": [
              "array([[0., 0., 0., ..., 0., 0., 0.],\n",
              "       [0., 0., 0., ..., 0., 0., 1.],\n",
              "       [0., 0., 0., ..., 0., 0., 1.],\n",
              "       ...,\n",
              "       [0., 0., 0., ..., 0., 0., 1.],\n",
              "       [0., 1., 0., ..., 0., 0., 0.],\n",
              "       [0., 1., 0., ..., 0., 0., 0.]], dtype=float32)"
            ]
          },
          "metadata": {
            "tags": []
          },
          "execution_count": 10
        }
      ]
    },
    {
      "cell_type": "code",
      "metadata": {
        "id": "5h4AHhNkNcY-",
        "colab_type": "code",
        "outputId": "0fe60860-a071-4a30-b221-b882ca68ecbf",
        "colab": {
          "base_uri": "https://localhost:8080/",
          "height": 35
        }
      },
      "source": [
        "!git clone https://github.com/yu4u/cutout-random-erasing"
      ],
      "execution_count": 0,
      "outputs": [
        {
          "output_type": "stream",
          "text": [
            "fatal: destination path 'cutout-random-erasing' already exists and is not an empty directory.\n"
          ],
          "name": "stdout"
        }
      ]
    },
    {
      "cell_type": "code",
      "metadata": {
        "id": "v5Q9xRx_RGIE",
        "colab_type": "code",
        "outputId": "5fe35d9b-f252-405c-bb22-734c6dd4d674",
        "colab": {
          "base_uri": "https://localhost:8080/",
          "height": 72
        }
      },
      "source": [
        "!cp cutout-random-erasing/* .\n",
        "!ls"
      ],
      "execution_count": 24,
      "outputs": [
        {
          "output_type": "stream",
          "text": [
            "cifar10_resnet.py      example.ipynb\tLICENSE\t\t  README.md\n",
            "cutout-random-erasing  example.png\t__pycache__\t  sample_data\n",
            "example2.png\t       keras-one-cycle\trandom_eraser.py\n"
          ],
          "name": "stdout"
        }
      ]
    },
    {
      "cell_type": "code",
      "metadata": {
        "id": "M1JQFBHowIGM",
        "colab_type": "code",
        "colab": {}
      },
      "source": [
        "X_train = train_features\n",
        "X_test = test_features\n",
        "y_train = train_labels\n",
        "y_test = test_labels"
      ],
      "execution_count": 0,
      "outputs": []
    },
    {
      "cell_type": "code",
      "metadata": {
        "id": "z3d05MXp7qXD",
        "colab_type": "code",
        "outputId": "1f9ea54b-3ca0-40f9-c32c-a7cb44ee996a",
        "colab": {
          "base_uri": "https://localhost:8080/",
          "height": 637
        }
      },
      "source": [
        "# Define the model\n",
        "model1 = Sequential()\n",
        "model1.add(Convolution2D(32, 3, 3, border_mode='same',kernel_regularizer=regularizers.l2(0.0001), input_shape=(32, 32, 3)))\n",
        "model1.add(Activation('relu'))\n",
        "model1.add(BatchNormalization())\n",
        "\n",
        "model1.add(Convolution2D(64, 3, 3,kernel_regularizer=regularizers.l2(0.0001),border_mode='same'))\n",
        "model1.add(Activation('relu'))\n",
        "model1.add(BatchNormalization())\n",
        "\n",
        "model1.add(MaxPooling2D(pool_size=(2, 2)))\n",
        "model1.add(Dropout(0.2))\n",
        "\n",
        "model1.add(Convolution2D(32, 1, 1))\n",
        "\n",
        "\n",
        "model1.add(Convolution2D(64, 3, 3,kernel_regularizer=regularizers.l2(0.0001),border_mode='same'))\n",
        "model1.add(Activation('relu'))\n",
        "model1.add(BatchNormalization())\n",
        "\n",
        "model1.add(Convolution2D(128, 3, 3,kernel_regularizer=regularizers.l2(0.0001),border_mode='same'))\n",
        "model1.add(Activation('relu'))\n",
        "model1.add(BatchNormalization())\n",
        "\n",
        "model1.add(MaxPooling2D(pool_size=(2, 2)))\n",
        "model1.add(Dropout(0.3))\n",
        "\n",
        "model1.add(Convolution2D(32, 1, 1))\n",
        "\n",
        "\n",
        "model1.add(Convolution2D(128, 3, 3,kernel_regularizer=regularizers.l2(0.0001), border_mode='same'))\n",
        "model1.add(Activation('relu'))\n",
        "model1.add(BatchNormalization())\n",
        "\n",
        "model1.add(Convolution2D(256, 3, 3,kernel_regularizer=regularizers.l2(0.0001), border_mode='same'))\n",
        "model1.add(Activation('relu'))\n",
        "model1.add(BatchNormalization())\n",
        "\n",
        "model1.add(MaxPooling2D(pool_size=(2, 2)))\n",
        "model1.add(Dropout(0.5))\n",
        "\n",
        "model1.add(Convolution2D(10, 1, 1))\n",
        "\n",
        "model1.add(AveragePooling2D(pool_size = (4,4)))\n",
        "model1.add(Flatten())\n",
        "\n",
        "\n",
        "model1.add(Activation('softmax'))\n",
        "\n"
      ],
      "execution_count": 12,
      "outputs": [
        {
          "output_type": "stream",
          "text": [
            "WARNING: Logging before flag parsing goes to stderr.\n",
            "W0724 14:23:12.567901 139838103525248 deprecation_wrapper.py:119] From /usr/local/lib/python3.6/dist-packages/keras/backend/tensorflow_backend.py:74: The name tf.get_default_graph is deprecated. Please use tf.compat.v1.get_default_graph instead.\n",
            "\n",
            "/usr/local/lib/python3.6/dist-packages/ipykernel_launcher.py:2: UserWarning: Update your `Conv2D` call to the Keras 2 API: `Conv2D(32, (3, 3), kernel_regularizer=<keras.reg..., input_shape=(32, 32, 3..., padding=\"same\")`\n",
            "  \n",
            "W0724 14:23:12.588660 139838103525248 deprecation_wrapper.py:119] From /usr/local/lib/python3.6/dist-packages/keras/backend/tensorflow_backend.py:517: The name tf.placeholder is deprecated. Please use tf.compat.v1.placeholder instead.\n",
            "\n",
            "W0724 14:23:12.591621 139838103525248 deprecation_wrapper.py:119] From /usr/local/lib/python3.6/dist-packages/keras/backend/tensorflow_backend.py:4138: The name tf.random_uniform is deprecated. Please use tf.random.uniform instead.\n",
            "\n",
            "W0724 14:23:12.632462 139838103525248 deprecation_wrapper.py:119] From /usr/local/lib/python3.6/dist-packages/keras/backend/tensorflow_backend.py:174: The name tf.get_default_session is deprecated. Please use tf.compat.v1.get_default_session instead.\n",
            "\n",
            "W0724 14:23:12.634430 139838103525248 deprecation_wrapper.py:119] From /usr/local/lib/python3.6/dist-packages/keras/backend/tensorflow_backend.py:181: The name tf.ConfigProto is deprecated. Please use tf.compat.v1.ConfigProto instead.\n",
            "\n",
            "W0724 14:23:13.251027 139838103525248 deprecation_wrapper.py:119] From /usr/local/lib/python3.6/dist-packages/keras/backend/tensorflow_backend.py:1834: The name tf.nn.fused_batch_norm is deprecated. Please use tf.compat.v1.nn.fused_batch_norm instead.\n",
            "\n",
            "/usr/local/lib/python3.6/dist-packages/ipykernel_launcher.py:6: UserWarning: Update your `Conv2D` call to the Keras 2 API: `Conv2D(64, (3, 3), kernel_regularizer=<keras.reg..., padding=\"same\")`\n",
            "  \n",
            "W0724 14:23:13.436777 139838103525248 deprecation_wrapper.py:119] From /usr/local/lib/python3.6/dist-packages/keras/backend/tensorflow_backend.py:3976: The name tf.nn.max_pool is deprecated. Please use tf.nn.max_pool2d instead.\n",
            "\n",
            "W0724 14:23:13.446780 139838103525248 deprecation.py:506] From /usr/local/lib/python3.6/dist-packages/keras/backend/tensorflow_backend.py:3445: calling dropout (from tensorflow.python.ops.nn_ops) with keep_prob is deprecated and will be removed in a future version.\n",
            "Instructions for updating:\n",
            "Please use `rate` instead of `keep_prob`. Rate should be set to `rate = 1 - keep_prob`.\n",
            "/usr/local/lib/python3.6/dist-packages/ipykernel_launcher.py:13: UserWarning: Update your `Conv2D` call to the Keras 2 API: `Conv2D(32, (1, 1))`\n",
            "  del sys.path[0]\n",
            "/usr/local/lib/python3.6/dist-packages/ipykernel_launcher.py:16: UserWarning: Update your `Conv2D` call to the Keras 2 API: `Conv2D(64, (3, 3), kernel_regularizer=<keras.reg..., padding=\"same\")`\n",
            "  app.launch_new_instance()\n",
            "/usr/local/lib/python3.6/dist-packages/ipykernel_launcher.py:20: UserWarning: Update your `Conv2D` call to the Keras 2 API: `Conv2D(128, (3, 3), kernel_regularizer=<keras.reg..., padding=\"same\")`\n",
            "/usr/local/lib/python3.6/dist-packages/ipykernel_launcher.py:27: UserWarning: Update your `Conv2D` call to the Keras 2 API: `Conv2D(32, (1, 1))`\n",
            "/usr/local/lib/python3.6/dist-packages/ipykernel_launcher.py:30: UserWarning: Update your `Conv2D` call to the Keras 2 API: `Conv2D(128, (3, 3), kernel_regularizer=<keras.reg..., padding=\"same\")`\n",
            "/usr/local/lib/python3.6/dist-packages/ipykernel_launcher.py:34: UserWarning: Update your `Conv2D` call to the Keras 2 API: `Conv2D(256, (3, 3), kernel_regularizer=<keras.reg..., padding=\"same\")`\n",
            "/usr/local/lib/python3.6/dist-packages/ipykernel_launcher.py:41: UserWarning: Update your `Conv2D` call to the Keras 2 API: `Conv2D(10, (1, 1))`\n",
            "W0724 14:23:14.065731 139838103525248 deprecation_wrapper.py:119] From /usr/local/lib/python3.6/dist-packages/keras/backend/tensorflow_backend.py:3980: The name tf.nn.avg_pool is deprecated. Please use tf.nn.avg_pool2d instead.\n",
            "\n"
          ],
          "name": "stderr"
        }
      ]
    },
    {
      "cell_type": "code",
      "metadata": {
        "id": "AUhWT47O7qlt",
        "colab_type": "code",
        "outputId": "f5078b32-a982-4e24-fdac-e75149a94537",
        "colab": {
          "base_uri": "https://localhost:8080/",
          "height": 1000
        }
      },
      "source": [
        "model1.summary()"
      ],
      "execution_count": 13,
      "outputs": [
        {
          "output_type": "stream",
          "text": [
            "_________________________________________________________________\n",
            "Layer (type)                 Output Shape              Param #   \n",
            "=================================================================\n",
            "conv2d_1 (Conv2D)            (None, 32, 32, 32)        896       \n",
            "_________________________________________________________________\n",
            "activation_1 (Activation)    (None, 32, 32, 32)        0         \n",
            "_________________________________________________________________\n",
            "batch_normalization_1 (Batch (None, 32, 32, 32)        128       \n",
            "_________________________________________________________________\n",
            "conv2d_2 (Conv2D)            (None, 32, 32, 64)        18496     \n",
            "_________________________________________________________________\n",
            "activation_2 (Activation)    (None, 32, 32, 64)        0         \n",
            "_________________________________________________________________\n",
            "batch_normalization_2 (Batch (None, 32, 32, 64)        256       \n",
            "_________________________________________________________________\n",
            "max_pooling2d_1 (MaxPooling2 (None, 16, 16, 64)        0         \n",
            "_________________________________________________________________\n",
            "dropout_1 (Dropout)          (None, 16, 16, 64)        0         \n",
            "_________________________________________________________________\n",
            "conv2d_3 (Conv2D)            (None, 16, 16, 32)        2080      \n",
            "_________________________________________________________________\n",
            "conv2d_4 (Conv2D)            (None, 16, 16, 64)        18496     \n",
            "_________________________________________________________________\n",
            "activation_3 (Activation)    (None, 16, 16, 64)        0         \n",
            "_________________________________________________________________\n",
            "batch_normalization_3 (Batch (None, 16, 16, 64)        256       \n",
            "_________________________________________________________________\n",
            "conv2d_5 (Conv2D)            (None, 16, 16, 128)       73856     \n",
            "_________________________________________________________________\n",
            "activation_4 (Activation)    (None, 16, 16, 128)       0         \n",
            "_________________________________________________________________\n",
            "batch_normalization_4 (Batch (None, 16, 16, 128)       512       \n",
            "_________________________________________________________________\n",
            "max_pooling2d_2 (MaxPooling2 (None, 8, 8, 128)         0         \n",
            "_________________________________________________________________\n",
            "dropout_2 (Dropout)          (None, 8, 8, 128)         0         \n",
            "_________________________________________________________________\n",
            "conv2d_6 (Conv2D)            (None, 8, 8, 32)          4128      \n",
            "_________________________________________________________________\n",
            "conv2d_7 (Conv2D)            (None, 8, 8, 128)         36992     \n",
            "_________________________________________________________________\n",
            "activation_5 (Activation)    (None, 8, 8, 128)         0         \n",
            "_________________________________________________________________\n",
            "batch_normalization_5 (Batch (None, 8, 8, 128)         512       \n",
            "_________________________________________________________________\n",
            "conv2d_8 (Conv2D)            (None, 8, 8, 256)         295168    \n",
            "_________________________________________________________________\n",
            "activation_6 (Activation)    (None, 8, 8, 256)         0         \n",
            "_________________________________________________________________\n",
            "batch_normalization_6 (Batch (None, 8, 8, 256)         1024      \n",
            "_________________________________________________________________\n",
            "max_pooling2d_3 (MaxPooling2 (None, 4, 4, 256)         0         \n",
            "_________________________________________________________________\n",
            "dropout_3 (Dropout)          (None, 4, 4, 256)         0         \n",
            "_________________________________________________________________\n",
            "conv2d_9 (Conv2D)            (None, 4, 4, 10)          2570      \n",
            "_________________________________________________________________\n",
            "average_pooling2d_1 (Average (None, 1, 1, 10)          0         \n",
            "_________________________________________________________________\n",
            "flatten_1 (Flatten)          (None, 10)                0         \n",
            "_________________________________________________________________\n",
            "activation_7 (Activation)    (None, 10)                0         \n",
            "=================================================================\n",
            "Total params: 455,370\n",
            "Trainable params: 454,026\n",
            "Non-trainable params: 1,344\n",
            "_________________________________________________________________\n"
          ],
          "name": "stdout"
        }
      ]
    },
    {
      "cell_type": "code",
      "metadata": {
        "id": "DW_WB1T5kmJw",
        "colab_type": "code",
        "colab": {}
      },
      "source": [
        "from random_eraser import get_random_eraser\n",
        "datagen = ImageDataGenerator(horizontal_flip=True,\n",
        "                             featurewise_center=True, featurewise_std_normalization=True,\n",
        "                             preprocessing_function=get_random_eraser(v_l=0, v_h=1, pixel_level=False))\n",
        "\n",
        "testgen = ImageDataGenerator(featurewise_center=True, featurewise_std_normalization=True)\n",
        "num_samples = X_train.shape[0]\n",
        "batch_size=128"
      ],
      "execution_count": 0,
      "outputs": []
    },
    {
      "cell_type": "code",
      "metadata": {
        "id": "vDcN1koNxWRM",
        "colab_type": "code",
        "colab": {}
      },
      "source": [
        "!git clone https://github.com/titu1994/keras-one-cycle"
      ],
      "execution_count": 0,
      "outputs": []
    },
    {
      "cell_type": "code",
      "metadata": {
        "id": "2bRK-xJrxZnx",
        "colab_type": "code",
        "colab": {}
      },
      "source": [
        "!cp keras-one-cycle/* ."
      ],
      "execution_count": 0,
      "outputs": []
    },
    {
      "cell_type": "code",
      "metadata": {
        "id": "Tq--NeoDNwI4",
        "colab_type": "code",
        "colab": {}
      },
      "source": [
        "from clr import LRFinder\n",
        "\n",
        "\n",
        "lr_callback = LRFinder(num_samples, batch_size,\n",
        "                       minimum_lr=1e-3, maximum_lr=1.,\n",
        "                       # validation_data=(X_val, Y_val),\n",
        "                       lr_scale='exp', save_dir='Lr/')\n",
        "\n",
        "# Ensure that number of epochs = 1 when calling fit()\n",
        "model1.fit_generator(testgen.flow(X_train, y_train, batch_size=batch_size), epochs=1, callbacks=[lr_callback], steps_per_epoch=num_samples// batch_size)"
      ],
      "execution_count": 0,
      "outputs": []
    },
    {
      "cell_type": "code",
      "metadata": {
        "id": "JSvrqht3QO6g",
        "colab_type": "code",
        "colab": {}
      },
      "source": [
        "LRFinder.plot_schedule_from_file('Lr/', clip_beginning=10, clip_endding=5)"
      ],
      "execution_count": 0,
      "outputs": []
    },
    {
      "cell_type": "code",
      "metadata": {
        "id": "MBMF5u2fkKwU",
        "colab_type": "code",
        "colab": {}
      },
      "source": [
        "WEIGHT_DECAY_FACTORS = [1e-7, 3e-7, 3e-6]\n",
        "for weight_decay in WEIGHT_DECAY_FACTORS:\n",
        "    directory = 'weights/weight_decay/weight_decay-%s/' % str(weight_decay)\n",
        "\n",
        "    losses, lrs = LRFinder.restore_schedule_from_dir(directory, 10, 5)\n",
        "    plt.plot(x = lrs, y = losses, label='weight_decay=%0.7f' % weight_decay)\n",
        "\n",
        "plt.title(\"Weight Decay\")\n",
        "plt.xlabel(\"Learning rate\")\n",
        "plt.ylabel(\"Validation Loss\")\n",
        "plt.legend()\n",
        "plt.show()"
      ],
      "execution_count": 0,
      "outputs": []
    },
    {
      "cell_type": "code",
      "metadata": {
        "id": "sisViZl6dFLy",
        "colab_type": "code",
        "colab": {
          "base_uri": "https://localhost:8080/",
          "height": 74
        },
        "outputId": "b3d80f2f-0ef3-4dca-8acf-30c9482374b2"
      },
      "source": [
        "from keras.optimizers import SGD\n",
        "# Compile the model\n",
        "sgd = SGD(lr=0.000001, momentum=0.9, decay = (0.000125 * batch_size), nesterov=True)\n",
        "model1.compile(optimizer=sgd, loss='categorical_crossentropy', metrics=['accuracy'])"
      ],
      "execution_count": 15,
      "outputs": [
        {
          "output_type": "stream",
          "text": [
            "W0724 14:23:22.213223 139838103525248 deprecation_wrapper.py:119] From /usr/local/lib/python3.6/dist-packages/keras/optimizers.py:790: The name tf.train.Optimizer is deprecated. Please use tf.compat.v1.train.Optimizer instead.\n",
            "\n"
          ],
          "name": "stderr"
        }
      ]
    },
    {
      "cell_type": "code",
      "metadata": {
        "id": "ESYJGCXf_X7s",
        "colab_type": "code",
        "outputId": "27730d50-ceb3-40be-a51e-8abe73e225fe",
        "colab": {
          "base_uri": "https://localhost:8080/",
          "height": 90
        }
      },
      "source": [
        "!ls\n"
      ],
      "execution_count": 0,
      "outputs": [
        {
          "output_type": "stream",
          "text": [
            "cifar10_resnet.py      example.ipynb\tLr\t\t  README.md\n",
            "clr.py\t\t       example.png\tplot_clr.py\t  sample_data\n",
            "cutout-random-erasing  keras-one-cycle\t__pycache__\n",
            "example2.png\t       LICENSE\t\trandom_eraser.py\n"
          ],
          "name": "stdout"
        }
      ]
    },
    {
      "cell_type": "code",
      "metadata": {
        "id": "ulKQ6KmH8sfa",
        "colab_type": "code",
        "colab": {}
      },
      "source": [
        "batch_size = 512\n",
        "epochs = 100\n",
        "max_lr = 0.5\n",
        "base_lr = max_lr/10000\n",
        "max_m = 0.98\n",
        "base_m = 0.85\n",
        "\n",
        "cyclical_momentum = True\n",
        "augment = True\n",
        "cycles = 2.35\n",
        "\n",
        "iterations = round(num_samples/batch_size*epochs)\n",
        "iterations = list(range(0,iterations+1))\n",
        "step_size = len(iterations)/(cycles)\n"
      ],
      "execution_count": 0,
      "outputs": []
    },
    {
      "cell_type": "code",
      "metadata": {
        "id": "uWcgRvY3-FON",
        "colab_type": "code",
        "colab": {}
      },
      "source": [
        "clr =  CyclicLR(base_lr=base_lr,\n",
        "                max_lr=max_lr,\n",
        "                step_size=step_size,\n",
        "                max_m=max_m,\n",
        "                base_m=base_m,\n",
        "                cyclical_momentum=cyclical_momentum)\n",
        "    \n",
        "callbacks = [clr,\n",
        "            ModelCheckpoint(filepath='best_model.h5', monitor='val_loss',mode='min',verbose=1,save_best_only=True)]"
      ],
      "execution_count": 0,
      "outputs": []
    },
    {
      "cell_type": "code",
      "metadata": {
        "id": "XnIehfkZ83Mp",
        "colab_type": "code",
        "outputId": "24fa6c6a-fe9d-4795-fde2-9683369e695f",
        "colab": {
          "base_uri": "https://localhost:8080/",
          "height": 1000
        }
      },
      "source": [
        "hist = model1.fit_generator(datagen.flow(X_train, y_train, batch_size=batch_size), validation_data=testgen.flow(X_test, y_test, batch_size=batch_size), epochs=epochs, callbacks=callbacks, validation_steps=100, steps_per_epoch=num_samples// batch_size)"
      ],
      "execution_count": 18,
      "outputs": [
        {
          "output_type": "stream",
          "text": [
            "W0724 14:23:33.047969 139838103525248 deprecation.py:323] From /usr/local/lib/python3.6/dist-packages/tensorflow/python/ops/math_grad.py:1250: add_dispatch_support.<locals>.wrapper (from tensorflow.python.ops.array_ops) is deprecated and will be removed in a future version.\n",
            "Instructions for updating:\n",
            "Use tf.where in 2.0, which has the same broadcast rule as np.where\n"
          ],
          "name": "stderr"
        },
        {
          "output_type": "stream",
          "text": [
            "Epoch 1/100\n"
          ],
          "name": "stdout"
        },
        {
          "output_type": "stream",
          "text": [
            "/usr/local/lib/python3.6/dist-packages/keras_preprocessing/image/image_data_generator.py:716: UserWarning: This ImageDataGenerator specifies `featurewise_center`, but it hasn't been fit on any training data. Fit it first by calling `.fit(numpy_data)`.\n",
            "  warnings.warn('This ImageDataGenerator specifies '\n",
            "/usr/local/lib/python3.6/dist-packages/keras_preprocessing/image/image_data_generator.py:724: UserWarning: This ImageDataGenerator specifies `featurewise_std_normalization`, but it hasn't been fit on any training data. Fit it first by calling `.fit(numpy_data)`.\n",
            "  warnings.warn('This ImageDataGenerator specifies '\n"
          ],
          "name": "stderr"
        },
        {
          "output_type": "stream",
          "text": [
            "97/97 [==============================] - 28s 292ms/step - loss: 1.9612 - acc: 0.3359 - val_loss: 6.5201 - val_acc: 0.2427\n",
            "\n",
            "Epoch 00001: val_loss improved from inf to 6.52014, saving model to best_model.h5\n",
            "Epoch 2/100\n",
            "97/97 [==============================] - 25s 262ms/step - loss: 1.2785 - acc: 0.5574 - val_loss: 8.9788 - val_acc: 0.1436\n",
            "\n",
            "Epoch 00002: val_loss did not improve from 6.52014\n",
            "Epoch 3/100\n",
            "97/97 [==============================] - 25s 253ms/step - loss: 1.0881 - acc: 0.6295 - val_loss: 2.2501 - val_acc: 0.4665\n",
            "\n",
            "Epoch 00003: val_loss improved from 6.52014 to 2.25009, saving model to best_model.h5\n",
            "Epoch 4/100\n",
            "97/97 [==============================] - 25s 253ms/step - loss: 0.9662 - acc: 0.6761 - val_loss: 1.7238 - val_acc: 0.5332\n",
            "\n",
            "Epoch 00004: val_loss improved from 2.25009 to 1.72375, saving model to best_model.h5\n",
            "Epoch 5/100\n",
            "97/97 [==============================] - 25s 254ms/step - loss: 0.8861 - acc: 0.7069 - val_loss: 1.2711 - val_acc: 0.6387\n",
            "\n",
            "Epoch 00005: val_loss improved from 1.72375 to 1.27110, saving model to best_model.h5\n",
            "Epoch 6/100\n",
            "97/97 [==============================] - 25s 254ms/step - loss: 0.8318 - acc: 0.7297 - val_loss: 0.9397 - val_acc: 0.7249\n",
            "\n",
            "Epoch 00006: val_loss improved from 1.27110 to 0.93974, saving model to best_model.h5\n",
            "Epoch 7/100\n",
            "97/97 [==============================] - 25s 255ms/step - loss: 0.7950 - acc: 0.7487 - val_loss: 0.8451 - val_acc: 0.7452\n",
            "\n",
            "Epoch 00007: val_loss improved from 0.93974 to 0.84507, saving model to best_model.h5\n",
            "Epoch 8/100\n",
            "97/97 [==============================] - 25s 253ms/step - loss: 0.7621 - acc: 0.7639 - val_loss: 0.8899 - val_acc: 0.7451\n",
            "\n",
            "Epoch 00008: val_loss did not improve from 0.84507\n",
            "Epoch 9/100\n",
            "97/97 [==============================] - 24s 252ms/step - loss: 0.7389 - acc: 0.7753 - val_loss: 0.9197 - val_acc: 0.7442\n",
            "\n",
            "Epoch 00009: val_loss did not improve from 0.84507\n",
            "Epoch 10/100\n",
            "97/97 [==============================] - 25s 254ms/step - loss: 0.7243 - acc: 0.7816 - val_loss: 0.9549 - val_acc: 0.7310\n",
            "\n",
            "Epoch 00010: val_loss did not improve from 0.84507\n",
            "Epoch 11/100\n",
            "97/97 [==============================] - 25s 254ms/step - loss: 0.7131 - acc: 0.7905 - val_loss: 0.9549 - val_acc: 0.7281\n",
            "\n",
            "Epoch 00011: val_loss did not improve from 0.84507\n",
            "Epoch 12/100\n",
            "97/97 [==============================] - 25s 254ms/step - loss: 0.6926 - acc: 0.7983 - val_loss: 0.7506 - val_acc: 0.7906\n",
            "\n",
            "Epoch 00012: val_loss improved from 0.84507 to 0.75059, saving model to best_model.h5\n",
            "Epoch 13/100\n",
            "97/97 [==============================] - 25s 255ms/step - loss: 0.6856 - acc: 0.8036 - val_loss: 0.8465 - val_acc: 0.7812\n",
            "\n",
            "Epoch 00013: val_loss did not improve from 0.75059\n",
            "Epoch 14/100\n",
            "97/97 [==============================] - 25s 255ms/step - loss: 0.6828 - acc: 0.8064 - val_loss: 0.7258 - val_acc: 0.7994\n",
            "\n",
            "Epoch 00014: val_loss improved from 0.75059 to 0.72580, saving model to best_model.h5\n",
            "Epoch 15/100\n",
            "97/97 [==============================] - 25s 257ms/step - loss: 0.6670 - acc: 0.8126 - val_loss: 0.6742 - val_acc: 0.8221\n",
            "\n",
            "Epoch 00015: val_loss improved from 0.72580 to 0.67421, saving model to best_model.h5\n",
            "Epoch 16/100\n",
            "97/97 [==============================] - 25s 258ms/step - loss: 0.6685 - acc: 0.8144 - val_loss: 0.6864 - val_acc: 0.8183\n",
            "\n",
            "Epoch 00016: val_loss did not improve from 0.67421\n",
            "Epoch 17/100\n",
            "97/97 [==============================] - 25s 257ms/step - loss: 0.6671 - acc: 0.8188 - val_loss: 0.7390 - val_acc: 0.8101\n",
            "\n",
            "Epoch 00017: val_loss did not improve from 0.67421\n",
            "Epoch 18/100\n",
            "97/97 [==============================] - 25s 257ms/step - loss: 0.6541 - acc: 0.8255 - val_loss: 0.8494 - val_acc: 0.7791\n",
            "\n",
            "Epoch 00018: val_loss did not improve from 0.67421\n",
            "Epoch 19/100\n",
            "97/97 [==============================] - 25s 255ms/step - loss: 0.6563 - acc: 0.8242 - val_loss: 0.7993 - val_acc: 0.7855\n",
            "\n",
            "Epoch 00019: val_loss did not improve from 0.67421\n",
            "Epoch 20/100\n",
            "97/97 [==============================] - 25s 257ms/step - loss: 0.6439 - acc: 0.8307 - val_loss: 0.7734 - val_acc: 0.8115\n",
            "\n",
            "Epoch 00020: val_loss did not improve from 0.67421\n",
            "Epoch 21/100\n",
            "97/97 [==============================] - 25s 257ms/step - loss: 0.6430 - acc: 0.8317 - val_loss: 0.6968 - val_acc: 0.8183\n",
            "\n",
            "Epoch 00021: val_loss did not improve from 0.67421\n",
            "Epoch 22/100\n",
            "97/97 [==============================] - 25s 258ms/step - loss: 0.6464 - acc: 0.8319 - val_loss: 0.7461 - val_acc: 0.8136\n",
            "\n",
            "Epoch 00022: val_loss did not improve from 0.67421\n",
            "Epoch 23/100\n",
            "97/97 [==============================] - 25s 259ms/step - loss: 0.6417 - acc: 0.8359 - val_loss: 0.7126 - val_acc: 0.8208\n",
            "\n",
            "Epoch 00023: val_loss did not improve from 0.67421\n",
            "Epoch 24/100\n",
            "97/97 [==============================] - 25s 261ms/step - loss: 0.6388 - acc: 0.8363 - val_loss: 0.7234 - val_acc: 0.8216\n",
            "\n",
            "Epoch 00024: val_loss did not improve from 0.67421\n",
            "Epoch 25/100\n",
            "97/97 [==============================] - 25s 259ms/step - loss: 0.6359 - acc: 0.8383 - val_loss: 0.6923 - val_acc: 0.8318\n",
            "\n",
            "Epoch 00025: val_loss did not improve from 0.67421\n",
            "Epoch 26/100\n",
            "97/97 [==============================] - 25s 259ms/step - loss: 0.6415 - acc: 0.8386 - val_loss: 0.8374 - val_acc: 0.7828\n",
            "\n",
            "Epoch 00026: val_loss did not improve from 0.67421\n",
            "Epoch 27/100\n",
            "97/97 [==============================] - 25s 258ms/step - loss: 0.6441 - acc: 0.8373 - val_loss: 0.6532 - val_acc: 0.8444\n",
            "\n",
            "Epoch 00027: val_loss improved from 0.67421 to 0.65321, saving model to best_model.h5\n",
            "Epoch 28/100\n",
            "97/97 [==============================] - 25s 259ms/step - loss: 0.6378 - acc: 0.8401 - val_loss: 0.7333 - val_acc: 0.8172\n",
            "\n",
            "Epoch 00028: val_loss did not improve from 0.65321\n",
            "Epoch 29/100\n",
            "97/97 [==============================] - 25s 260ms/step - loss: 0.6354 - acc: 0.8423 - val_loss: 0.9134 - val_acc: 0.7716\n",
            "\n",
            "Epoch 00029: val_loss did not improve from 0.65321\n",
            "Epoch 30/100\n",
            "97/97 [==============================] - 25s 257ms/step - loss: 0.6403 - acc: 0.8410 - val_loss: 0.8249 - val_acc: 0.7869\n",
            "\n",
            "Epoch 00030: val_loss did not improve from 0.65321\n",
            "Epoch 31/100\n",
            "97/97 [==============================] - 25s 254ms/step - loss: 0.6333 - acc: 0.8456 - val_loss: 0.6565 - val_acc: 0.8437\n",
            "\n",
            "Epoch 00031: val_loss did not improve from 0.65321\n",
            "Epoch 32/100\n",
            "97/97 [==============================] - 24s 253ms/step - loss: 0.6394 - acc: 0.8434 - val_loss: 0.7234 - val_acc: 0.8200\n",
            "\n",
            "Epoch 00032: val_loss did not improve from 0.65321\n",
            "Epoch 33/100\n",
            "97/97 [==============================] - 25s 253ms/step - loss: 0.6362 - acc: 0.8454 - val_loss: 0.7148 - val_acc: 0.8254\n",
            "\n",
            "Epoch 00033: val_loss did not improve from 0.65321\n",
            "Epoch 34/100\n",
            "97/97 [==============================] - 25s 254ms/step - loss: 0.6333 - acc: 0.8458 - val_loss: 0.8469 - val_acc: 0.7929\n",
            "\n",
            "Epoch 00034: val_loss did not improve from 0.65321\n",
            "Epoch 35/100\n",
            "97/97 [==============================] - 24s 252ms/step - loss: 0.6262 - acc: 0.8490 - val_loss: 0.7756 - val_acc: 0.8055\n",
            "\n",
            "Epoch 00035: val_loss did not improve from 0.65321\n",
            "Epoch 36/100\n",
            "97/97 [==============================] - 25s 256ms/step - loss: 0.6327 - acc: 0.8480 - val_loss: 0.7084 - val_acc: 0.8306\n",
            "\n",
            "Epoch 00036: val_loss did not improve from 0.65321\n",
            "Epoch 37/100\n",
            "97/97 [==============================] - 25s 260ms/step - loss: 0.6387 - acc: 0.8464 - val_loss: 0.6865 - val_acc: 0.8308\n",
            "\n",
            "Epoch 00037: val_loss did not improve from 0.65321\n",
            "Epoch 38/100\n",
            "97/97 [==============================] - 25s 257ms/step - loss: 0.6252 - acc: 0.8528 - val_loss: 0.8218 - val_acc: 0.7902\n",
            "\n",
            "Epoch 00038: val_loss did not improve from 0.65321\n",
            "Epoch 39/100\n",
            "97/97 [==============================] - 25s 253ms/step - loss: 0.6351 - acc: 0.8486 - val_loss: 0.7204 - val_acc: 0.8361\n",
            "\n",
            "Epoch 00039: val_loss did not improve from 0.65321\n",
            "Epoch 40/100\n",
            "97/97 [==============================] - 24s 251ms/step - loss: 0.6363 - acc: 0.8489 - val_loss: 0.6667 - val_acc: 0.8521\n",
            "\n",
            "Epoch 00040: val_loss did not improve from 0.65321\n",
            "Epoch 41/100\n",
            "97/97 [==============================] - 25s 254ms/step - loss: 0.6320 - acc: 0.8493 - val_loss: 0.8041 - val_acc: 0.8077\n",
            "\n",
            "Epoch 00041: val_loss did not improve from 0.65321\n",
            "Epoch 42/100\n",
            "97/97 [==============================] - 25s 254ms/step - loss: 0.6259 - acc: 0.8515 - val_loss: 0.7559 - val_acc: 0.8308\n",
            "\n",
            "Epoch 00042: val_loss did not improve from 0.65321\n",
            "Epoch 43/100\n",
            "97/97 [==============================] - 25s 253ms/step - loss: 0.6412 - acc: 0.8479 - val_loss: 0.7958 - val_acc: 0.8092\n",
            "\n",
            "Epoch 00043: val_loss did not improve from 0.65321\n",
            "Epoch 44/100\n",
            "97/97 [==============================] - 24s 252ms/step - loss: 0.6348 - acc: 0.8500 - val_loss: 0.8917 - val_acc: 0.7824\n",
            "\n",
            "Epoch 00044: val_loss did not improve from 0.65321\n",
            "Epoch 45/100\n",
            "97/97 [==============================] - 25s 256ms/step - loss: 0.6322 - acc: 0.8524 - val_loss: 0.8710 - val_acc: 0.7989\n",
            "\n",
            "Epoch 00045: val_loss did not improve from 0.65321\n",
            "Epoch 46/100\n",
            "97/97 [==============================] - 25s 256ms/step - loss: 0.6278 - acc: 0.8559 - val_loss: 0.7068 - val_acc: 0.8411\n",
            "\n",
            "Epoch 00046: val_loss did not improve from 0.65321\n",
            "Epoch 47/100\n",
            "97/97 [==============================] - 25s 257ms/step - loss: 0.6268 - acc: 0.8555 - val_loss: 0.8322 - val_acc: 0.7945\n",
            "\n",
            "Epoch 00047: val_loss did not improve from 0.65321\n",
            "Epoch 48/100\n",
            "97/97 [==============================] - 25s 256ms/step - loss: 0.6269 - acc: 0.8543 - val_loss: 0.6610 - val_acc: 0.8480\n",
            "\n",
            "Epoch 00048: val_loss did not improve from 0.65321\n",
            "Epoch 49/100\n",
            "97/97 [==============================] - 25s 253ms/step - loss: 0.6246 - acc: 0.8571 - val_loss: 0.6532 - val_acc: 0.8532\n",
            "\n",
            "Epoch 00049: val_loss improved from 0.65321 to 0.65321, saving model to best_model.h5\n",
            "Epoch 50/100\n",
            "97/97 [==============================] - 25s 253ms/step - loss: 0.6164 - acc: 0.8580 - val_loss: 0.8691 - val_acc: 0.7988\n",
            "\n",
            "Epoch 00050: val_loss did not improve from 0.65321\n",
            "Epoch 51/100\n",
            "97/97 [==============================] - 25s 254ms/step - loss: 0.6198 - acc: 0.8571 - val_loss: 0.7342 - val_acc: 0.8253\n",
            "\n",
            "Epoch 00051: val_loss did not improve from 0.65321\n",
            "Epoch 52/100\n",
            "97/97 [==============================] - 25s 255ms/step - loss: 0.6152 - acc: 0.8592 - val_loss: 0.7072 - val_acc: 0.8429\n",
            "\n",
            "Epoch 00052: val_loss did not improve from 0.65321\n",
            "Epoch 53/100\n",
            "97/97 [==============================] - 25s 255ms/step - loss: 0.6118 - acc: 0.8605 - val_loss: 0.7443 - val_acc: 0.8308\n",
            "\n",
            "Epoch 00053: val_loss did not improve from 0.65321\n",
            "Epoch 54/100\n",
            "97/97 [==============================] - 25s 256ms/step - loss: 0.6056 - acc: 0.8619 - val_loss: 0.6605 - val_acc: 0.8539\n",
            "\n",
            "Epoch 00054: val_loss did not improve from 0.65321\n",
            "Epoch 55/100\n",
            "97/97 [==============================] - 25s 257ms/step - loss: 0.6036 - acc: 0.8623 - val_loss: 0.6913 - val_acc: 0.8422\n",
            "\n",
            "Epoch 00055: val_loss did not improve from 0.65321\n",
            "Epoch 56/100\n",
            "97/97 [==============================] - 25s 255ms/step - loss: 0.6107 - acc: 0.8599 - val_loss: 0.8877 - val_acc: 0.7761\n",
            "\n",
            "Epoch 00056: val_loss did not improve from 0.65321\n",
            "Epoch 57/100\n",
            "97/97 [==============================] - 25s 256ms/step - loss: 0.5979 - acc: 0.8638 - val_loss: 0.6924 - val_acc: 0.8427\n",
            "\n",
            "Epoch 00057: val_loss did not improve from 0.65321\n",
            "Epoch 58/100\n",
            "97/97 [==============================] - 25s 256ms/step - loss: 0.5997 - acc: 0.8647 - val_loss: 0.7434 - val_acc: 0.8295\n",
            "\n",
            "Epoch 00058: val_loss did not improve from 0.65321\n",
            "Epoch 59/100\n",
            "97/97 [==============================] - 25s 257ms/step - loss: 0.5970 - acc: 0.8655 - val_loss: 0.6754 - val_acc: 0.8477\n",
            "\n",
            "Epoch 00059: val_loss did not improve from 0.65321\n",
            "Epoch 60/100\n",
            "97/97 [==============================] - 25s 257ms/step - loss: 0.5986 - acc: 0.8649 - val_loss: 0.7042 - val_acc: 0.8380\n",
            "\n",
            "Epoch 00060: val_loss did not improve from 0.65321\n",
            "Epoch 61/100\n",
            "97/97 [==============================] - 25s 258ms/step - loss: 0.5940 - acc: 0.8665 - val_loss: 0.7097 - val_acc: 0.8307\n",
            "\n",
            "Epoch 00061: val_loss did not improve from 0.65321\n",
            "Epoch 62/100\n",
            "97/97 [==============================] - 25s 258ms/step - loss: 0.5905 - acc: 0.8655 - val_loss: 0.7131 - val_acc: 0.8413\n",
            "\n",
            "Epoch 00062: val_loss did not improve from 0.65321\n",
            "Epoch 63/100\n",
            "97/97 [==============================] - 25s 257ms/step - loss: 0.5862 - acc: 0.8666 - val_loss: 0.6568 - val_acc: 0.8547\n",
            "\n",
            "Epoch 00063: val_loss did not improve from 0.65321\n",
            "Epoch 64/100\n",
            "97/97 [==============================] - 25s 256ms/step - loss: 0.5829 - acc: 0.8674 - val_loss: 0.6396 - val_acc: 0.8621\n",
            "\n",
            "Epoch 00064: val_loss improved from 0.65321 to 0.63956, saving model to best_model.h5\n",
            "Epoch 65/100\n",
            "97/97 [==============================] - 25s 257ms/step - loss: 0.5871 - acc: 0.8678 - val_loss: 0.7142 - val_acc: 0.8396\n",
            "\n",
            "Epoch 00065: val_loss did not improve from 0.63956\n",
            "Epoch 66/100\n",
            "97/97 [==============================] - 25s 257ms/step - loss: 0.5789 - acc: 0.8710 - val_loss: 0.6761 - val_acc: 0.8479\n",
            "\n",
            "Epoch 00066: val_loss did not improve from 0.63956\n",
            "Epoch 67/100\n",
            "97/97 [==============================] - 25s 257ms/step - loss: 0.5758 - acc: 0.8705 - val_loss: 0.6509 - val_acc: 0.8507\n",
            "\n",
            "Epoch 00067: val_loss did not improve from 0.63956\n",
            "Epoch 68/100\n",
            "97/97 [==============================] - 25s 258ms/step - loss: 0.5725 - acc: 0.8724 - val_loss: 0.6756 - val_acc: 0.8466\n",
            "\n",
            "Epoch 00068: val_loss did not improve from 0.63956\n",
            "Epoch 69/100\n",
            "97/97 [==============================] - 25s 259ms/step - loss: 0.5710 - acc: 0.8720 - val_loss: 0.5995 - val_acc: 0.8725\n",
            "\n",
            "Epoch 00069: val_loss improved from 0.63956 to 0.59945, saving model to best_model.h5\n",
            "Epoch 70/100\n",
            "97/97 [==============================] - 25s 259ms/step - loss: 0.5636 - acc: 0.8745 - val_loss: 0.6055 - val_acc: 0.8656\n",
            "\n",
            "Epoch 00070: val_loss did not improve from 0.59945\n",
            "Epoch 71/100\n",
            "97/97 [==============================] - 25s 256ms/step - loss: 0.5674 - acc: 0.8720 - val_loss: 0.6825 - val_acc: 0.8475\n",
            "\n",
            "Epoch 00071: val_loss did not improve from 0.59945\n",
            "Epoch 72/100\n",
            "97/97 [==============================] - 24s 252ms/step - loss: 0.5612 - acc: 0.8743 - val_loss: 0.6415 - val_acc: 0.8580\n",
            "\n",
            "Epoch 00072: val_loss did not improve from 0.59945\n",
            "Epoch 73/100\n",
            "97/97 [==============================] - 24s 252ms/step - loss: 0.5506 - acc: 0.8774 - val_loss: 0.6767 - val_acc: 0.8503\n",
            "\n",
            "Epoch 00073: val_loss did not improve from 0.59945\n",
            "Epoch 74/100\n",
            "97/97 [==============================] - 25s 255ms/step - loss: 0.5538 - acc: 0.8773 - val_loss: 0.7168 - val_acc: 0.8332\n",
            "\n",
            "Epoch 00074: val_loss did not improve from 0.59945\n",
            "Epoch 75/100\n",
            "97/97 [==============================] - 25s 259ms/step - loss: 0.5495 - acc: 0.8771 - val_loss: 0.6594 - val_acc: 0.8531\n",
            "\n",
            "Epoch 00075: val_loss did not improve from 0.59945\n",
            "Epoch 76/100\n",
            "97/97 [==============================] - 25s 256ms/step - loss: 0.5431 - acc: 0.8802 - val_loss: 0.6469 - val_acc: 0.8550\n",
            "\n",
            "Epoch 00076: val_loss did not improve from 0.59945\n",
            "Epoch 77/100\n",
            "97/97 [==============================] - 24s 251ms/step - loss: 0.5364 - acc: 0.8800 - val_loss: 0.6691 - val_acc: 0.8443\n",
            "\n",
            "Epoch 00077: val_loss did not improve from 0.59945\n",
            "Epoch 78/100\n",
            "97/97 [==============================] - 24s 252ms/step - loss: 0.5194 - acc: 0.8859 - val_loss: 0.5830 - val_acc: 0.8700\n",
            "\n",
            "Epoch 00078: val_loss improved from 0.59945 to 0.58302, saving model to best_model.h5\n",
            "Epoch 79/100\n",
            "97/97 [==============================] - 24s 251ms/step - loss: 0.5128 - acc: 0.8876 - val_loss: 0.7675 - val_acc: 0.8227\n",
            "\n",
            "Epoch 00079: val_loss did not improve from 0.58302\n",
            "Epoch 80/100\n",
            "97/97 [==============================] - 25s 253ms/step - loss: 0.5034 - acc: 0.8906 - val_loss: 1.1498 - val_acc: 0.7634\n",
            "\n",
            "Epoch 00080: val_loss did not improve from 0.58302\n",
            "Epoch 81/100\n",
            "97/97 [==============================] - 25s 255ms/step - loss: 0.4983 - acc: 0.8914 - val_loss: 0.5677 - val_acc: 0.8773\n",
            "\n",
            "Epoch 00081: val_loss improved from 0.58302 to 0.56766, saving model to best_model.h5\n",
            "Epoch 82/100\n",
            "97/97 [==============================] - 25s 256ms/step - loss: 0.4796 - acc: 0.8975 - val_loss: 0.5927 - val_acc: 0.8716\n",
            "\n",
            "Epoch 00082: val_loss did not improve from 0.56766\n",
            "Epoch 83/100\n",
            "97/97 [==============================] - 25s 255ms/step - loss: 0.4631 - acc: 0.9025 - val_loss: 0.5013 - val_acc: 0.8955\n",
            "\n",
            "Epoch 00083: val_loss improved from 0.56766 to 0.50131, saving model to best_model.h5\n",
            "Epoch 84/100\n",
            "97/97 [==============================] - 25s 253ms/step - loss: 0.4514 - acc: 0.9039 - val_loss: 0.5265 - val_acc: 0.8856\n",
            "\n",
            "Epoch 00084: val_loss did not improve from 0.50131\n",
            "Epoch 85/100\n",
            "97/97 [==============================] - 25s 253ms/step - loss: 0.4288 - acc: 0.9117 - val_loss: 0.4799 - val_acc: 0.9001\n",
            "\n",
            "Epoch 00085: val_loss improved from 0.50131 to 0.47994, saving model to best_model.h5\n",
            "Epoch 86/100\n",
            "97/97 [==============================] - 25s 254ms/step - loss: 0.4120 - acc: 0.9163 - val_loss: 0.5840 - val_acc: 0.8682\n",
            "\n",
            "Epoch 00086: val_loss did not improve from 0.47994\n",
            "Epoch 87/100\n",
            "97/97 [==============================] - 24s 252ms/step - loss: 0.4203 - acc: 0.9132 - val_loss: 0.4829 - val_acc: 0.9027\n",
            "\n",
            "Epoch 00087: val_loss did not improve from 0.47994\n",
            "Epoch 88/100\n",
            "97/97 [==============================] - 25s 254ms/step - loss: 0.4132 - acc: 0.9162 - val_loss: 0.4694 - val_acc: 0.9072\n",
            "\n",
            "Epoch 00088: val_loss improved from 0.47994 to 0.46937, saving model to best_model.h5\n",
            "Epoch 89/100\n",
            "97/97 [==============================] - 25s 253ms/step - loss: 0.4054 - acc: 0.9189 - val_loss: 0.4630 - val_acc: 0.9091\n",
            "\n",
            "Epoch 00089: val_loss improved from 0.46937 to 0.46303, saving model to best_model.h5\n",
            "Epoch 90/100\n",
            "97/97 [==============================] - 25s 253ms/step - loss: 0.4042 - acc: 0.9187 - val_loss: 0.4595 - val_acc: 0.9103\n",
            "\n",
            "Epoch 00090: val_loss improved from 0.46303 to 0.45955, saving model to best_model.h5\n",
            "Epoch 91/100\n",
            "97/97 [==============================] - 25s 254ms/step - loss: 0.4036 - acc: 0.9186 - val_loss: 0.4576 - val_acc: 0.9103\n",
            "\n",
            "Epoch 00091: val_loss improved from 0.45955 to 0.45759, saving model to best_model.h5\n",
            "Epoch 92/100\n",
            "97/97 [==============================] - 25s 253ms/step - loss: 0.4006 - acc: 0.9202 - val_loss: 0.4563 - val_acc: 0.9106\n",
            "\n",
            "Epoch 00092: val_loss improved from 0.45759 to 0.45626, saving model to best_model.h5\n",
            "Epoch 93/100\n",
            "97/97 [==============================] - 25s 254ms/step - loss: 0.4010 - acc: 0.9197 - val_loss: 0.4554 - val_acc: 0.9107\n",
            "\n",
            "Epoch 00093: val_loss improved from 0.45626 to 0.45538, saving model to best_model.h5\n",
            "Epoch 94/100\n",
            "97/97 [==============================] - 25s 254ms/step - loss: 0.3993 - acc: 0.9205 - val_loss: 0.4546 - val_acc: 0.9114\n",
            "\n",
            "Epoch 00094: val_loss improved from 0.45538 to 0.45461, saving model to best_model.h5\n",
            "Epoch 95/100\n",
            "97/97 [==============================] - 24s 252ms/step - loss: 0.3993 - acc: 0.9207 - val_loss: 0.4536 - val_acc: 0.9117\n",
            "\n",
            "Epoch 00095: val_loss improved from 0.45461 to 0.45355, saving model to best_model.h5\n",
            "Epoch 96/100\n",
            "97/97 [==============================] - 25s 254ms/step - loss: 0.3942 - acc: 0.9218 - val_loss: 0.4529 - val_acc: 0.9115\n",
            "\n",
            "Epoch 00096: val_loss improved from 0.45355 to 0.45292, saving model to best_model.h5\n",
            "Epoch 97/100\n",
            "97/97 [==============================] - 25s 253ms/step - loss: 0.3956 - acc: 0.9224 - val_loss: 0.4524 - val_acc: 0.9116\n",
            "\n",
            "Epoch 00097: val_loss improved from 0.45292 to 0.45236, saving model to best_model.h5\n",
            "Epoch 98/100\n",
            "97/97 [==============================] - 25s 254ms/step - loss: 0.3942 - acc: 0.9235 - val_loss: 0.4520 - val_acc: 0.9119\n",
            "\n",
            "Epoch 00098: val_loss improved from 0.45236 to 0.45197, saving model to best_model.h5\n",
            "Epoch 99/100\n",
            "97/97 [==============================] - 25s 254ms/step - loss: 0.3948 - acc: 0.9227 - val_loss: 0.4516 - val_acc: 0.9115\n",
            "\n",
            "Epoch 00099: val_loss improved from 0.45197 to 0.45163, saving model to best_model.h5\n",
            "Epoch 100/100\n",
            "97/97 [==============================] - 25s 253ms/step - loss: 0.3983 - acc: 0.9219 - val_loss: 0.4516 - val_acc: 0.9115\n",
            "\n",
            "Epoch 00100: val_loss improved from 0.45163 to 0.45159, saving model to best_model.h5\n"
          ],
          "name": "stdout"
        }
      ]
    },
    {
      "cell_type": "code",
      "metadata": {
        "id": "uxmVy6Hn-Jme",
        "colab_type": "code",
        "outputId": "4c6e2ccb-aa18-4cba-fe38-ae5d8cd472ec",
        "colab": {
          "base_uri": "https://localhost:8080/",
          "height": 295
        }
      },
      "source": [
        "# Plot Learning Rate\n",
        "import matplotlib.pyplot as plt\n",
        "plt.plot(clr.history['iterations'], clr.history['lr'])\n",
        "plt.xlabel('Training Iterations')\n",
        "plt.ylabel('Learning Rate')\n",
        "plt.title(\"One Cycle Policy\")\n",
        "plt.show()"
      ],
      "execution_count": 19,
      "outputs": [
        {
          "output_type": "display_data",
          "data": {
            "image/png": "[encoded data removed]",
            "text/plain": [
              "<Figure size 432x288 with 1 Axes>"
            ]
          },
          "metadata": {
            "tags": []
          }
        }
      ]
    },
    {
      "cell_type": "code",
      "metadata": {
        "id": "EKHVmhCi-Peu",
        "colab_type": "code",
        "outputId": "dd3ab554-ec18-4e14-b0eb-573825ebf3df",
        "colab": {
          "base_uri": "https://localhost:8080/",
          "height": 295
        }
      },
      "source": [
        "# Plot momentum\n",
        "import matplotlib.pyplot as plt\n",
        "plt.plot(clr.history['iterations'], clr.history['momentum'])\n",
        "plt.xlabel('Training Iterations')\n",
        "plt.ylabel('Momentum')\n",
        "plt.title(\"One Cycle Policy\")\n",
        "plt.show()"
      ],
      "execution_count": 20,
      "outputs": [
        {
          "output_type": "display_data",
          "data": {
            "image/png": "[encoded data removed]",
            "text/plain": [
              "<Figure size 432x288 with 1 Axes>"
            ]
          },
          "metadata": {
            "tags": []
          }
        }
      ]
    },
    {
      "cell_type": "code",
      "metadata": {
        "id": "koercRKzSFHt",
        "colab_type": "code",
        "colab": {
          "base_uri": "https://localhost:8080/",
          "height": 55
        },
        "outputId": "f847397a-66ab-405d-d89e-086d5debc831"
      },
      "source": [
        "print(hist.history)"
      ],
      "execution_count": 64,
      "outputs": [
        {
          "output_type": "stream",
          "text": [
            "{'val_loss': [1.0198089004615216, 1.0240906367987432, 0.967516152434812, 0.889283581392759, 1.2894135728609968, 1.1832779993175107, 1.272220531748643, 1.0870360398413874, 1.0289836714577405, 0.9372158085112313], 'val_acc': [0.7702553593947037, 0.7704129886506935, 0.789328499369483, 0.8163167938931297, 0.7032629255989912, 0.7146122320302648, 0.6912831021437579, 0.7511927480916031, 0.7686790668348046, 0.7983133669609079], 'loss': [0.8632021445494432, 0.8553061667909827, 0.8547986724417218, 0.8533005260832233, 0.8545727072941557, 0.8570821177206018, 0.8518014726709164, 0.8520364660768506, 0.8405821290312955, 0.8440929101681457], 'acc': [0.8144230769230769, 0.8175930381394901, 0.8204603785308922, 0.8221045877637487, 0.819197144671285, 0.8211822264807171, 0.8232274622843745, 0.8235282322937455, 0.8268367019952548, 0.8275786012382433]}\n"
          ],
          "name": "stdout"
        }
      ]
    },
    {
      "cell_type": "code",
      "metadata": {
        "id": "NhYOea4C-SDz",
        "colab_type": "code",
        "colab": {
          "base_uri": "https://localhost:8080/",
          "height": 295
        },
        "outputId": "e46e47c0-2e8d-4458-f26a-1d3c6c8c78b7"
      },
      "source": [
        "# Plot losses\n",
        "val_loss = hist.history['val_loss']\n",
        "loss = hist.history['loss']\n",
        "plt.plot(range(len(val_loss)),val_loss,'c',label='Validation loss')\n",
        "plt.plot(range(len(loss)),loss,'m',label='Train loss')\n",
        "\n",
        "plt.title('Training and validation losses')\n",
        "plt.legend()\n",
        "plt.xlabel('epochs')\n",
        "plt.show()"
      ],
      "execution_count": 21,
      "outputs": [
        {
          "output_type": "display_data",
          "data": {
            "image/png": "[encoded data removed]",
            "text/plain": [
              "<Figure size 432x288 with 1 Axes>"
            ]
          },
          "metadata": {
            "tags": []
          }
        }
      ]
    },
    {
      "cell_type": "code",
      "metadata": {
        "id": "a-Q0JyIKAV2b",
        "colab_type": "code",
        "outputId": "b59823a1-11d6-4b96-a43d-c15397cc371b",
        "colab": {
          "base_uri": "https://localhost:8080/",
          "height": 778
        }
      },
      "source": [
        "from keras.callbacks import ModelCheckpoint\n",
        "checkpoint = ModelCheckpoint('modelBest.h5', verbose=1, monitor='val_acc',save_best_only=True, mode='auto') \n",
        "# train the model\n",
        "start = time.time()\n",
        "# Train the model\n",
        "model_info = model1.fit_generator(datagen.flow(X_train, y_train, batch_size = 128),\n",
        "                                 samples_per_epoch = train_features.shape[0], nb_epoch = 100, \n",
        "                                 validation_data = testgen.flow(X_test, y_test), verbose=1,validation_steps=100,\n",
        "                                 callbacks=[checkpoint])\n",
        "end = time.time()\n",
        "print (\"Model took %0.2f seconds to train\"%(end - start))\n",
        "# plot model history\n",
        "plot_model_history(model_info)\n",
        "# compute test accuracy\n",
        "print (\"Accuracy on test data is: %0.2f\"%accuracy(X_test, y_test, model1))"
      ],
      "execution_count": 0,
      "outputs": [
        {
          "output_type": "stream",
          "text": [
            "/usr/local/lib/python3.6/dist-packages/ipykernel_launcher.py:9: UserWarning: The semantics of the Keras 2 argument `steps_per_epoch` is not the same as the Keras 1 argument `samples_per_epoch`. `steps_per_epoch` is the number of batches to draw from the generator at each epoch. Basically steps_per_epoch = samples_per_epoch/batch_size. Similarly `nb_val_samples`->`validation_steps` and `val_samples`->`steps` arguments have changed. Update your method calls accordingly.\n",
            "  if __name__ == '__main__':\n",
            "/usr/local/lib/python3.6/dist-packages/ipykernel_launcher.py:9: UserWarning: Update your `fit_generator` call to the Keras 2 API: `fit_generator(<keras_pre..., validation_data=<keras_pre..., verbose=1, validation_steps=100, callbacks=[<keras.ca..., steps_per_epoch=390, epochs=100)`\n",
            "  if __name__ == '__main__':\n",
            "/usr/local/lib/python3.6/dist-packages/keras/utils/data_utils.py:651: DeprecationWarning: `wait_time` is not used anymore.\n",
            "  DeprecationWarning)\n",
            "/usr/local/lib/python3.6/dist-packages/keras_preprocessing/image/image_data_generator.py:716: UserWarning: This ImageDataGenerator specifies `featurewise_center`, but it hasn't been fit on any training data. Fit it first by calling `.fit(numpy_data)`.\n",
            "  warnings.warn('This ImageDataGenerator specifies '\n",
            "/usr/local/lib/python3.6/dist-packages/keras_preprocessing/image/image_data_generator.py:724: UserWarning: This ImageDataGenerator specifies `featurewise_std_normalization`, but it hasn't been fit on any training data. Fit it first by calling `.fit(numpy_data)`.\n",
            "  warnings.warn('This ImageDataGenerator specifies '\n"
          ],
          "name": "stderr"
        },
        {
          "output_type": "stream",
          "text": [
            "Epoch 1/100\n",
            "390/390 [==============================] - 13s 34ms/step - loss: 15.0466 - acc: 0.1023 - val_loss: 14.4592 - val_acc: 0.1062\n",
            "\n",
            "Epoch 00001: val_acc improved from -inf to 0.10625, saving model to modelBest.h5\n",
            "Epoch 2/100\n",
            "390/390 [==============================] - 12s 30ms/step - loss: 14.5221 - acc: 0.0998 - val_loss: 14.5022 - val_acc: 0.1003\n",
            "\n",
            "Epoch 00002: val_acc did not improve from 0.10625\n",
            "Epoch 3/100\n",
            "185/390 [=============>................] - ETA: 5s - loss: 14.5093 - acc: 0.0998"
          ],
          "name": "stdout"
        },
        {
          "output_type": "error",
          "ename": "KeyboardInterrupt",
          "evalue": "ignored",
          "traceback": [
            "\u001b[0;31m---------------------------------------------------------------------------\u001b[0m",
            "\u001b[0;31mKeyboardInterrupt\u001b[0m                         Traceback (most recent call last)",
            "\u001b[0;32m<ipython-input-32-c87ec7d68447>\u001b[0m in \u001b[0;36m<module>\u001b[0;34m()\u001b[0m\n\u001b[1;32m      7\u001b[0m                                  \u001b[0msamples_per_epoch\u001b[0m \u001b[0;34m=\u001b[0m \u001b[0mtrain_features\u001b[0m\u001b[0;34m.\u001b[0m\u001b[0mshape\u001b[0m\u001b[0;34m[\u001b[0m\u001b[0;36m0\u001b[0m\u001b[0;34m]\u001b[0m\u001b[0;34m,\u001b[0m \u001b[0mnb_epoch\u001b[0m \u001b[0;34m=\u001b[0m \u001b[0;36m100\u001b[0m\u001b[0;34m,\u001b[0m\u001b[0;34m\u001b[0m\u001b[0;34m\u001b[0m\u001b[0m\n\u001b[1;32m      8\u001b[0m                                  \u001b[0mvalidation_data\u001b[0m \u001b[0;34m=\u001b[0m \u001b[0mtestgen\u001b[0m\u001b[0;34m.\u001b[0m\u001b[0mflow\u001b[0m\u001b[0;34m(\u001b[0m\u001b[0mX_test\u001b[0m\u001b[0;34m,\u001b[0m \u001b[0my_test\u001b[0m\u001b[0;34m)\u001b[0m\u001b[0;34m,\u001b[0m \u001b[0mverbose\u001b[0m\u001b[0;34m=\u001b[0m\u001b[0;36m1\u001b[0m\u001b[0;34m,\u001b[0m\u001b[0mvalidation_steps\u001b[0m\u001b[0;34m=\u001b[0m\u001b[0;36m100\u001b[0m\u001b[0;34m,\u001b[0m\u001b[0;34m\u001b[0m\u001b[0;34m\u001b[0m\u001b[0m\n\u001b[0;32m----> 9\u001b[0;31m                                  callbacks=[checkpoint])\n\u001b[0m\u001b[1;32m     10\u001b[0m \u001b[0mend\u001b[0m \u001b[0;34m=\u001b[0m \u001b[0mtime\u001b[0m\u001b[0;34m.\u001b[0m\u001b[0mtime\u001b[0m\u001b[0;34m(\u001b[0m\u001b[0;34m)\u001b[0m\u001b[0;34m\u001b[0m\u001b[0;34m\u001b[0m\u001b[0m\n\u001b[1;32m     11\u001b[0m \u001b[0mprint\u001b[0m \u001b[0;34m(\u001b[0m\u001b[0;34m\"Model took %0.2f seconds to train\"\u001b[0m\u001b[0;34m%\u001b[0m\u001b[0;34m(\u001b[0m\u001b[0mend\u001b[0m \u001b[0;34m-\u001b[0m \u001b[0mstart\u001b[0m\u001b[0;34m)\u001b[0m\u001b[0;34m)\u001b[0m\u001b[0;34m\u001b[0m\u001b[0;34m\u001b[0m\u001b[0m\n",
            "\u001b[0;32m/usr/local/lib/python3.6/dist-packages/keras/legacy/interfaces.py\u001b[0m in \u001b[0;36mwrapper\u001b[0;34m(*args, **kwargs)\u001b[0m\n\u001b[1;32m     89\u001b[0m                 warnings.warn('Update your `' + object_name + '` call to the ' +\n\u001b[1;32m     90\u001b[0m                               'Keras 2 API: ' + signature, stacklevel=2)\n\u001b[0;32m---> 91\u001b[0;31m             \u001b[0;32mreturn\u001b[0m \u001b[0mfunc\u001b[0m\u001b[0;34m(\u001b[0m\u001b[0;34m*\u001b[0m\u001b[0margs\u001b[0m\u001b[0;34m,\u001b[0m \u001b[0;34m**\u001b[0m\u001b[0mkwargs\u001b[0m\u001b[0;34m)\u001b[0m\u001b[0;34m\u001b[0m\u001b[0;34m\u001b[0m\u001b[0m\n\u001b[0m\u001b[1;32m     92\u001b[0m         \u001b[0mwrapper\u001b[0m\u001b[0;34m.\u001b[0m\u001b[0m_original_function\u001b[0m \u001b[0;34m=\u001b[0m \u001b[0mfunc\u001b[0m\u001b[0;34m\u001b[0m\u001b[0;34m\u001b[0m\u001b[0m\n\u001b[1;32m     93\u001b[0m         \u001b[0;32mreturn\u001b[0m \u001b[0mwrapper\u001b[0m\u001b[0;34m\u001b[0m\u001b[0;34m\u001b[0m\u001b[0m\n",
            "\u001b[0;32m/usr/local/lib/python3.6/dist-packages/keras/engine/training.py\u001b[0m in \u001b[0;36mfit_generator\u001b[0;34m(self, generator, steps_per_epoch, epochs, verbose, callbacks, validation_data, validation_steps, class_weight, max_queue_size, workers, use_multiprocessing, shuffle, initial_epoch)\u001b[0m\n\u001b[1;32m   1416\u001b[0m             \u001b[0muse_multiprocessing\u001b[0m\u001b[0;34m=\u001b[0m\u001b[0muse_multiprocessing\u001b[0m\u001b[0;34m,\u001b[0m\u001b[0;34m\u001b[0m\u001b[0;34m\u001b[0m\u001b[0m\n\u001b[1;32m   1417\u001b[0m             \u001b[0mshuffle\u001b[0m\u001b[0;34m=\u001b[0m\u001b[0mshuffle\u001b[0m\u001b[0;34m,\u001b[0m\u001b[0;34m\u001b[0m\u001b[0;34m\u001b[0m\u001b[0m\n\u001b[0;32m-> 1418\u001b[0;31m             initial_epoch=initial_epoch)\n\u001b[0m\u001b[1;32m   1419\u001b[0m \u001b[0;34m\u001b[0m\u001b[0m\n\u001b[1;32m   1420\u001b[0m     \u001b[0;34m@\u001b[0m\u001b[0minterfaces\u001b[0m\u001b[0;34m.\u001b[0m\u001b[0mlegacy_generator_methods_support\u001b[0m\u001b[0;34m\u001b[0m\u001b[0;34m\u001b[0m\u001b[0m\n",
            "\u001b[0;32m/usr/local/lib/python3.6/dist-packages/keras/engine/training_generator.py\u001b[0m in \u001b[0;36mfit_generator\u001b[0;34m(model, generator, steps_per_epoch, epochs, verbose, callbacks, validation_data, validation_steps, class_weight, max_queue_size, workers, use_multiprocessing, shuffle, initial_epoch)\u001b[0m\n\u001b[1;32m    215\u001b[0m                 outs = model.train_on_batch(x, y,\n\u001b[1;32m    216\u001b[0m                                             \u001b[0msample_weight\u001b[0m\u001b[0;34m=\u001b[0m\u001b[0msample_weight\u001b[0m\u001b[0;34m,\u001b[0m\u001b[0;34m\u001b[0m\u001b[0;34m\u001b[0m\u001b[0m\n\u001b[0;32m--> 217\u001b[0;31m                                             class_weight=class_weight)\n\u001b[0m\u001b[1;32m    218\u001b[0m \u001b[0;34m\u001b[0m\u001b[0m\n\u001b[1;32m    219\u001b[0m                 \u001b[0mouts\u001b[0m \u001b[0;34m=\u001b[0m \u001b[0mto_list\u001b[0m\u001b[0;34m(\u001b[0m\u001b[0mouts\u001b[0m\u001b[0;34m)\u001b[0m\u001b[0;34m\u001b[0m\u001b[0;34m\u001b[0m\u001b[0m\n",
            "\u001b[0;32m/usr/local/lib/python3.6/dist-packages/keras/engine/training.py\u001b[0m in \u001b[0;36mtrain_on_batch\u001b[0;34m(self, x, y, sample_weight, class_weight)\u001b[0m\n\u001b[1;32m   1215\u001b[0m             \u001b[0mins\u001b[0m \u001b[0;34m=\u001b[0m \u001b[0mx\u001b[0m \u001b[0;34m+\u001b[0m \u001b[0my\u001b[0m \u001b[0;34m+\u001b[0m \u001b[0msample_weights\u001b[0m\u001b[0;34m\u001b[0m\u001b[0;34m\u001b[0m\u001b[0m\n\u001b[1;32m   1216\u001b[0m         \u001b[0mself\u001b[0m\u001b[0;34m.\u001b[0m\u001b[0m_make_train_function\u001b[0m\u001b[0;34m(\u001b[0m\u001b[0;34m)\u001b[0m\u001b[0;34m\u001b[0m\u001b[0;34m\u001b[0m\u001b[0m\n\u001b[0;32m-> 1217\u001b[0;31m         \u001b[0moutputs\u001b[0m \u001b[0;34m=\u001b[0m \u001b[0mself\u001b[0m\u001b[0;34m.\u001b[0m\u001b[0mtrain_function\u001b[0m\u001b[0;34m(\u001b[0m\u001b[0mins\u001b[0m\u001b[0;34m)\u001b[0m\u001b[0;34m\u001b[0m\u001b[0;34m\u001b[0m\u001b[0m\n\u001b[0m\u001b[1;32m   1218\u001b[0m         \u001b[0;32mreturn\u001b[0m \u001b[0munpack_singleton\u001b[0m\u001b[0;34m(\u001b[0m\u001b[0moutputs\u001b[0m\u001b[0;34m)\u001b[0m\u001b[0;34m\u001b[0m\u001b[0;34m\u001b[0m\u001b[0m\n\u001b[1;32m   1219\u001b[0m \u001b[0;34m\u001b[0m\u001b[0m\n",
            "\u001b[0;32m/usr/local/lib/python3.6/dist-packages/keras/backend/tensorflow_backend.py\u001b[0m in \u001b[0;36m__call__\u001b[0;34m(self, inputs)\u001b[0m\n\u001b[1;32m   2713\u001b[0m                 \u001b[0;32mreturn\u001b[0m \u001b[0mself\u001b[0m\u001b[0;34m.\u001b[0m\u001b[0m_legacy_call\u001b[0m\u001b[0;34m(\u001b[0m\u001b[0minputs\u001b[0m\u001b[0;34m)\u001b[0m\u001b[0;34m\u001b[0m\u001b[0;34m\u001b[0m\u001b[0m\n\u001b[1;32m   2714\u001b[0m \u001b[0;34m\u001b[0m\u001b[0m\n\u001b[0;32m-> 2715\u001b[0;31m             \u001b[0;32mreturn\u001b[0m \u001b[0mself\u001b[0m\u001b[0;34m.\u001b[0m\u001b[0m_call\u001b[0m\u001b[0;34m(\u001b[0m\u001b[0minputs\u001b[0m\u001b[0;34m)\u001b[0m\u001b[0;34m\u001b[0m\u001b[0;34m\u001b[0m\u001b[0m\n\u001b[0m\u001b[1;32m   2716\u001b[0m         \u001b[0;32melse\u001b[0m\u001b[0;34m:\u001b[0m\u001b[0;34m\u001b[0m\u001b[0;34m\u001b[0m\u001b[0m\n\u001b[1;32m   2717\u001b[0m             \u001b[0;32mif\u001b[0m \u001b[0mpy_any\u001b[0m\u001b[0;34m(\u001b[0m\u001b[0mis_tensor\u001b[0m\u001b[0;34m(\u001b[0m\u001b[0mx\u001b[0m\u001b[0;34m)\u001b[0m \u001b[0;32mfor\u001b[0m \u001b[0mx\u001b[0m \u001b[0;32min\u001b[0m \u001b[0minputs\u001b[0m\u001b[0;34m)\u001b[0m\u001b[0;34m:\u001b[0m\u001b[0;34m\u001b[0m\u001b[0;34m\u001b[0m\u001b[0m\n",
            "\u001b[0;32m/usr/local/lib/python3.6/dist-packages/keras/backend/tensorflow_backend.py\u001b[0m in \u001b[0;36m_call\u001b[0;34m(self, inputs)\u001b[0m\n\u001b[1;32m   2673\u001b[0m             \u001b[0mfetched\u001b[0m \u001b[0;34m=\u001b[0m \u001b[0mself\u001b[0m\u001b[0;34m.\u001b[0m\u001b[0m_callable_fn\u001b[0m\u001b[0;34m(\u001b[0m\u001b[0;34m*\u001b[0m\u001b[0marray_vals\u001b[0m\u001b[0;34m,\u001b[0m \u001b[0mrun_metadata\u001b[0m\u001b[0;34m=\u001b[0m\u001b[0mself\u001b[0m\u001b[0;34m.\u001b[0m\u001b[0mrun_metadata\u001b[0m\u001b[0;34m)\u001b[0m\u001b[0;34m\u001b[0m\u001b[0;34m\u001b[0m\u001b[0m\n\u001b[1;32m   2674\u001b[0m         \u001b[0;32melse\u001b[0m\u001b[0;34m:\u001b[0m\u001b[0;34m\u001b[0m\u001b[0;34m\u001b[0m\u001b[0m\n\u001b[0;32m-> 2675\u001b[0;31m             \u001b[0mfetched\u001b[0m \u001b[0;34m=\u001b[0m \u001b[0mself\u001b[0m\u001b[0;34m.\u001b[0m\u001b[0m_callable_fn\u001b[0m\u001b[0;34m(\u001b[0m\u001b[0;34m*\u001b[0m\u001b[0marray_vals\u001b[0m\u001b[0;34m)\u001b[0m\u001b[0;34m\u001b[0m\u001b[0;34m\u001b[0m\u001b[0m\n\u001b[0m\u001b[1;32m   2676\u001b[0m         \u001b[0;32mreturn\u001b[0m \u001b[0mfetched\u001b[0m\u001b[0;34m[\u001b[0m\u001b[0;34m:\u001b[0m\u001b[0mlen\u001b[0m\u001b[0;34m(\u001b[0m\u001b[0mself\u001b[0m\u001b[0;34m.\u001b[0m\u001b[0moutputs\u001b[0m\u001b[0;34m)\u001b[0m\u001b[0;34m]\u001b[0m\u001b[0;34m\u001b[0m\u001b[0;34m\u001b[0m\u001b[0m\n\u001b[1;32m   2677\u001b[0m \u001b[0;34m\u001b[0m\u001b[0m\n",
            "\u001b[0;32m/usr/local/lib/python3.6/dist-packages/tensorflow/python/client/session.py\u001b[0m in \u001b[0;36m__call__\u001b[0;34m(self, *args, **kwargs)\u001b[0m\n\u001b[1;32m   1456\u001b[0m         ret = tf_session.TF_SessionRunCallable(self._session._session,\n\u001b[1;32m   1457\u001b[0m                                                \u001b[0mself\u001b[0m\u001b[0;34m.\u001b[0m\u001b[0m_handle\u001b[0m\u001b[0;34m,\u001b[0m \u001b[0margs\u001b[0m\u001b[0;34m,\u001b[0m\u001b[0;34m\u001b[0m\u001b[0;34m\u001b[0m\u001b[0m\n\u001b[0;32m-> 1458\u001b[0;31m                                                run_metadata_ptr)\n\u001b[0m\u001b[1;32m   1459\u001b[0m         \u001b[0;32mif\u001b[0m \u001b[0mrun_metadata\u001b[0m\u001b[0;34m:\u001b[0m\u001b[0;34m\u001b[0m\u001b[0;34m\u001b[0m\u001b[0m\n\u001b[1;32m   1460\u001b[0m           \u001b[0mproto_data\u001b[0m \u001b[0;34m=\u001b[0m \u001b[0mtf_session\u001b[0m\u001b[0;34m.\u001b[0m\u001b[0mTF_GetBuffer\u001b[0m\u001b[0;34m(\u001b[0m\u001b[0mrun_metadata_ptr\u001b[0m\u001b[0;34m)\u001b[0m\u001b[0;34m\u001b[0m\u001b[0;34m\u001b[0m\u001b[0m\n",
            "\u001b[0;31mKeyboardInterrupt\u001b[0m: "
          ]
        }
      ]
    },
    {
      "cell_type": "markdown",
      "metadata": {
        "colab_type": "text",
        "id": "Kx1x-o-6auck"
      },
      "source": [
        "## Max training and test accuracy"
      ]
    },
    {
      "cell_type": "code",
      "metadata": {
        "id": "qKva_eQvXhEt",
        "colab_type": "code",
        "outputId": "79c8d46a-94e6-4840-ab25-8a8791053556",
        "colab": {
          "base_uri": "https://localhost:8080/",
          "height": 90
        }
      },
      "source": [
        "print(\"Training Accuracy:\")\n",
        "print(max(model_info.history['acc']))\n",
        "print(\"Test Accuracy:\")\n",
        "print(max(model_info.history['val_acc']))"
      ],
      "execution_count": 0,
      "outputs": [
        {
          "output_type": "stream",
          "text": [
            "Training Accuracy:\n",
            "0.9077438242281711\n",
            "Test Accuracy:\n",
            "0.895625\n"
          ],
          "name": "stdout"
        }
      ]
    },
    {
      "cell_type": "code",
      "metadata": {
        "id": "KbxTG24oKJuB",
        "colab_type": "code",
        "colab": {}
      },
      "source": [
        "from keras.models import load_model\n",
        "modelBest = load_model(\"modelBest.h5\")"
      ],
      "execution_count": 0,
      "outputs": []
    },
    {
      "cell_type": "markdown",
      "metadata": {
        "id": "AAn6arw3axwP",
        "colab_type": "text"
      },
      "source": [
        "##Model Evaluate for best model"
      ]
    },
    {
      "cell_type": "code",
      "metadata": {
        "id": "gXljt8--LMz0",
        "colab_type": "code",
        "outputId": "b9a30839-a4e9-47f7-c56a-d69964cca73d",
        "colab": {
          "base_uri": "https://localhost:8080/",
          "height": 128
        }
      },
      "source": [
        "modelBest.evaluate_generator(testgen.flow(X_test, y_test), steps=32)"
      ],
      "execution_count": 0,
      "outputs": [
        {
          "output_type": "stream",
          "text": [
            "/usr/local/lib/python3.6/dist-packages/keras_preprocessing/image/image_data_generator.py:716: UserWarning: This ImageDataGenerator specifies `featurewise_center`, but it hasn't been fit on any training data. Fit it first by calling `.fit(numpy_data)`.\n",
            "  warnings.warn('This ImageDataGenerator specifies '\n",
            "/usr/local/lib/python3.6/dist-packages/keras_preprocessing/image/image_data_generator.py:724: UserWarning: This ImageDataGenerator specifies `featurewise_std_normalization`, but it hasn't been fit on any training data. Fit it first by calling `.fit(numpy_data)`.\n",
            "  warnings.warn('This ImageDataGenerator specifies '\n"
          ],
          "name": "stderr"
        },
        {
          "output_type": "execute_result",
          "data": {
            "text/plain": [
              "[0.4871593019925058, 0.876953125]"
            ]
          },
          "metadata": {
            "tags": []
          },
          "execution_count": 21
        }
      ]
    },
    {
      "cell_type": "code",
      "metadata": {
        "id": "CMS2PHLXbLPz",
        "colab_type": "code",
        "outputId": "dc5398ad-3e8f-46fa-b487-5770e84e9376",
        "colab": {
          "base_uri": "https://localhost:8080/",
          "height": 110
        }
      },
      "source": [
        "test_generator = testgen.flow(X_test, y_test,\n",
        "  shuffle=False)\n",
        "y_pred = modelBest.predict_generator(test_generator, steps=100)"
      ],
      "execution_count": 0,
      "outputs": [
        {
          "output_type": "stream",
          "text": [
            "/usr/local/lib/python3.6/dist-packages/keras_preprocessing/image/image_data_generator.py:716: UserWarning: This ImageDataGenerator specifies `featurewise_center`, but it hasn't been fit on any training data. Fit it first by calling `.fit(numpy_data)`.\n",
            "  warnings.warn('This ImageDataGenerator specifies '\n",
            "/usr/local/lib/python3.6/dist-packages/keras_preprocessing/image/image_data_generator.py:724: UserWarning: This ImageDataGenerator specifies `featurewise_std_normalization`, but it hasn't been fit on any training data. Fit it first by calling `.fit(numpy_data)`.\n",
            "  warnings.warn('This ImageDataGenerator specifies '\n"
          ],
          "name": "stderr"
        }
      ]
    }
  ]
}