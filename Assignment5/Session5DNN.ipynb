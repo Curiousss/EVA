{
  "nbformat": 4,
  "nbformat_minor": 0,
  "metadata": {
    "colab": {
      "name": "Session5DNN.ipynb",
      "version": "0.3.2",
      "provenance": [],
      "collapsed_sections": [],
      "include_colab_link": true
    },
    "kernelspec": {
      "name": "python3",
      "display_name": "Python 3"
    },
    "accelerator": "GPU"
  },
  "cells": [
    {
      "cell_type": "markdown",
      "metadata": {
        "id": "view-in-github",
        "colab_type": "text"
      },
      "source": [
        "<a href=\"https://colab.research.google.com/github/Curiousss/EVA/blob/master/Assignment5/Session5DNN.ipynb\" target=\"_parent\"><img src=\"https://colab.research.google.com/assets/colab-badge.svg\" alt=\"Open In Colab\"/></a>"
      ]
    },
    {
      "cell_type": "code",
      "metadata": {
        "id": "QCfRsSS94w2q",
        "colab_type": "code",
        "colab": {
          "base_uri": "https://localhost:8080/",
          "height": 34
        },
        "outputId": "e19b3d41-9c98-4fd7-853e-6a15a12361a1"
      },
      "source": [
        "!ls"
      ],
      "execution_count": 1,
      "outputs": [
        {
          "output_type": "stream",
          "text": [
            "sample_data\n"
          ],
          "name": "stdout"
        }
      ]
    },
    {
      "cell_type": "markdown",
      "metadata": {
        "id": "aNyZv-Ec52ot",
        "colab_type": "text"
      },
      "source": [
        "Add\n",
        "\n",
        "* ReLU after BN\n",
        "* image normalization\n",
        "* L2 regularization\n"
      ]
    },
    {
      "cell_type": "code",
      "metadata": {
        "id": "3m3w1Cw49Zkt",
        "colab_type": "code",
        "outputId": "df426c7b-0cd8-4da8-eb0f-05f0991243e4",
        "colab": {
          "base_uri": "https://localhost:8080/",
          "height": 34
        }
      },
      "source": [
        "# https://keras.io/\n",
        "!pip install -q keras\n",
        "import keras"
      ],
      "execution_count": 2,
      "outputs": [
        {
          "output_type": "stream",
          "text": [
            "Using TensorFlow backend.\n"
          ],
          "name": "stderr"
        }
      ]
    },
    {
      "cell_type": "code",
      "metadata": {
        "id": "Eso6UHE080D4",
        "colab_type": "code",
        "colab": {}
      },
      "source": [
        "import numpy as np\n",
        "\n",
        "from keras.models import Sequential\n",
        "from keras.layers import Dense, Dropout, Activation, Flatten, Add\n",
        "from keras.layers import Convolution2D, MaxPooling2D\n",
        "from keras.utils import np_utils\n",
        "\n",
        "from keras.datasets import mnist"
      ],
      "execution_count": 0,
      "outputs": []
    },
    {
      "cell_type": "markdown",
      "metadata": {
        "id": "zByEi95J86RD",
        "colab_type": "text"
      },
      "source": [
        "### Load pre-shuffled MNIST data into train and test sets"
      ]
    },
    {
      "cell_type": "code",
      "metadata": {
        "id": "7eRM0QWN83PV",
        "colab_type": "code",
        "colab": {
          "base_uri": "https://localhost:8080/",
          "height": 51
        },
        "outputId": "1199a172-3f40-415f-bdd6-ac324237133c"
      },
      "source": [
        "(X_train, y_train), (X_test, y_test) = mnist.load_data()"
      ],
      "execution_count": 4,
      "outputs": [
        {
          "output_type": "stream",
          "text": [
            "Downloading data from https://s3.amazonaws.com/img-datasets/mnist.npz\n",
            "11493376/11490434 [==============================] - 2s 0us/step\n"
          ],
          "name": "stdout"
        }
      ]
    },
    {
      "cell_type": "code",
      "metadata": {
        "id": "4a4Be72j8-ZC",
        "colab_type": "code",
        "outputId": "af9f5081-08dd-41fc-f748-896bd143d09d",
        "colab": {
          "base_uri": "https://localhost:8080/",
          "height": 303
        }
      },
      "source": [
        "print (X_train.shape)\n",
        "from matplotlib import pyplot as plt\n",
        "%matplotlib inline\n",
        "plt.imshow(X_train[0])"
      ],
      "execution_count": 5,
      "outputs": [
        {
          "output_type": "stream",
          "text": [
            "(60000, 28, 28)\n"
          ],
          "name": "stdout"
        },
        {
          "output_type": "execute_result",
          "data": {
            "text/plain": [
              "<matplotlib.image.AxesImage at 0x7f9e93cbc1d0>"
            ]
          },
          "metadata": {
            "tags": []
          },
          "execution_count": 5
        },
        {
          "output_type": "display_data",
          "data": {
            "image/png": "[encoded data removed]",
            "text/plain": [
              "<Figure size 432x288 with 1 Axes>"
            ]
          },
          "metadata": {
            "tags": []
          }
        }
      ]
    },
    {
      "cell_type": "code",
      "metadata": {
        "id": "IlZu1hdeC3Hv",
        "colab_type": "code",
        "colab": {
          "base_uri": "https://localhost:8080/",
          "height": 34
        },
        "outputId": "7a76d8a0-db70-4f1e-a40e-46e023532126"
      },
      "source": [
        "print(X_test.shape)"
      ],
      "execution_count": 39,
      "outputs": [
        {
          "output_type": "stream",
          "text": [
            "(10000, 28, 28, 1)\n"
          ],
          "name": "stdout"
        }
      ]
    },
    {
      "cell_type": "code",
      "metadata": {
        "id": "dkmprriw9AnZ",
        "colab_type": "code",
        "colab": {}
      },
      "source": [
        "X_train = X_train.reshape(X_train.shape[0], 28, 28,1)\n",
        "X_test = X_test.reshape(X_test.shape[0], 28, 28,1)"
      ],
      "execution_count": 0,
      "outputs": []
    },
    {
      "cell_type": "code",
      "metadata": {
        "id": "X2m4YS4E9CRh",
        "colab_type": "code",
        "colab": {}
      },
      "source": [
        "X_train = X_train.astype('float32')\n",
        "X_test = X_test.astype('float32')\n",
        "X_train /= 255\n",
        "X_test /= 255"
      ],
      "execution_count": 0,
      "outputs": []
    },
    {
      "cell_type": "code",
      "metadata": {
        "id": "0Mn0vAYD9DvB",
        "colab_type": "code",
        "outputId": "2b6474c9-3992-4874-d470-a0efe7e206b5",
        "colab": {
          "base_uri": "https://localhost:8080/",
          "height": 34
        }
      },
      "source": [
        "y_train[:10]"
      ],
      "execution_count": 8,
      "outputs": [
        {
          "output_type": "execute_result",
          "data": {
            "text/plain": [
              "array([5, 0, 4, 1, 9, 2, 1, 3, 1, 4], dtype=uint8)"
            ]
          },
          "metadata": {
            "tags": []
          },
          "execution_count": 8
        }
      ]
    },
    {
      "cell_type": "code",
      "metadata": {
        "id": "ZG8JiXR39FHC",
        "colab_type": "code",
        "colab": {}
      },
      "source": [
        "# Convert 1-dimensional class arrays to 10-dimensional class matrices\n",
        "Y_train = np_utils.to_categorical(y_train, 10)\n",
        "Y_test = np_utils.to_categorical(y_test, 10)"
      ],
      "execution_count": 0,
      "outputs": []
    },
    {
      "cell_type": "code",
      "metadata": {
        "id": "fYlFRvKS9HMB",
        "colab_type": "code",
        "outputId": "7dcbd25a-3113-4581-c009-34c0af8d61dd",
        "colab": {
          "base_uri": "https://localhost:8080/",
          "height": 187
        }
      },
      "source": [
        "Y_train[:10]\n"
      ],
      "execution_count": 10,
      "outputs": [
        {
          "output_type": "execute_result",
          "data": {
            "text/plain": [
              "array([[0., 0., 0., 0., 0., 1., 0., 0., 0., 0.],\n",
              "       [1., 0., 0., 0., 0., 0., 0., 0., 0., 0.],\n",
              "       [0., 0., 0., 0., 1., 0., 0., 0., 0., 0.],\n",
              "       [0., 1., 0., 0., 0., 0., 0., 0., 0., 0.],\n",
              "       [0., 0., 0., 0., 0., 0., 0., 0., 0., 1.],\n",
              "       [0., 0., 1., 0., 0., 0., 0., 0., 0., 0.],\n",
              "       [0., 1., 0., 0., 0., 0., 0., 0., 0., 0.],\n",
              "       [0., 0., 0., 1., 0., 0., 0., 0., 0., 0.],\n",
              "       [0., 1., 0., 0., 0., 0., 0., 0., 0., 0.],\n",
              "       [0., 0., 0., 0., 1., 0., 0., 0., 0., 0.]], dtype=float32)"
            ]
          },
          "metadata": {
            "tags": []
          },
          "execution_count": 10
        }
      ]
    },
    {
      "cell_type": "code",
      "metadata": {
        "id": "osKqT73Q9JJB",
        "colab_type": "code",
        "outputId": "3d47ff84-55a2-496f-c456-6b76e7b6213e",
        "colab": {
          "base_uri": "https://localhost:8080/",
          "height": 1465
        }
      },
      "source": [
        "from keras.layers import Activation, BatchNormalization\n",
        "from keras.regularizers import l2\n",
        "\n",
        "l2_reg = 0.0001\n",
        "dropout=0.15\n",
        "\n",
        "model = Sequential()\n",
        "\n",
        " \n",
        "model.add(Convolution2D(10, 3, 3, input_shape=(28,28,1), kernel_regularizer=l2(l2_reg))) #26\n",
        "model.add(BatchNormalization())\n",
        "model.add(Activation('relu'))\n",
        "model.add(Dropout(dropout))\n",
        "\n",
        "model.add(Convolution2D(16, 3, 3, kernel_regularizer=l2(l2_reg))) #24\n",
        "model.add(BatchNormalization())\n",
        "model.add(Activation('relu'))\n",
        "model.add(Dropout(dropout))\n",
        "\n",
        "model.add(Convolution2D(16, 3, 3, kernel_regularizer=l2(l2_reg))) #22\n",
        "model.add(BatchNormalization())\n",
        "model.add(Activation('relu'))\n",
        "model.add(Dropout(dropout))\n",
        "\n",
        "# Bottleneck layer\n",
        "model.add(MaxPooling2D()) #11\n",
        "model.add(Convolution2D(10, 1, kernel_regularizer=l2(l2_reg))) #11\n",
        "model.add(BatchNormalization())\n",
        "model.add(Activation('relu'))\n",
        "model.add(Dropout(dropout))\n",
        "\n",
        "model.add(Convolution2D(16, 3, 3, kernel_regularizer=l2(l2_reg))) #9\n",
        "model.add(BatchNormalization())\n",
        "model.add(Activation('relu'))\n",
        "model.add(Dropout(dropout))\n",
        "\n",
        "model.add(Convolution2D(16, 3, 3, kernel_regularizer=l2(l2_reg))) #7\n",
        "model.add(BatchNormalization())\n",
        "model.add(Activation('relu'))\n",
        "model.add(Dropout(dropout))\n",
        "\n",
        "# 1x1 Conv\n",
        "model.add(Convolution2D(10, 1, kernel_regularizer=l2(l2_reg))) #7\n",
        "model.add(BatchNormalization())\n",
        "model.add(Activation('relu'))\n",
        "model.add(Dropout(dropout))\n",
        "\n",
        "model.add(Convolution2D(10, 7, kernel_regularizer=l2(l2_reg)))\n",
        "\n",
        "model.add(Flatten())\n",
        "model.add(Activation('softmax'))\n",
        "model.summary()"
      ],
      "execution_count": 11,
      "outputs": [
        {
          "output_type": "stream",
          "text": [
            "WARNING:tensorflow:From /usr/local/lib/python3.6/dist-packages/tensorflow/python/framework/op_def_library.py:263: colocate_with (from tensorflow.python.framework.ops) is deprecated and will be removed in a future version.\n",
            "Instructions for updating:\n",
            "Colocations handled automatically by placer.\n"
          ],
          "name": "stdout"
        },
        {
          "output_type": "stream",
          "text": [
            "/usr/local/lib/python3.6/dist-packages/ipykernel_launcher.py:10: UserWarning: Update your `Conv2D` call to the Keras 2 API: `Conv2D(10, (3, 3), input_shape=(28, 28, 1..., kernel_regularizer=<keras.reg...)`\n",
            "  # Remove the CWD from sys.path while we load stuff.\n"
          ],
          "name": "stderr"
        },
        {
          "output_type": "stream",
          "text": [
            "WARNING:tensorflow:From /usr/local/lib/python3.6/dist-packages/keras/backend/tensorflow_backend.py:3445: calling dropout (from tensorflow.python.ops.nn_ops) with keep_prob is deprecated and will be removed in a future version.\n",
            "Instructions for updating:\n",
            "Please use `rate` instead of `keep_prob`. Rate should be set to `rate = 1 - keep_prob`.\n"
          ],
          "name": "stdout"
        },
        {
          "output_type": "stream",
          "text": [
            "/usr/local/lib/python3.6/dist-packages/ipykernel_launcher.py:15: UserWarning: Update your `Conv2D` call to the Keras 2 API: `Conv2D(16, (3, 3), kernel_regularizer=<keras.reg...)`\n",
            "  from ipykernel import kernelapp as app\n",
            "/usr/local/lib/python3.6/dist-packages/ipykernel_launcher.py:20: UserWarning: Update your `Conv2D` call to the Keras 2 API: `Conv2D(16, (3, 3), kernel_regularizer=<keras.reg...)`\n",
            "/usr/local/lib/python3.6/dist-packages/ipykernel_launcher.py:32: UserWarning: Update your `Conv2D` call to the Keras 2 API: `Conv2D(16, (3, 3), kernel_regularizer=<keras.reg...)`\n",
            "/usr/local/lib/python3.6/dist-packages/ipykernel_launcher.py:37: UserWarning: Update your `Conv2D` call to the Keras 2 API: `Conv2D(16, (3, 3), kernel_regularizer=<keras.reg...)`\n"
          ],
          "name": "stderr"
        },
        {
          "output_type": "stream",
          "text": [
            "_________________________________________________________________\n",
            "Layer (type)                 Output Shape              Param #   \n",
            "=================================================================\n",
            "conv2d_1 (Conv2D)            (None, 26, 26, 10)        100       \n",
            "_________________________________________________________________\n",
            "batch_normalization_1 (Batch (None, 26, 26, 10)        40        \n",
            "_________________________________________________________________\n",
            "activation_1 (Activation)    (None, 26, 26, 10)        0         \n",
            "_________________________________________________________________\n",
            "dropout_1 (Dropout)          (None, 26, 26, 10)        0         \n",
            "_________________________________________________________________\n",
            "conv2d_2 (Conv2D)            (None, 24, 24, 16)        1456      \n",
            "_________________________________________________________________\n",
            "batch_normalization_2 (Batch (None, 24, 24, 16)        64        \n",
            "_________________________________________________________________\n",
            "activation_2 (Activation)    (None, 24, 24, 16)        0         \n",
            "_________________________________________________________________\n",
            "dropout_2 (Dropout)          (None, 24, 24, 16)        0         \n",
            "_________________________________________________________________\n",
            "conv2d_3 (Conv2D)            (None, 22, 22, 16)        2320      \n",
            "_________________________________________________________________\n",
            "batch_normalization_3 (Batch (None, 22, 22, 16)        64        \n",
            "_________________________________________________________________\n",
            "activation_3 (Activation)    (None, 22, 22, 16)        0         \n",
            "_________________________________________________________________\n",
            "dropout_3 (Dropout)          (None, 22, 22, 16)        0         \n",
            "_________________________________________________________________\n",
            "max_pooling2d_1 (MaxPooling2 (None, 11, 11, 16)        0         \n",
            "_________________________________________________________________\n",
            "conv2d_4 (Conv2D)            (None, 11, 11, 10)        170       \n",
            "_________________________________________________________________\n",
            "batch_normalization_4 (Batch (None, 11, 11, 10)        40        \n",
            "_________________________________________________________________\n",
            "activation_4 (Activation)    (None, 11, 11, 10)        0         \n",
            "_________________________________________________________________\n",
            "dropout_4 (Dropout)          (None, 11, 11, 10)        0         \n",
            "_________________________________________________________________\n",
            "conv2d_5 (Conv2D)            (None, 9, 9, 16)          1456      \n",
            "_________________________________________________________________\n",
            "batch_normalization_5 (Batch (None, 9, 9, 16)          64        \n",
            "_________________________________________________________________\n",
            "activation_5 (Activation)    (None, 9, 9, 16)          0         \n",
            "_________________________________________________________________\n",
            "dropout_5 (Dropout)          (None, 9, 9, 16)          0         \n",
            "_________________________________________________________________\n",
            "conv2d_6 (Conv2D)            (None, 7, 7, 16)          2320      \n",
            "_________________________________________________________________\n",
            "batch_normalization_6 (Batch (None, 7, 7, 16)          64        \n",
            "_________________________________________________________________\n",
            "activation_6 (Activation)    (None, 7, 7, 16)          0         \n",
            "_________________________________________________________________\n",
            "dropout_6 (Dropout)          (None, 7, 7, 16)          0         \n",
            "_________________________________________________________________\n",
            "conv2d_7 (Conv2D)            (None, 7, 7, 10)          170       \n",
            "_________________________________________________________________\n",
            "batch_normalization_7 (Batch (None, 7, 7, 10)          40        \n",
            "_________________________________________________________________\n",
            "activation_7 (Activation)    (None, 7, 7, 10)          0         \n",
            "_________________________________________________________________\n",
            "dropout_7 (Dropout)          (None, 7, 7, 10)          0         \n",
            "_________________________________________________________________\n",
            "conv2d_8 (Conv2D)            (None, 1, 1, 10)          4910      \n",
            "_________________________________________________________________\n",
            "flatten_1 (Flatten)          (None, 10)                0         \n",
            "_________________________________________________________________\n",
            "activation_8 (Activation)    (None, 10)                0         \n",
            "=================================================================\n",
            "Total params: 13,278\n",
            "Trainable params: 13,090\n",
            "Non-trainable params: 188\n",
            "_________________________________________________________________\n"
          ],
          "name": "stdout"
        }
      ]
    },
    {
      "cell_type": "code",
      "metadata": {
        "id": "Zp6SuGrL9M3h",
        "colab_type": "code",
        "colab": {}
      },
      "source": [
        "from keras.optimizers import Adam\n",
        "from keras.callbacks import LearningRateScheduler, ModelCheckpoint\n",
        "def scheduler(epoch, lr):\n",
        "  return round(0.003 * 1/(1 + 0.319 * epoch), 10)\n",
        "\n",
        "checkpoint = ModelCheckpoint('modelBest.h5', verbose=1, monitor='val_acc',save_best_only=True, mode='auto') \n",
        "\n",
        "model.compile(loss='categorical_crossentropy',\n",
        "             optimizer='adam',\n",
        "             metrics=['accuracy'])"
      ],
      "execution_count": 0,
      "outputs": []
    },
    {
      "cell_type": "code",
      "metadata": {
        "id": "KHbljypXWXRH",
        "colab_type": "code",
        "colab": {}
      },
      "source": [
        "from keras.preprocessing.image import ImageDataGenerator\n",
        "\n",
        "datagen = ImageDataGenerator(\n",
        "    featurewise_center=True,\n",
        "    featurewise_std_normalization=True)\n",
        "\n",
        "datagen.fit(X_train)"
      ],
      "execution_count": 0,
      "outputs": []
    },
    {
      "cell_type": "code",
      "metadata": {
        "id": "BKhDpvd2X9Pg",
        "colab_type": "code",
        "outputId": "d052cb7d-3b99-4e2e-92f4-ce72a24a7afa",
        "colab": {
          "base_uri": "https://localhost:8080/",
          "height": 4114
        }
      },
      "source": [
        "epochs = 40\n",
        "batch_size = 128\n",
        "model.fit_generator(datagen.flow(X_train, Y_train, batch_size=batch_size),\n",
        "                    steps_per_epoch=len(X_train) / batch_size, epochs=epochs, validation_data=datagen.flow(X_test, Y_test), validation_steps = len(X_test)/batch_size,\n",
        "                    callbacks=[LearningRateScheduler(scheduler, verbose=1), checkpoint])"
      ],
      "execution_count": 30,
      "outputs": [
        {
          "output_type": "stream",
          "text": [
            "Epoch 1/40\n",
            "\n",
            "Epoch 00001: LearningRateScheduler setting learning rate to 0.003.\n",
            "469/468 [==============================] - 19s 40ms/step - loss: 0.0605 - acc: 0.9848 - val_loss: 0.0458 - val_acc: 0.9897\n",
            "\n",
            "Epoch 00001: val_acc improved from -inf to 0.98972, saving model to modelBest.h5\n",
            "Epoch 2/40\n",
            "\n",
            "Epoch 00002: LearningRateScheduler setting learning rate to 0.0022744503.\n",
            "469/468 [==============================] - 15s 31ms/step - loss: 0.0561 - acc: 0.9870 - val_loss: 0.0426 - val_acc: 0.9925\n",
            "\n",
            "Epoch 00002: val_acc improved from 0.98972 to 0.99248, saving model to modelBest.h5\n",
            "Epoch 3/40\n",
            "\n",
            "Epoch 00003: LearningRateScheduler setting learning rate to 0.0018315018.\n",
            "469/468 [==============================] - 15s 31ms/step - loss: 0.0510 - acc: 0.9885 - val_loss: 0.0401 - val_acc: 0.9925\n",
            "\n",
            "Epoch 00003: val_acc did not improve from 0.99248\n",
            "Epoch 4/40\n",
            "\n",
            "Epoch 00004: LearningRateScheduler setting learning rate to 0.0015329586.\n",
            "469/468 [==============================] - 15s 31ms/step - loss: 0.0492 - acc: 0.9893 - val_loss: 0.0344 - val_acc: 0.9936\n",
            "\n",
            "Epoch 00004: val_acc improved from 0.99248 to 0.99363, saving model to modelBest.h5\n",
            "Epoch 5/40\n",
            "\n",
            "Epoch 00005: LearningRateScheduler setting learning rate to 0.0013181019.\n",
            "469/468 [==============================] - 15s 31ms/step - loss: 0.0470 - acc: 0.9897 - val_loss: 0.0301 - val_acc: 0.9949\n",
            "\n",
            "Epoch 00005: val_acc improved from 0.99363 to 0.99486, saving model to modelBest.h5\n",
            "Epoch 6/40\n",
            "\n",
            "Epoch 00006: LearningRateScheduler setting learning rate to 0.0011560694.\n",
            "469/468 [==============================] - 15s 31ms/step - loss: 0.0452 - acc: 0.9898 - val_loss: 0.0455 - val_acc: 0.9881\n",
            "\n",
            "Epoch 00006: val_acc did not improve from 0.99486\n",
            "Epoch 7/40\n",
            "\n",
            "Epoch 00007: LearningRateScheduler setting learning rate to 0.0010295127.\n",
            "469/468 [==============================] - 15s 31ms/step - loss: 0.0434 - acc: 0.9906 - val_loss: 0.0390 - val_acc: 0.9925\n",
            "\n",
            "Epoch 00007: val_acc did not improve from 0.99486\n",
            "Epoch 8/40\n",
            "\n",
            "Epoch 00008: LearningRateScheduler setting learning rate to 0.0009279307.\n",
            "469/468 [==============================] - 15s 31ms/step - loss: 0.0428 - acc: 0.9911 - val_loss: 0.0321 - val_acc: 0.9944\n",
            "\n",
            "Epoch 00008: val_acc did not improve from 0.99486\n",
            "Epoch 9/40\n",
            "\n",
            "Epoch 00009: LearningRateScheduler setting learning rate to 0.0008445946.\n",
            "469/468 [==============================] - 15s 31ms/step - loss: 0.0421 - acc: 0.9912 - val_loss: 0.0326 - val_acc: 0.9945\n",
            "\n",
            "Epoch 00009: val_acc did not improve from 0.99486\n",
            "Epoch 10/40\n",
            "\n",
            "Epoch 00010: LearningRateScheduler setting learning rate to 0.0007749935.\n",
            "469/468 [==============================] - 14s 31ms/step - loss: 0.0397 - acc: 0.9920 - val_loss: 0.0317 - val_acc: 0.9937\n",
            "\n",
            "Epoch 00010: val_acc did not improve from 0.99486\n",
            "Epoch 11/40\n",
            "\n",
            "Epoch 00011: LearningRateScheduler setting learning rate to 0.0007159905.\n",
            "469/468 [==============================] - 15s 31ms/step - loss: 0.0398 - acc: 0.9917 - val_loss: 0.0431 - val_acc: 0.9925\n",
            "\n",
            "Epoch 00011: val_acc did not improve from 0.99486\n",
            "Epoch 12/40\n",
            "\n",
            "Epoch 00012: LearningRateScheduler setting learning rate to 0.000665336.\n",
            "469/468 [==============================] - 15s 31ms/step - loss: 0.0401 - acc: 0.9913 - val_loss: 0.0321 - val_acc: 0.9932\n",
            "\n",
            "Epoch 00012: val_acc did not improve from 0.99486\n",
            "Epoch 13/40\n",
            "\n",
            "Epoch 00013: LearningRateScheduler setting learning rate to 0.0006213753.\n",
            "469/468 [==============================] - 15s 31ms/step - loss: 0.0375 - acc: 0.9923 - val_loss: 0.0374 - val_acc: 0.9909\n",
            "\n",
            "Epoch 00013: val_acc did not improve from 0.99486\n",
            "Epoch 14/40\n",
            "\n",
            "Epoch 00014: LearningRateScheduler setting learning rate to 0.0005828638.\n",
            "469/468 [==============================] - 15s 31ms/step - loss: 0.0380 - acc: 0.9918 - val_loss: 0.0313 - val_acc: 0.9945\n",
            "\n",
            "Epoch 00014: val_acc did not improve from 0.99486\n",
            "Epoch 15/40\n",
            "\n",
            "Epoch 00015: LearningRateScheduler setting learning rate to 0.0005488474.\n",
            "469/468 [==============================] - 14s 31ms/step - loss: 0.0360 - acc: 0.9924 - val_loss: 0.0286 - val_acc: 0.9949\n",
            "\n",
            "Epoch 00015: val_acc did not improve from 0.99486\n",
            "Epoch 16/40\n",
            "\n",
            "Epoch 00016: LearningRateScheduler setting learning rate to 0.0005185825.\n",
            "469/468 [==============================] - 15s 31ms/step - loss: 0.0362 - acc: 0.9924 - val_loss: 0.0325 - val_acc: 0.9960\n",
            "\n",
            "Epoch 00016: val_acc improved from 0.99486 to 0.99602, saving model to modelBest.h5\n",
            "Epoch 17/40\n",
            "\n",
            "Epoch 00017: LearningRateScheduler setting learning rate to 0.000491481.\n",
            "469/468 [==============================] - 15s 31ms/step - loss: 0.0359 - acc: 0.9925 - val_loss: 0.0311 - val_acc: 0.9937\n",
            "\n",
            "Epoch 00017: val_acc did not improve from 0.99602\n",
            "Epoch 18/40\n",
            "\n",
            "Epoch 00018: LearningRateScheduler setting learning rate to 0.0004670715.\n",
            "469/468 [==============================] - 15s 31ms/step - loss: 0.0336 - acc: 0.9935 - val_loss: 0.0321 - val_acc: 0.9945\n",
            "\n",
            "Epoch 00018: val_acc did not improve from 0.99602\n",
            "Epoch 19/40\n",
            "\n",
            "Epoch 00019: LearningRateScheduler setting learning rate to 0.0004449718.\n",
            "469/468 [==============================] - 15s 31ms/step - loss: 0.0354 - acc: 0.9926 - val_loss: 0.0243 - val_acc: 0.9956\n",
            "\n",
            "Epoch 00019: val_acc did not improve from 0.99602\n",
            "Epoch 20/40\n",
            "\n",
            "Epoch 00020: LearningRateScheduler setting learning rate to 0.000424869.\n",
            "469/468 [==============================] - 15s 31ms/step - loss: 0.0338 - acc: 0.9932 - val_loss: 0.0354 - val_acc: 0.9920\n",
            "\n",
            "Epoch 00020: val_acc did not improve from 0.99602\n",
            "Epoch 21/40\n",
            "\n",
            "Epoch 00021: LearningRateScheduler setting learning rate to 0.0004065041.\n",
            "469/468 [==============================] - 15s 31ms/step - loss: 0.0343 - acc: 0.9930 - val_loss: 0.0284 - val_acc: 0.9933\n",
            "\n",
            "Epoch 00021: val_acc did not improve from 0.99602\n",
            "Epoch 22/40\n",
            "\n",
            "Epoch 00022: LearningRateScheduler setting learning rate to 0.000389661.\n",
            "469/468 [==============================] - 15s 31ms/step - loss: 0.0325 - acc: 0.9935 - val_loss: 0.0369 - val_acc: 0.9929\n",
            "\n",
            "Epoch 00022: val_acc did not improve from 0.99602\n",
            "Epoch 23/40\n",
            "\n",
            "Epoch 00023: LearningRateScheduler setting learning rate to 0.0003741581.\n",
            "469/468 [==============================] - 15s 31ms/step - loss: 0.0323 - acc: 0.9935 - val_loss: 0.0287 - val_acc: 0.9941\n",
            "\n",
            "Epoch 00023: val_acc did not improve from 0.99602\n",
            "Epoch 24/40\n",
            "\n",
            "Epoch 00024: LearningRateScheduler setting learning rate to 0.0003598417.\n",
            "469/468 [==============================] - 15s 31ms/step - loss: 0.0320 - acc: 0.9936 - val_loss: 0.0346 - val_acc: 0.9916\n",
            "\n",
            "Epoch 00024: val_acc did not improve from 0.99602\n",
            "Epoch 25/40\n",
            "\n",
            "Epoch 00025: LearningRateScheduler setting learning rate to 0.0003465804.\n",
            "469/468 [==============================] - 14s 31ms/step - loss: 0.0319 - acc: 0.9937 - val_loss: 0.0316 - val_acc: 0.9933\n",
            "\n",
            "Epoch 00025: val_acc did not improve from 0.99602\n",
            "Epoch 26/40\n",
            "\n",
            "Epoch 00026: LearningRateScheduler setting learning rate to 0.0003342618.\n",
            "469/468 [==============================] - 15s 31ms/step - loss: 0.0322 - acc: 0.9932 - val_loss: 0.0308 - val_acc: 0.9941\n",
            "\n",
            "Epoch 00026: val_acc did not improve from 0.99602\n",
            "Epoch 27/40\n",
            "\n",
            "Epoch 00027: LearningRateScheduler setting learning rate to 0.0003227889.\n",
            "469/468 [==============================] - 14s 31ms/step - loss: 0.0326 - acc: 0.9928 - val_loss: 0.0303 - val_acc: 0.9953\n",
            "\n",
            "Epoch 00027: val_acc did not improve from 0.99602\n",
            "Epoch 28/40\n",
            "\n",
            "Epoch 00028: LearningRateScheduler setting learning rate to 0.0003120774.\n",
            "469/468 [==============================] - 15s 31ms/step - loss: 0.0314 - acc: 0.9935 - val_loss: 0.0232 - val_acc: 0.9960\n",
            "\n",
            "Epoch 00028: val_acc did not improve from 0.99602\n",
            "Epoch 29/40\n",
            "\n",
            "Epoch 00029: LearningRateScheduler setting learning rate to 0.000302054.\n",
            "469/468 [==============================] - 14s 31ms/step - loss: 0.0311 - acc: 0.9935 - val_loss: 0.0380 - val_acc: 0.9917\n",
            "\n",
            "Epoch 00029: val_acc did not improve from 0.99602\n",
            "Epoch 30/40\n",
            "\n",
            "Epoch 00030: LearningRateScheduler setting learning rate to 0.0002926544.\n",
            "469/468 [==============================] - 14s 31ms/step - loss: 0.0308 - acc: 0.9935 - val_loss: 0.0221 - val_acc: 0.9956\n",
            "\n",
            "Epoch 00030: val_acc did not improve from 0.99602\n",
            "Epoch 31/40\n",
            "\n",
            "Epoch 00031: LearningRateScheduler setting learning rate to 0.0002838221.\n",
            "469/468 [==============================] - 15s 31ms/step - loss: 0.0310 - acc: 0.9937 - val_loss: 0.0293 - val_acc: 0.9941\n",
            "\n",
            "Epoch 00031: val_acc did not improve from 0.99602\n",
            "Epoch 32/40\n",
            "\n",
            "Epoch 00032: LearningRateScheduler setting learning rate to 0.0002755074.\n",
            "469/468 [==============================] - 14s 31ms/step - loss: 0.0309 - acc: 0.9933 - val_loss: 0.0276 - val_acc: 0.9940\n",
            "\n",
            "Epoch 00032: val_acc did not improve from 0.99602\n",
            "Epoch 33/40\n",
            "\n",
            "Epoch 00033: LearningRateScheduler setting learning rate to 0.000267666.\n",
            "469/468 [==============================] - 15s 31ms/step - loss: 0.0293 - acc: 0.9942 - val_loss: 0.0297 - val_acc: 0.9941\n",
            "\n",
            "Epoch 00033: val_acc did not improve from 0.99602\n",
            "Epoch 34/40\n",
            "\n",
            "Epoch 00034: LearningRateScheduler setting learning rate to 0.0002602585.\n",
            "469/468 [==============================] - 15s 31ms/step - loss: 0.0298 - acc: 0.9937 - val_loss: 0.0288 - val_acc: 0.9949\n",
            "\n",
            "Epoch 00034: val_acc did not improve from 0.99602\n",
            "Epoch 35/40\n",
            "\n",
            "Epoch 00035: LearningRateScheduler setting learning rate to 0.00025325.\n",
            "469/468 [==============================] - 15s 31ms/step - loss: 0.0309 - acc: 0.9934 - val_loss: 0.0305 - val_acc: 0.9925\n",
            "\n",
            "Epoch 00035: val_acc did not improve from 0.99602\n",
            "Epoch 36/40\n",
            "\n",
            "Epoch 00036: LearningRateScheduler setting learning rate to 0.0002466091.\n",
            "469/468 [==============================] - 15s 31ms/step - loss: 0.0305 - acc: 0.9934 - val_loss: 0.0263 - val_acc: 0.9924\n",
            "\n",
            "Epoch 00036: val_acc did not improve from 0.99602\n",
            "Epoch 37/40\n",
            "\n",
            "Epoch 00037: LearningRateScheduler setting learning rate to 0.0002403076.\n",
            "469/468 [==============================] - 15s 31ms/step - loss: 0.0296 - acc: 0.9940 - val_loss: 0.0303 - val_acc: 0.9933\n",
            "\n",
            "Epoch 00037: val_acc did not improve from 0.99602\n",
            "Epoch 38/40\n",
            "\n",
            "Epoch 00038: LearningRateScheduler setting learning rate to 0.0002343201.\n",
            "469/468 [==============================] - 15s 31ms/step - loss: 0.0302 - acc: 0.9935 - val_loss: 0.0270 - val_acc: 0.9964\n",
            "\n",
            "Epoch 00038: val_acc improved from 0.99602 to 0.99644, saving model to modelBest.h5\n",
            "Epoch 39/40\n",
            "\n",
            "Epoch 00039: LearningRateScheduler setting learning rate to 0.0002286237.\n",
            "469/468 [==============================] - 14s 31ms/step - loss: 0.0289 - acc: 0.9937 - val_loss: 0.0219 - val_acc: 0.9960\n",
            "\n",
            "Epoch 00039: val_acc did not improve from 0.99644\n",
            "Epoch 40/40\n",
            "\n",
            "Epoch 00040: LearningRateScheduler setting learning rate to 0.0002231977.\n",
            "469/468 [==============================] - 15s 31ms/step - loss: 0.0279 - acc: 0.9943 - val_loss: 0.0444 - val_acc: 0.9916\n",
            "\n",
            "Epoch 00040: val_acc did not improve from 0.99644\n"
          ],
          "name": "stdout"
        },
        {
          "output_type": "execute_result",
          "data": {
            "text/plain": [
              "<keras.callbacks.History at 0x7f9e93c9be48>"
            ]
          },
          "metadata": {
            "tags": []
          },
          "execution_count": 30
        }
      ]
    },
    {
      "cell_type": "code",
      "metadata": {
        "id": "gOwS5FUyoQvd",
        "colab_type": "code",
        "colab": {}
      },
      "source": [
        "from keras.models import load_model\n",
        "\n",
        "modelBest = load_model(\"modelBest.h5\")"
      ],
      "execution_count": 0,
      "outputs": []
    },
    {
      "cell_type": "code",
      "metadata": {
        "id": "E_ZS6pv_Ban4",
        "colab_type": "code",
        "colab": {
          "base_uri": "https://localhost:8080/",
          "height": 34
        },
        "outputId": "1b8ee0a6-e20d-49ea-e86e-1b3cd24a7d10"
      },
      "source": [
        "modelBest.evaluate_generator(datagen.flow(X_test, Y_test), steps=32)"
      ],
      "execution_count": 35,
      "outputs": [
        {
          "output_type": "execute_result",
          "data": {
            "text/plain": [
              "[0.033915741892997175, 0.9921875]"
            ]
          },
          "metadata": {
            "tags": []
          },
          "execution_count": 35
        }
      ]
    },
    {
      "cell_type": "code",
      "metadata": {
        "id": "zHFf69WsouRW",
        "colab_type": "code",
        "colab": {}
      },
      "source": [
        "test_generator = datagen.flow(X_test, Y_test,\n",
        "  shuffle=False)\n",
        "y_pred = modelBest.predict_generator(test_generator, steps=100) \n",
        "#print(y_pred)"
      ],
      "execution_count": 0,
      "outputs": []
    },
    {
      "cell_type": "code",
      "metadata": {
        "id": "Yfyx4qYT7Lyu",
        "colab_type": "code",
        "outputId": "454b89bf-2ae2-43eb-c4d6-8a12080ff967",
        "colab": {
          "base_uri": "https://localhost:8080/",
          "height": 51
        }
      },
      "source": [
        "misint = []\n",
        "ip = 0\n",
        "im = 0\n",
        "import numpy as np\n",
        "for p in y_pred:\n",
        "  #print(p)\n",
        "  #print(np.argmax(p), y_test[ip])\n",
        "  if np.argmax(p) != y_test[ip]:\n",
        "    misint.append(ip)\n",
        "    im = im + 1\n",
        "    if im == 25:\n",
        "      break\n",
        "  ip = ip +1\n",
        "print(misint)\n",
        " \n"
      ],
      "execution_count": 59,
      "outputs": [
        {
          "output_type": "stream",
          "text": [
            "[321, 340, 449, 582, 646, 659, 674, 924, 947, 1014, 1039, 1114, 1232, 1247, 1260, 1299, 1393, 1621, 1709, 1901, 2018, 2035, 2118, 2135, 2293]\n"
          ],
          "name": "stdout"
        },
        {
          "output_type": "display_data",
          "data": {
            "text/plain": [
              "<Figure size 2016x2016 with 0 Axes>"
            ]
          },
          "metadata": {
            "tags": []
          }
        }
      ]
    },
    {
      "cell_type": "markdown",
      "metadata": {
        "id": "httaT3mPK_pw",
        "colab_type": "text"
      },
      "source": [
        "## Misinterprested images seem to be hard to understand even to the human eye."
      ]
    },
    {
      "cell_type": "code",
      "metadata": {
        "id": "FLLFPKvh_-Iu",
        "colab_type": "code",
        "outputId": "9f032c06-bdaa-4b17-ccc6-38e0eba0ad2f",
        "colab": {
          "base_uri": "https://localhost:8080/",
          "height": 1610
        }
      },
      "source": [
        "from matplotlib import pyplot as plt\n",
        "%matplotlib inline\n",
        "\n",
        "test_data = X_test * 255\n",
        "test_data = test_data.reshape(10000, 28, 28)\n",
        "\n",
        "count = 0\n",
        "fig = plt.figure(figsize=(28, 28))\n",
        "for i in misint:\n",
        "  plt.subplot(5,5,count+1)\n",
        "  plt.imshow(test_data[i])\n",
        "  count = count + 1"
      ],
      "execution_count": 68,
      "outputs": [
        {
          "output_type": "execute_result",
          "data": {
            "text/plain": [
              "<matplotlib.image.AxesImage at 0x7f9e83df6be0>"
            ]
          },
          "metadata": {
            "tags": []
          },
          "execution_count": 68
        },
        {
          "output_type": "display_data",
          "data": {
            "image/png": "[encoded data removed]",
            "text/plain": [
              "<Figure size 2016x2016 with 25 Axes>"
            ]
          },
          "metadata": {
            "tags": []
          }
        }
      ]
    },
    {
      "cell_type": "code",
      "metadata": {
        "id": "AtsH-lLk-eLb",
        "colab_type": "code",
        "colab": {}
      },
      "source": [
        "score = model.evaluate(X_test, Y_test, verbose=0)"
      ],
      "execution_count": 0,
      "outputs": []
    },
    {
      "cell_type": "code",
      "metadata": {
        "id": "mkX8JMv79q9r",
        "colab_type": "code",
        "colab": {}
      },
      "source": [
        "print(score)"
      ],
      "execution_count": 0,
      "outputs": []
    },
    {
      "cell_type": "code",
      "metadata": {
        "id": "OCWoJkwE9suh",
        "colab_type": "code",
        "colab": {}
      },
      "source": [
        "y_pred = model.predict(X_test)"
      ],
      "execution_count": 0,
      "outputs": []
    },
    {
      "cell_type": "code",
      "metadata": {
        "id": "Ym7iCFBm9uBs",
        "colab_type": "code",
        "colab": {}
      },
      "source": [
        "print(y_pred[:9])\n",
        "print(y_test[:9])"
      ],
      "execution_count": 0,
      "outputs": []
    },
    {
      "cell_type": "code",
      "metadata": {
        "id": "CT--y98_dr2T",
        "colab_type": "code",
        "colab": {}
      },
      "source": [
        "layer_dict = dict([(layer.name, layer) for layer in model.layers])"
      ],
      "execution_count": 0,
      "outputs": []
    },
    {
      "cell_type": "code",
      "metadata": {
        "id": "2GY4Upv4dsUR",
        "colab_type": "code",
        "colab": {}
      },
      "source": [
        "import numpy as np\n",
        "from matplotlib import pyplot as plt\n",
        "from keras import backend as K\n",
        "%matplotlib inline\n",
        "# util function to convert a tensor into a valid image\n",
        "def deprocess_image(x):\n",
        "    # normalize tensor: center on 0., ensure std is 0.1\n",
        "    x -= x.mean()\n",
        "    x /= (x.std() + 1e-5)\n",
        "    x *= 0.1\n",
        "\n",
        "    # clip to [0, 1]\n",
        "    x += 0.5\n",
        "    x = np.clip(x, 0, 1)\n",
        "\n",
        "    # convert to RGB array\n",
        "    x *= 255\n",
        "    #x = x.transpose((1, 2, 0))\n",
        "    x = np.clip(x, 0, 255).astype('uint8')\n",
        "    return x\n",
        "\n",
        "def vis_img_in_filter(img = np.array(X_train[2]).reshape((1, 28, 28, 1)).astype(np.float64), \n",
        "                      layer_name = 'conv2d_1'):\n",
        "    layer_output = layer_dict[layer_name].output\n",
        "    img_ascs = list()\n",
        "    for filter_index in range(layer_output.shape[3]):\n",
        "        # build a loss function that maximizes the activation\n",
        "        # of the nth filter of the layer considered\n",
        "        loss = K.mean(layer_output[:, :, :, filter_index])\n",
        "\n",
        "        # compute the gradient of the input picture wrt this loss\n",
        "        grads = K.gradients(loss, model.input)[0]\n",
        "\n",
        "        # normalization trick: we normalize the gradient\n",
        "        grads /= (K.sqrt(K.mean(K.square(grads))) + 1e-5)\n",
        "\n",
        "        # this function returns the loss and grads given the input picture\n",
        "        iterate = K.function([model.input], [loss, grads])\n",
        "\n",
        "        # step size for gradient ascent\n",
        "        step = 5.\n",
        "\n",
        "        img_asc = np.array(img)\n",
        "        # run gradient ascent for 20 steps\n",
        "        for i in range(20):\n",
        "            loss_value, grads_value = iterate([img_asc])\n",
        "            img_asc += grads_value * step\n",
        "\n",
        "        img_asc = img_asc[0]\n",
        "        img_ascs.append(deprocess_image(img_asc).reshape((28, 28)))\n",
        "        \n",
        "    if layer_output.shape[3] >= 35:\n",
        "        plot_x, plot_y = 6, 6\n",
        "    elif layer_output.shape[3] >= 23:\n",
        "        plot_x, plot_y = 4, 6\n",
        "    elif layer_output.shape[3] >= 11:\n",
        "        plot_x, plot_y = 2, 6\n",
        "    else:\n",
        "        plot_x, plot_y = 1, 2\n",
        "    fig, ax = plt.subplots(plot_x, plot_y, figsize = (12, 12))\n",
        "    ax[0, 0].imshow(img.reshape((28, 28)), cmap = 'gray')\n",
        "    ax[0, 0].set_title('Input image')\n",
        "    fig.suptitle('Input image and %s filters' % (layer_name,))\n",
        "    fig.tight_layout(pad = 0.3, rect = [0, 0, 0.9, 0.9])\n",
        "    for (x, y) in [(i, j) for i in range(plot_x) for j in range(plot_y)]:\n",
        "        if x == 0 and y == 0:\n",
        "            continue\n",
        "        ax[x, y].imshow(img_ascs[x * plot_y + y - 1], cmap = 'gray')\n",
        "        ax[x, y].set_title('filter %d' % (x * plot_y + y - 1))\n",
        "\n",
        "vis_img_in_filter()"
      ],
      "execution_count": 0,
      "outputs": []
    },
    {
      "cell_type": "code",
      "metadata": {
        "id": "9tvptcn8dxvp",
        "colab_type": "code",
        "colab": {}
      },
      "source": [
        ""
      ],
      "execution_count": 0,
      "outputs": []
    }
  ]
}