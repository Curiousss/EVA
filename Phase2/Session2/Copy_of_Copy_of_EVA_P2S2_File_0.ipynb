{
  "nbformat": 4,
  "nbformat_minor": 0,
  "metadata": {
    "colab": {
      "name": "Copy of Copy of EVA P2S2 File 0.ipynb",
      "provenance": [],
      "collapsed_sections": [],
      "include_colab_link": true
    },
    "kernelspec": {
      "name": "python3",
      "display_name": "Python 3"
    },
    "accelerator": "GPU"
  },
  "cells": [
    {
      "cell_type": "markdown",
      "metadata": {
        "id": "view-in-github",
        "colab_type": "text"
      },
      "source": [
        "<a href=\"https://colab.research.google.com/github/Curiousss/EVA/blob/master/Phase2/Session2/Copy_of_Copy_of_EVA_P2S2_File_0.ipynb\" target=\"_parent\"><img src=\"https://colab.research.google.com/assets/colab-badge.svg\" alt=\"Open In Colab\"/></a>"
      ]
    },
    {
      "cell_type": "code",
      "metadata": {
        "id": "PsRXqXtrZg8j",
        "colab_type": "code",
        "outputId": "7a393777-3da5-4ef8-8e2e-3620d8f34545",
        "colab": {
          "base_uri": "https://localhost:8080/",
          "height": 83
        }
      },
      "source": [
        "%matplotlib inline\n",
        "import pandas as pd\n",
        "import numpy as np\n",
        "import matplotlib.pyplot as plt\n",
        "from keras.models import Sequential\n",
        "from keras.layers import Dense, SimpleRNN"
      ],
      "execution_count": 0,
      "outputs": [
        {
          "output_type": "stream",
          "text": [
            "Using TensorFlow backend.\n"
          ],
          "name": "stderr"
        },
        {
          "output_type": "display_data",
          "data": {
            "text/html": [
              "<p style=\"color: red;\">\n",
              "The default version of TensorFlow in Colab will soon switch to TensorFlow 2.x.<br>\n",
              "We recommend you <a href=\"https://www.tensorflow.org/guide/migrate\" target=\"_blank\">upgrade</a> now \n",
              "or ensure your notebook will continue to use TensorFlow 1.x via the <code>%tensorflow_version 1.x</code> magic:\n",
              "<a href=\"https://colab.research.google.com/notebooks/tensorflow_version.ipynb\" target=\"_blank\">more info</a>.</p>\n"
            ],
            "text/plain": [
              "<IPython.core.display.HTML object>"
            ]
          },
          "metadata": {
            "tags": []
          }
        }
      ]
    },
    {
      "cell_type": "code",
      "metadata": {
        "id": "xexFmDLOZuZg",
        "colab_type": "code",
        "colab": {}
      },
      "source": [
        "# convert into dataset matrix\n",
        "def convertToMatrix(data, step):\n",
        " X, Y =[], []\n",
        " for i in range(len(data)-step):\n",
        "  d=i+step  \n",
        "  X.append(data[i:d,])\n",
        "  Y.append(data[d,])\n",
        " return np.array(X), np.array(Y)"
      ],
      "execution_count": 0,
      "outputs": []
    },
    {
      "cell_type": "code",
      "metadata": {
        "id": "buL6VQ8QZzeL",
        "colab_type": "code",
        "outputId": "f709d4af-7f8d-4676-9281-e45ab7ddada7",
        "colab": {
          "base_uri": "https://localhost:8080/",
          "height": 198
        }
      },
      "source": [
        "step = 4\n",
        "N = 1000    \n",
        "Tp = 800    \n",
        "\n",
        "t=np.arange(0,N)\n",
        "x=np.sin(0.02*t)+2*np.random.rand(N)\n",
        "df = pd.DataFrame(x)\n",
        "df.head()"
      ],
      "execution_count": 0,
      "outputs": [
        {
          "output_type": "execute_result",
          "data": {
            "text/html": [
              "<div>\n",
              "<style scoped>\n",
              "    .dataframe tbody tr th:only-of-type {\n",
              "        vertical-align: middle;\n",
              "    }\n",
              "\n",
              "    .dataframe tbody tr th {\n",
              "        vertical-align: top;\n",
              "    }\n",
              "\n",
              "    .dataframe thead th {\n",
              "        text-align: right;\n",
              "    }\n",
              "</style>\n",
              "<table border=\"1\" class=\"dataframe\">\n",
              "  <thead>\n",
              "    <tr style=\"text-align: right;\">\n",
              "      <th></th>\n",
              "      <th>0</th>\n",
              "    </tr>\n",
              "  </thead>\n",
              "  <tbody>\n",
              "    <tr>\n",
              "      <th>0</th>\n",
              "      <td>0.207464</td>\n",
              "    </tr>\n",
              "    <tr>\n",
              "      <th>1</th>\n",
              "      <td>0.264939</td>\n",
              "    </tr>\n",
              "    <tr>\n",
              "      <th>2</th>\n",
              "      <td>1.242263</td>\n",
              "    </tr>\n",
              "    <tr>\n",
              "      <th>3</th>\n",
              "      <td>1.165794</td>\n",
              "    </tr>\n",
              "    <tr>\n",
              "      <th>4</th>\n",
              "      <td>0.296069</td>\n",
              "    </tr>\n",
              "  </tbody>\n",
              "</table>\n",
              "</div>"
            ],
            "text/plain": [
              "          0\n",
              "0  0.207464\n",
              "1  0.264939\n",
              "2  1.242263\n",
              "3  1.165794\n",
              "4  0.296069"
            ]
          },
          "metadata": {
            "tags": []
          },
          "execution_count": 3
        }
      ]
    },
    {
      "cell_type": "code",
      "metadata": {
        "id": "-b8l_c4sZ02I",
        "colab_type": "code",
        "outputId": "d04924ff-1b97-496a-f67d-463761fde12d",
        "colab": {
          "base_uri": "https://localhost:8080/",
          "height": 265
        }
      },
      "source": [
        "plt.plot(df)\n",
        "plt.show()"
      ],
      "execution_count": 0,
      "outputs": [
        {
          "output_type": "display_data",
          "data": {
            "image/png": "[encoded data removed]",
            "text/plain": [
              "<Figure size 432x288 with 1 Axes>"
            ]
          },
          "metadata": {
            "tags": []
          }
        }
      ]
    },
    {
      "cell_type": "code",
      "metadata": {
        "id": "OETjs_L1Z2zx",
        "colab_type": "code",
        "colab": {}
      },
      "source": [
        "values=df.values\n",
        "train,test = values[0:Tp,:], values[Tp:N,:]\n",
        "\n",
        "# add step elements into train and test\n",
        "test = np.append(test,np.repeat(test[-1,],step))\n",
        "train = np.append(train,np.repeat(train[-1,],step))\n",
        " \n",
        "trainX,trainY =convertToMatrix(train,step)\n",
        "testX,testY =convertToMatrix(test,step)\n",
        "trainX = np.reshape(trainX, (trainX.shape[0], 1, trainX.shape[1]))\n",
        "testX = np.reshape(testX, (testX.shape[0], 1, testX.shape[1]))"
      ],
      "execution_count": 0,
      "outputs": []
    },
    {
      "cell_type": "code",
      "metadata": {
        "id": "AcKtwCCHZ4Ww",
        "colab_type": "code",
        "outputId": "a40ab686-60b6-4308-deff-31f61379c1b8",
        "colab": {
          "base_uri": "https://localhost:8080/",
          "height": 272
        }
      },
      "source": [
        "model = Sequential()\n",
        "model.add(SimpleRNN(units=32, input_shape=(1,step)))\n",
        "model.add(Dense(8, activation=\"relu\")) \n",
        "model.add(Dense(1))\n",
        "model.compile(loss='mean_squared_error', optimizer='rmsprop')\n",
        "model.summary()"
      ],
      "execution_count": 0,
      "outputs": [
        {
          "output_type": "stream",
          "text": [
            "Model: \"sequential_3\"\n",
            "_________________________________________________________________\n",
            "Layer (type)                 Output Shape              Param #   \n",
            "=================================================================\n",
            "simple_rnn_3 (SimpleRNN)     (None, 32)                1184      \n",
            "_________________________________________________________________\n",
            "dense_5 (Dense)              (None, 8)                 264       \n",
            "_________________________________________________________________\n",
            "dense_6 (Dense)              (None, 1)                 9         \n",
            "=================================================================\n",
            "Total params: 1,457\n",
            "Trainable params: 1,457\n",
            "Non-trainable params: 0\n",
            "_________________________________________________________________\n"
          ],
          "name": "stdout"
        }
      ]
    },
    {
      "cell_type": "code",
      "metadata": {
        "id": "tsF5r8eQZ6kr",
        "colab_type": "code",
        "outputId": "2ec14e56-f4f6-48cf-d366-a67078ee7a50",
        "colab": {
          "base_uri": "https://localhost:8080/",
          "height": 1000
        }
      },
      "source": [
        "model.fit(trainX,trainY, epochs=100, batch_size=32, verbose=2)\n",
        "trainPredict = model.predict(trainX)\n",
        "testPredict= model.predict(testX)\n",
        "predicted=np.concatenate((trainPredict,testPredict),axis=0)\n",
        "\n",
        "trainScore = model.evaluate(trainX, trainY, verbose=0)\n",
        "print(trainScore)"
      ],
      "execution_count": 0,
      "outputs": [
        {
          "output_type": "stream",
          "text": [
            "WARNING:tensorflow:From /usr/local/lib/python3.6/dist-packages/keras/backend/tensorflow_backend.py:1033: The name tf.assign_add is deprecated. Please use tf.compat.v1.assign_add instead.\n",
            "\n",
            "WARNING:tensorflow:From /usr/local/lib/python3.6/dist-packages/keras/backend/tensorflow_backend.py:1020: The name tf.assign is deprecated. Please use tf.compat.v1.assign instead.\n",
            "\n",
            "WARNING:tensorflow:From /usr/local/lib/python3.6/dist-packages/keras/backend/tensorflow_backend.py:3005: The name tf.Session is deprecated. Please use tf.compat.v1.Session instead.\n",
            "\n",
            "Epoch 1/100\n",
            "WARNING:tensorflow:From /usr/local/lib/python3.6/dist-packages/keras/backend/tensorflow_backend.py:190: The name tf.get_default_session is deprecated. Please use tf.compat.v1.get_default_session instead.\n",
            "\n",
            "WARNING:tensorflow:From /usr/local/lib/python3.6/dist-packages/keras/backend/tensorflow_backend.py:197: The name tf.ConfigProto is deprecated. Please use tf.compat.v1.ConfigProto instead.\n",
            "\n",
            "WARNING:tensorflow:From /usr/local/lib/python3.6/dist-packages/keras/backend/tensorflow_backend.py:207: The name tf.global_variables is deprecated. Please use tf.compat.v1.global_variables instead.\n",
            "\n",
            "WARNING:tensorflow:From /usr/local/lib/python3.6/dist-packages/keras/backend/tensorflow_backend.py:216: The name tf.is_variable_initialized is deprecated. Please use tf.compat.v1.is_variable_initialized instead.\n",
            "\n",
            "WARNING:tensorflow:From /usr/local/lib/python3.6/dist-packages/keras/backend/tensorflow_backend.py:223: The name tf.variables_initializer is deprecated. Please use tf.compat.v1.variables_initializer instead.\n",
            "\n",
            " - 10s - loss: 0.4178\n",
            "Epoch 2/100\n",
            " - 0s - loss: 0.4074\n",
            "Epoch 3/100\n",
            " - 0s - loss: 0.4063\n",
            "Epoch 4/100\n",
            " - 0s - loss: 0.4049\n",
            "Epoch 5/100\n",
            " - 0s - loss: 0.4017\n",
            "Epoch 6/100\n",
            " - 0s - loss: 0.4025\n",
            "Epoch 7/100\n",
            " - 0s - loss: 0.4018\n",
            "Epoch 8/100\n",
            " - 0s - loss: 0.4009\n",
            "Epoch 9/100\n",
            " - 0s - loss: 0.4026\n",
            "Epoch 10/100\n",
            " - 0s - loss: 0.4000\n",
            "Epoch 11/100\n",
            " - 0s - loss: 0.3989\n",
            "Epoch 12/100\n",
            " - 0s - loss: 0.3983\n",
            "Epoch 13/100\n",
            " - 0s - loss: 0.3984\n",
            "Epoch 14/100\n",
            " - 0s - loss: 0.3973\n",
            "Epoch 15/100\n",
            " - 0s - loss: 0.3962\n",
            "Epoch 16/100\n",
            " - 0s - loss: 0.3958\n",
            "Epoch 17/100\n",
            " - 0s - loss: 0.3976\n",
            "Epoch 18/100\n",
            " - 0s - loss: 0.3956\n",
            "Epoch 19/100\n",
            " - 0s - loss: 0.3972\n",
            "Epoch 20/100\n",
            " - 0s - loss: 0.3964\n",
            "Epoch 21/100\n",
            " - 0s - loss: 0.3942\n",
            "Epoch 22/100\n",
            " - 0s - loss: 0.3941\n",
            "Epoch 23/100\n",
            " - 0s - loss: 0.3925\n",
            "Epoch 24/100\n",
            " - 0s - loss: 0.3935\n",
            "Epoch 25/100\n",
            " - 0s - loss: 0.3936\n",
            "Epoch 26/100\n",
            " - 0s - loss: 0.3946\n",
            "Epoch 27/100\n",
            " - 0s - loss: 0.3913\n",
            "Epoch 28/100\n",
            " - 0s - loss: 0.3912\n",
            "Epoch 29/100\n",
            " - 0s - loss: 0.3944\n",
            "Epoch 30/100\n",
            " - 0s - loss: 0.3917\n",
            "Epoch 31/100\n",
            " - 0s - loss: 0.3897\n",
            "Epoch 32/100\n",
            " - 0s - loss: 0.3895\n",
            "Epoch 33/100\n",
            " - 0s - loss: 0.3914\n",
            "Epoch 34/100\n",
            " - 0s - loss: 0.3913\n",
            "Epoch 35/100\n",
            " - 0s - loss: 0.3905\n",
            "Epoch 36/100\n",
            " - 0s - loss: 0.3898\n",
            "Epoch 37/100\n",
            " - 0s - loss: 0.3915\n",
            "Epoch 38/100\n",
            " - 0s - loss: 0.3889\n",
            "Epoch 39/100\n",
            " - 0s - loss: 0.3872\n",
            "Epoch 40/100\n",
            " - 0s - loss: 0.3899\n",
            "Epoch 41/100\n",
            " - 0s - loss: 0.3882\n",
            "Epoch 42/100\n",
            " - 0s - loss: 0.3877\n",
            "Epoch 43/100\n",
            " - 0s - loss: 0.3877\n",
            "Epoch 44/100\n",
            " - 0s - loss: 0.3885\n",
            "Epoch 45/100\n",
            " - 0s - loss: 0.3868\n",
            "Epoch 46/100\n",
            " - 0s - loss: 0.3859\n",
            "Epoch 47/100\n",
            " - 0s - loss: 0.3859\n",
            "Epoch 48/100\n",
            " - 0s - loss: 0.3852\n",
            "Epoch 49/100\n",
            " - 0s - loss: 0.3855\n",
            "Epoch 50/100\n",
            " - 0s - loss: 0.3848\n",
            "Epoch 51/100\n",
            " - 0s - loss: 0.3843\n",
            "Epoch 52/100\n",
            " - 0s - loss: 0.3856\n",
            "Epoch 53/100\n",
            " - 0s - loss: 0.3831\n",
            "Epoch 54/100\n",
            " - 0s - loss: 0.3843\n",
            "Epoch 55/100\n",
            " - 0s - loss: 0.3826\n",
            "Epoch 56/100\n",
            " - 0s - loss: 0.3846\n",
            "Epoch 57/100\n",
            " - 0s - loss: 0.3843\n",
            "Epoch 58/100\n",
            " - 0s - loss: 0.3831\n",
            "Epoch 59/100\n",
            " - 0s - loss: 0.3802\n",
            "Epoch 60/100\n",
            " - 0s - loss: 0.3830\n",
            "Epoch 61/100\n",
            " - 0s - loss: 0.3804\n",
            "Epoch 62/100\n",
            " - 0s - loss: 0.3820\n",
            "Epoch 63/100\n",
            " - 0s - loss: 0.3792\n",
            "Epoch 64/100\n",
            " - 0s - loss: 0.3805\n",
            "Epoch 65/100\n",
            " - 0s - loss: 0.3802\n",
            "Epoch 66/100\n",
            " - 0s - loss: 0.3820\n",
            "Epoch 67/100\n",
            " - 0s - loss: 0.3789\n",
            "Epoch 68/100\n",
            " - 0s - loss: 0.3804\n",
            "Epoch 69/100\n",
            " - 0s - loss: 0.3797\n",
            "Epoch 70/100\n",
            " - 0s - loss: 0.3807\n",
            "Epoch 71/100\n",
            " - 0s - loss: 0.3784\n",
            "Epoch 72/100\n",
            " - 0s - loss: 0.3801\n",
            "Epoch 73/100\n",
            " - 0s - loss: 0.3822\n",
            "Epoch 74/100\n",
            " - 0s - loss: 0.3781\n",
            "Epoch 75/100\n",
            " - 0s - loss: 0.3785\n",
            "Epoch 76/100\n",
            " - 0s - loss: 0.3792\n",
            "Epoch 77/100\n",
            " - 0s - loss: 0.3793\n",
            "Epoch 78/100\n",
            " - 0s - loss: 0.3781\n",
            "Epoch 79/100\n",
            " - 0s - loss: 0.3782\n",
            "Epoch 80/100\n",
            " - 0s - loss: 0.3758\n",
            "Epoch 81/100\n",
            " - 0s - loss: 0.3787\n",
            "Epoch 82/100\n",
            " - 0s - loss: 0.3723\n",
            "Epoch 83/100\n",
            " - 0s - loss: 0.3760\n",
            "Epoch 84/100\n",
            " - 0s - loss: 0.3785\n",
            "Epoch 85/100\n",
            " - 0s - loss: 0.3761\n",
            "Epoch 86/100\n",
            " - 0s - loss: 0.3775\n",
            "Epoch 87/100\n",
            " - 0s - loss: 0.3753\n",
            "Epoch 88/100\n",
            " - 0s - loss: 0.3764\n",
            "Epoch 89/100\n",
            " - 0s - loss: 0.3774\n",
            "Epoch 90/100\n",
            " - 0s - loss: 0.3721\n",
            "Epoch 91/100\n",
            " - 0s - loss: 0.3785\n",
            "Epoch 92/100\n",
            " - 0s - loss: 0.3761\n",
            "Epoch 93/100\n",
            " - 0s - loss: 0.3756\n",
            "Epoch 94/100\n",
            " - 0s - loss: 0.3758\n",
            "Epoch 95/100\n",
            " - 0s - loss: 0.3746\n",
            "Epoch 96/100\n",
            " - 0s - loss: 0.3743\n",
            "Epoch 97/100\n",
            " - 0s - loss: 0.3739\n",
            "Epoch 98/100\n",
            " - 0s - loss: 0.3756\n",
            "Epoch 99/100\n",
            " - 0s - loss: 0.3758\n",
            "Epoch 100/100\n",
            " - 0s - loss: 0.3747\n",
            "0.36881875455379487\n"
          ],
          "name": "stdout"
        }
      ]
    },
    {
      "cell_type": "code",
      "metadata": {
        "id": "GlxseXMaZ8B0",
        "colab_type": "code",
        "outputId": "3544a1dd-f9d8-4889-d4fd-1377222086cf",
        "colab": {
          "base_uri": "https://localhost:8080/",
          "height": 265
        }
      },
      "source": [
        "index = df.index.values\n",
        "plt.plot(index,df)\n",
        "plt.plot(index,predicted)\n",
        "plt.axvline(df.index[Tp], c=\"r\")\n",
        "plt.show()"
      ],
      "execution_count": 0,
      "outputs": [
        {
          "output_type": "display_data",
          "data": {
            "image/png": "[encoded data removed]",
            "text/plain": [
              "<Figure size 432x288 with 1 Axes>"
            ]
          },
          "metadata": {
            "tags": []
          }
        }
      ]
    },
    {
      "cell_type": "code",
      "metadata": {
        "id": "dHxiMsG2awa0",
        "colab_type": "code",
        "colab": {}
      },
      "source": [
        ""
      ],
      "execution_count": 0,
      "outputs": []
    }
  ]
}