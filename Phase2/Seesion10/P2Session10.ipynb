{
  "nbformat": 4,
  "nbformat_minor": 0,
  "metadata": {
    "colab": {
      "name": "P2Session10.ipynb",
      "provenance": [],
      "collapsed_sections": [],
      "authorship_tag": "ABX9TyPPWWsvNvM6px0qIk7z6hrJ",
      "include_colab_link": true
    },
    "kernelspec": {
      "name": "python3",
      "display_name": "Python 3"
    },
    "accelerator": "GPU"
  },
  "cells": [
    {
      "cell_type": "markdown",
      "metadata": {
        "id": "view-in-github",
        "colab_type": "text"
      },
      "source": [
        "<a href=\"https://colab.research.google.com/github/Curiousss/EVA/blob/master/Phase2/Seesion10/P2Session10.ipynb\" target=\"_parent\"><img src=\"https://colab.research.google.com/assets/colab-badge.svg\" alt=\"Open In Colab\"/></a>"
      ]
    },
    {
      "cell_type": "code",
      "metadata": {
        "id": "sJY2BEpFaqT7",
        "colab_type": "code",
        "colab": {
          "base_uri": "https://localhost:8080/",
          "height": 123
        },
        "outputId": "13d64092-cd9a-4815-9080-d4ec1f342e3a"
      },
      "source": [
        "!pip3 install pybullet --upgrade"
      ],
      "execution_count": 1,
      "outputs": [
        {
          "output_type": "stream",
          "text": [
            "ERROR! Session/line number was not unique in database. History logging moved to new session 59\n",
            "Collecting pybullet\n",
            "\u001b[?25l  Downloading https://files.pythonhosted.org/packages/d8/ac/a422ab8d1c57ab3f43e573b5a5f532e6afd348d81308fe66a1ecb691548e/pybullet-2.7.1-cp36-cp36m-manylinux1_x86_64.whl (95.0MB)\n",
            "\u001b[K     |████████████████████████████████| 95.0MB 47kB/s \n",
            "\u001b[?25hInstalling collected packages: pybullet\n",
            "Successfully installed pybullet-2.7.1\n"
          ],
          "name": "stdout"
        }
      ]
    },
    {
      "cell_type": "code",
      "metadata": {
        "id": "Kv10juJZ5v54",
        "colab_type": "code",
        "colab": {}
      },
      "source": [
        "import os\n",
        "import time\n",
        "import random \n",
        "import numpy as np \n",
        "import matplotlib.pyplot as plt \n",
        "import pybullet_envs \n",
        "import gym \n",
        "import torch \n",
        "import torch.nn as nn \n",
        "import torch.nn.functional as F \n",
        "from gym import wrappers\n",
        "from torch.autograd import Variable \n",
        "from collections import deque\n"
      ],
      "execution_count": 0,
      "outputs": []
    },
    {
      "cell_type": "code",
      "metadata": {
        "colab_type": "code",
        "id": "2fPtp-o6Ac6a",
        "colab": {}
      },
      "source": [
        "class ReplayBuffer(object):\n",
        "  # Init is there for all classes to initialize an object\n",
        "  # Self is pointer to the object of the class which is initialized\n",
        "  def __init__(self, max_size = 1e6):\n",
        "    self.storage =[] \n",
        "    self.max_size = max_size \n",
        "    self.ptr = 0\n",
        "\n",
        "  def add(self, transition):\n",
        "    if len(self.storage) == self.max_size:\n",
        "      self.storage[int(self.ptr)] = transition \n",
        "      self.ptr = (self.ptr + 1) % self.max_size\n",
        "    else:\n",
        "      self.storage.append(transition)\n",
        "\n",
        "  def sample(self, batch_size):\n",
        "    ind = np.random.randint (e, len(self.storage), batch_size) \n",
        "    batch_states, batch_next_states, batch_actions, batch_rewards, batch_dones = [], [], [], [], [] \n",
        "    \n",
        "    for i in ind:\n",
        "      state, next_state, action, reward, done = self.storage[i] \n",
        "      batch_states.append(np.array(state, copy = False)) \n",
        "      batch_next_states.append(np.array(next_state, copy = False)) \n",
        "      batch_actions.append(np.array(action, copy - False)) \n",
        "      batch_rewards.append(np.array(reward, copy - False)) \n",
        "      batch_dones.append(np.array(done, copy - False)) \n",
        "    return np.array(batch_states), np.array(batch_next_states), np.array(batch_actions), np.array(batch_rewards).reshape(-1, 1), np.array(batch_dones).reshape(-1, 1)"
      ],
      "execution_count": 0,
      "outputs": []
    },
    {
      "cell_type": "code",
      "metadata": {
        "id": "SWn_h12AxRZ1",
        "colab_type": "code",
        "colab": {}
      },
      "source": [
        "class Actor(nn.Module):\n",
        "  def __init__(self, state_dims, action_dim, max_action):\n",
        "    #Max action is to clip in case we added too much noise\n",
        "    super(Actor, self).__init__()# activate the inheritance \n",
        "    self.layer_1 = nn.Linear(state_dims, 400) \n",
        "    self.layer_2 = nn.Linear(400, 300) \n",
        "    self.layer_3 = nn.Linear(300, action_dim) \n",
        "    self.max_action = max_action\n",
        "\n",
        "  def forward(self,x):\n",
        "    x = F.relu(self.layer_1(x)) \n",
        "    x = F.relu(self.layer_2(x)) \n",
        "    x = self.max_action * torch.tanh(self.layer_3(x))\n",
        "    return x"
      ],
      "execution_count": 0,
      "outputs": []
    },
    {
      "cell_type": "code",
      "metadata": {
        "id": "WbVanHmayrv1",
        "colab_type": "code",
        "colab": {}
      },
      "source": [
        "class Critic(nn.Module):\n",
        "  def __init__(self, state_dims, action_dim):\n",
        "    #max_action is to clip in case we need added too much noise\n",
        "    super(Critic, self).__init__() #activate the inheritence\n",
        "    #First Critic Network\n",
        "    self.layer_1 = nn.Linear(state_dims + action_dim, 400)\n",
        "    self.layer_2 = nn.Linear(400, 300)\n",
        "    self.layer_3 = nn.Linear(300, action_dim) \n",
        "    #Second Critic Network \n",
        "    self.layer_4 = nn.Linear(state_dims + action_dim, 400) \n",
        "    self.layer_5 = nn.Linear(400, 300) \n",
        "    self.layer_6 = nn.Linear(300, action_dim)\n",
        "\n",
        "  def forward(self, x, u): \n",
        "    # x is state, u is action \n",
        "    xu = torch.cat([x, u], 1) # 1 for vertical concatenation, 0 for Horizontal\n",
        "    #forward propagation on first Critic\n",
        "    x1 = F.relu(self.layer_1(xu))\n",
        "    x1 = F.relu(self.layer_2(x1))\n",
        "    x1 = self.layer_3(x1) \n",
        "    # forward propagation on second Critic \n",
        "    x2 = F.relu(self.layer_4(xu)) \n",
        "    x2 = F.relu(self.layer_5(x2))\n",
        "    x2 = self.layer_6(x2)\n",
        "    return x1, x2\n",
        "\n",
        "  def Q1(self, x, u): \n",
        "    #x state, u- action This is used for updating the Q values \n",
        "    xu = torch.cat([x, u], 1) # 1 for vertical concatenation, 0 for horizontal\n",
        "    x1 = F.relu(self.layer_1(xu))\n",
        "    x1 = F.relu(self.layer_2(x1))\n",
        "    x1 = self.layer_3(x1)\n",
        "    return x1"
      ],
      "execution_count": 0,
      "outputs": []
    },
    {
      "cell_type": "code",
      "metadata": {
        "id": "1Yq9aW9OyO4o",
        "colab_type": "code",
        "colab": {}
      },
      "source": [
        "# Select CPU or GPU\n",
        "device = torch.device('cuda' if torch.cuda.is_available() else cpu)\n",
        "\n",
        "# Building the whole Training Process into a class\n",
        "class T3D(object):\n",
        "  def __init__(self, state_dims, action_dim, max_action):\n",
        "    # making sure out T3D can work with any environment\n",
        "    self.actor = Actor(state_dims, action_dim, max_action).to(device) #GD\n",
        "    self.actor_target = Actor(state_dims, action_dim, max_action).to(device) #Polyak Averaging\n",
        "    self.actor_target.load_state_dict(self.actor.state_dict())\n",
        "    #Initializing with model weights to keep them same\n",
        "    self.actor_optimizer = torch.optim.Adam(self.actor.parameters())\n",
        "    \n",
        "    self.critic = Critic(state_dims, action_dim).to(device) #GD \n",
        "    self.critic_target = Critic(state_dims, action_dim).to(device) #Polyak Averaging \n",
        "    self.critic_target.load_state_dict(self.critic.state_dict()) \n",
        "    #Initializing with model weights to keep the same \n",
        "    self.critic_optimizer = torch.optim.Adam(self.critic.parameters()) \n",
        "    self.max_action = max_action\n",
        "\n",
        "  def select_action(self, state):\n",
        "    state = torch.Tensor(state.reshape(1, -1)).to(device) \n",
        "    return self.actor(state).cpu().data.numpy().flatten() \n",
        "    # Need to convert to numpy remember clipping!\n",
        "  # SAVING & LOADING FILES\n",
        "\n",
        "  # making a save method to save a trained model \n",
        "  def save(self, filename, directory):\n",
        "    torch.save(self.actor.state_dict(), '%s/%s_actor.pth' % (directory, filename)) \n",
        "    torch.save (self.critic.state_dict(), \"%s/%s_critic.pth\" % (directory, filename))\n",
        "\n",
        "  # Load method to load a pre-trained model\n",
        "  def load(self, directory, filename):\n",
        "    self.actor.load_state_dict(torch.load('%s/%s_actor.path' % (directory, filename))) \n",
        "    self.critic.load_state_dict(torch.load( '%s/%s critic.path' % (directory, filename)))\n"
      ],
      "execution_count": 0,
      "outputs": []
    },
    {
      "cell_type": "code",
      "metadata": {
        "id": "ETjWtrLznINv",
        "colab_type": "code",
        "colab": {}
      },
      "source": [
        "def train(self, replay_buffer, iterations, batch_size=100, discount=0.99, \\\n",
        "          tau = 0.005, policy_noise = 0.2, noise_clip=0.5, policy_freq=2):\n",
        "  for it in range(iterations):\n",
        "    # Step 4 We sample from a batch of transitions (s, s', a, r) from memory \n",
        "    batch_states, batch_next_states, batch_actions, batch_rewards, batch_dones = replay_buffer.sample(batch_size)\n",
        "    state = torch. Tensor(batch_states).to(device) \n",
        "    next_state = torch.Tensor(batch_next_states).to(device) \n",
        "    action = torch.Tensor(batch_actions).to(device)\n",
        "    reward = torch.Tensor(batch_rewards).to(device)\n",
        "    done = torch.Tensor (batch_dones).to(device)"
      ],
      "execution_count": 0,
      "outputs": []
    },
    {
      "cell_type": "code",
      "metadata": {
        "id": "Qdj7e07SxZgZ",
        "colab_type": "code",
        "colab": {}
      },
      "source": [
        "#self.actor_target.forward(next_state)"
      ],
      "execution_count": 0,
      "outputs": []
    },
    {
      "cell_type": "code",
      "metadata": {
        "id": "aQaYKDUjxel2",
        "colab_type": "code",
        "colab": {}
      },
      "source": [
        "#noise = torch.Tensor(batch_actions).data.normal_(0, policy_noise).to(device) \n",
        "#noise = noise.clamp(-noise_clip, noise_clip) \n",
        "#next_action = (next_action + noise).clamp(-self.max_action, self.max_action)"
      ],
      "execution_count": 0,
      "outputs": []
    },
    {
      "cell_type": "code",
      "metadata": {
        "id": "VOL5BvgXxm0J",
        "colab_type": "code",
        "colab": {}
      },
      "source": [
        "#target_Q1, target_Q2 = self.critic_target.forward(next_state, next_action)"
      ],
      "execution_count": 0,
      "outputs": []
    },
    {
      "cell_type": "code",
      "metadata": {
        "id": "aYSMM03jxuNw",
        "colab_type": "code",
        "colab": {}
      },
      "source": [
        "#target_Q = torch.min(target_Q1, target_Q2)"
      ],
      "execution_count": 0,
      "outputs": []
    },
    {
      "cell_type": "code",
      "metadata": {
        "id": "dyoYqPaexzdB",
        "colab_type": "code",
        "colab": {}
      },
      "source": [
        "#target_Q = reward + ((1-done) * discount * target_Q).detach()"
      ],
      "execution_count": 0,
      "outputs": []
    },
    {
      "cell_type": "code",
      "metadata": {
        "id": "ZYEva44hx4IG",
        "colab_type": "code",
        "colab": {}
      },
      "source": [
        "#current_Q1, current_Q2 = self.critic.forward(state, action)"
      ],
      "execution_count": 0,
      "outputs": []
    },
    {
      "cell_type": "code",
      "metadata": {
        "id": "JY4t6kWax-js",
        "colab_type": "code",
        "colab": {}
      },
      "source": [
        "#critic_loss = Mse_loss(current_Q1, target_Q) + F.mse_loss(current_Q2, target_Q)"
      ],
      "execution_count": 0,
      "outputs": []
    },
    {
      "cell_type": "code",
      "metadata": {
        "id": "VoX-P4lkyDvN",
        "colab_type": "code",
        "colab": {}
      },
      "source": [
        "#selt.critic_optimizer.zero_grad() #Initialize the gradients to zero\n",
        "#critic_loss.backward() #Computing the gradients\n",
        "#self.critic_optimizer.step() #Performing the weight updates"
      ],
      "execution_count": 0,
      "outputs": []
    },
    {
      "cell_type": "code",
      "metadata": {
        "id": "MDh9paqEyOBm",
        "colab_type": "code",
        "colab": {
          "base_uri": "https://localhost:8080/",
          "height": 54
        },
        "outputId": "cf1c1f8a-eb70-41ce-a3d6-f6564f226c2b"
      },
      "source": [
        "'''\n",
        "if it % policy_freq == 0:\n",
        "  #This is DPG part \n",
        "  actor_loss = -(self.critic.Q1(state, self.actor(state)).mean())\n",
        "  self.actor_optimizer.grad_zero() \n",
        "  actor_loss.backward() \n",
        "  self.actor_optimizer.step()\n",
        "  '''"
      ],
      "execution_count": 239,
      "outputs": [
        {
          "output_type": "execute_result",
          "data": {
            "text/plain": [
              "'\\nif it % policy_freq == 0:\\n  #This is DPG part \\n  actor_loss = -(self.critic.Q1(state, self.actor(state)).mean())\\n  self.actor_optimizer.grad_zero() \\n  actor_loss.backward() \\n  self.actor_optimizer.step()\\n  '"
            ]
          },
          "metadata": {
            "tags": []
          },
          "execution_count": 239
        }
      ]
    },
    {
      "cell_type": "code",
      "metadata": {
        "id": "9H974X1syVT6",
        "colab_type": "code",
        "colab": {}
      },
      "source": [
        "#for param, target_param in zip(self.actor.parameters (), self.actor_target.parameters()):\n",
        "#  target_param.data.copy_(tau * param.data + (1 - tau) * target_param.data) "
      ],
      "execution_count": 0,
      "outputs": []
    },
    {
      "cell_type": "code",
      "metadata": {
        "id": "yi1cMtyzyciP",
        "colab_type": "code",
        "colab": {}
      },
      "source": [
        "#for param, target_param in zip(self.critical.parameters(), self.critic_target.parameters()):\n",
        "#  target_param.data.copy_(tau * param.data + (1 - tau) * target_param.data)\n"
      ],
      "execution_count": 0,
      "outputs": []
    },
    {
      "cell_type": "markdown",
      "metadata": {
        "id": "6KPRBOW9BFTF",
        "colab_type": "text"
      },
      "source": [
        "Environment"
      ]
    },
    {
      "cell_type": "code",
      "metadata": {
        "id": "Ev7ol0OdBHnn",
        "colab_type": "code",
        "colab": {}
      },
      "source": [
        "def evaluate_policy(policy, eval_episodes=10):\n",
        "  avg_reward = 0.\n",
        "  for _ in range(eval_episodes):\n",
        "    obs = env.reset()\n",
        "    done = False \n",
        "    while not done:\n",
        "      action = policy.select_action(np.array(obs)) \n",
        "      obs, reward, done, _ = env.step(action) \n",
        "      avg_reward += reward\n",
        "      avg_reward /= eval_episodes\n",
        "\n",
        "  print (\"---------------------------------------------------------\")\n",
        "  print (\"Average Reward over the Evaluation Step: %f\" % (avg_reward)) \n",
        "  print (\"---------------------------------------------------------\")\n",
        "\n",
        "  return avg_reward\n",
        "\n"
      ],
      "execution_count": 0,
      "outputs": []
    },
    {
      "cell_type": "code",
      "metadata": {
        "id": "0Hkj3udNYzgh",
        "colab_type": "code",
        "colab": {}
      },
      "source": [
        "env_name = \"AntBulletEnv-v0\"  # set environment you want\n",
        "seed = 0 #random seed number \n",
        "start_timesteps = 1e4 # Number of iterations/timesteps,  \n",
        "# before which the model randomly chooses an action, after which it stats using the policy network\n",
        "eval_freq = 5e3 # After how many timestamps the evaluation step is performed\n",
        "max_timesteps = 5e5 # Total number of iterations/timesteps \n",
        "save_models = True # Boolean checker whether or not to save the pre-trained model \n",
        "expl_noise = 0.1 # Exploration noise - STD value of exploration Gaussian noise \n",
        "batch_size = 100 # Size of the batch \n",
        "discount = 0.99 # Discount factor gamma \n",
        "tau = 0.005 # Target network update rate\n",
        "policy_noise = 0.2 # STD of Gaussian noise added to the actions for the exploration and \n",
        "noise_clip = 0.5 # Maximum value of the Gaussian noise added to the actions for the explorations \n",
        "policy_freg = 2 # No. of iterations to wait before the policy/Actor model is updated"
      ],
      "execution_count": 0,
      "outputs": []
    },
    {
      "cell_type": "code",
      "metadata": {
        "id": "50AW_BAiZSkV",
        "colab_type": "code",
        "colab": {
          "base_uri": "https://localhost:8080/",
          "height": 70
        },
        "outputId": "3b2bd4f4-1c4f-4985-b341-de053a003504"
      },
      "source": [
        "#We create a file name for the two saved models: The Actor and Critic\n",
        "file_name = \"%s_%s_%s\" % (\"TD3\", env_name, str(seed))\n",
        "print (\"------------------------------------------ \")\n",
        "print (\"Settings: %s\" % (file_name)) \n",
        "print (\"------------------------------------------ \")\n",
        "\n",
        "#we create a folder inside which will be saved the trained models \n",
        "\n",
        "if not os.path.exists(\"results\"):\n",
        "  os.makedirs(\"results\") \n",
        "if save_models and not os.path.exists(\"pytorch_models\"):\n",
        "  os.makedirs(\"pytorch_models\")"
      ],
      "execution_count": 257,
      "outputs": [
        {
          "output_type": "stream",
          "text": [
            "------------------------------------------ \n",
            "Settings: TD3_AntBulletEnv-v0_0\n",
            "------------------------------------------ \n"
          ],
          "name": "stdout"
        }
      ]
    },
    {
      "cell_type": "code",
      "metadata": {
        "id": "1Y9r26cMZYmD",
        "colab_type": "code",
        "colab": {
          "base_uri": "https://localhost:8080/",
          "height": 52
        },
        "outputId": "146a653f-f0ce-487a-acc3-7389a24ab012"
      },
      "source": [
        "# We create the PyBullet environment \n",
        "env = gym.make (env_name)\n",
        "\n",
        "# We set seeds and we get necessary information on the states and actions\n",
        "# in the chosen environment \n",
        "env.seed(seed)\n",
        "torch.manual_seed(seed) \n",
        "np.random.seed(seed) \n",
        "state_dim = env.observation_space.shape[0]\n",
        "action_dim = env.action_space.shape[0]\n",
        "max_action = float (env.action_space.high[0])"
      ],
      "execution_count": 258,
      "outputs": [
        {
          "output_type": "stream",
          "text": [
            "/usr/local/lib/python3.6/dist-packages/gym/logger.py:30: UserWarning: \u001b[33mWARN: Box bound precision lowered by casting to float32\u001b[0m\n",
            "  warnings.warn(colorize('%s: %s'%('WARN', msg % args), 'yellow'))\n"
          ],
          "name": "stderr"
        }
      ]
    },
    {
      "cell_type": "code",
      "metadata": {
        "id": "QoHxP5Steqzo",
        "colab_type": "code",
        "colab": {
          "base_uri": "https://localhost:8080/",
          "height": 70
        },
        "outputId": "f42b412f-5896-4a99-e792-592f4db91d4b"
      },
      "source": [
        "# We create a policy network the actor model\n",
        "policy = T3D(state_dim, action_dim, max_action)\n",
        "\n",
        "# We create the Experience Replay memory\n",
        "replay_buffer = ReplayBuffer()\n",
        "\n",
        "# We define a list where all evaluation results over 10 episodes are stored\n",
        "evaluations = [evaluate_policy(policy)]\n",
        "\n",
        "# We create a new folder directory in which the final results (videos of the agent) will be populated\n",
        "\n",
        "def mkdir(base, name):\n",
        "  path = os.path.join(base, name) \n",
        "  if not os.path.exists(path):\n",
        "    os.makedirs (path) \n",
        "  return path \n",
        "\n",
        "workdir = mkdir('exp', 'brs')\n",
        "monitor_dir = mkdir(workdir, 'monitor') \n",
        "max_episode_steps = env._max_episode_steps \n",
        "save_env_vid = False \n",
        "if save_env_vid:\n",
        "  env = wrappers.Monitor(env, monitor_dir, force = True) \n",
        "  env.reset()"
      ],
      "execution_count": 259,
      "outputs": [
        {
          "output_type": "stream",
          "text": [
            "---------------------------------------------------------\n",
            "Average Reward over the Evaluation Step: -0.135011\n",
            "---------------------------------------------------------\n"
          ],
          "name": "stdout"
        }
      ]
    },
    {
      "cell_type": "code",
      "metadata": {
        "id": "KnxrtH3ZI4Ty",
        "colab_type": "code",
        "colab": {}
      },
      "source": [
        "total_timesteps = 0\n",
        "timesteps_since_eval = 0\n",
        "episode_num = 0\n",
        "done = True \n",
        "t0 = time.time()\n",
        "\n",
        "# Training\n",
        "max_timesteps = 1#500000"
      ],
      "execution_count": 0,
      "outputs": []
    },
    {
      "cell_type": "code",
      "metadata": {
        "id": "IMORhMGNe8Yq",
        "colab_type": "code",
        "colab": {}
      },
      "source": [
        "while total_timesteps < max_timesteps:\n",
        "  # If episode done \n",
        "  if done:\n",
        "    # If we are not at the beginning we start the training process of the model\n",
        "    if total_timesteps != 0:\n",
        "      print(\"Total Timesteps: { Episode Num: {} Reward: (}\".\n",
        "            format(total_timesteps, episode_num, episode_reward)) \n",
        "      policy.train(replay_buffer, episode_timesteps, batch_size, discount, tau, policy_noise, noise_clip, policy_freq)\n",
        "\n",
        "  # We evaluate the episode and we save the policy \n",
        "  if timesteps_since_eval >= eval_freq:\n",
        "    timesteps_since_eval %= eval_freq \n",
        "    evaluations.append(evaluate_policy(policy)) \n",
        "    policy.save(file_name, directory=\"pytorch_models\") \n",
        "    np.save(\"results/%as\" % (file_name), evaluations)\n",
        "\n",
        "  # When training step is done we reset the environment\n",
        "  obs = env.reset()\n",
        "\n",
        "  done = False\n",
        "\n",
        "  # Set rewards and episode timesteps to 0\n",
        "  episode_reward = 0 \n",
        "  episode_timesteps=0\n",
        "  episode_num += 1\n",
        "  break # MEERA: REMOVE\n"
      ],
      "execution_count": 0,
      "outputs": []
    },
    {
      "cell_type": "code",
      "metadata": {
        "id": "80Fui6fBfEXx",
        "colab_type": "code",
        "colab": {}
      },
      "source": [
        "\n",
        "if total_timesteps < start_timesteps:\n",
        "  action = env.action_space.sample()\n",
        "else: \n",
        "  #After 10000 timesteps, we switch to the model \n",
        "  action = policy.select_action(np.array(obs)) \n",
        "  #If the explore noise parameter is not 0, we add noise to the action and we clip it \n",
        "  if expl_noise != 0:\n",
        "    action = (action + np.random. normal(0, expl_noise, size-env.action_space. shape[0])).clip(env.action_space.low, env.action_space.high)\n",
        "\n",
        "# The agent performs the action in the environment, then reaches the next state\n",
        "# and receives the reward \n",
        "new_obs, reward, done, _ = env.step(action)\n",
        "\n",
        "# We check if the episode is done\n",
        "done_bool = 0  if episode_timesteps + 1 == env._max_episode_steps else float(done)\n",
        "# We increase the total reward \n",
        "episode_reward += reward\n",
        "\n",
        "# We store the new transition into the Experience Replay memory \n",
        "replay_buffer.add((obs, new_obs, action, reward, done_bool))\n",
        "\n",
        "# we update the state, the episode timestep, the total timesteps, and the tim the evaluation of the policy \n",
        "obs = new_obs \n",
        "episode_timesteps += 1 \n",
        "total_timesteps += 1 \n",
        "timesteps_since_eval += 1\n"
      ],
      "execution_count": 0,
      "outputs": []
    },
    {
      "cell_type": "code",
      "metadata": {
        "id": "PIDKkH3YfJ61",
        "colab_type": "code",
        "colab": {
          "base_uri": "https://localhost:8080/",
          "height": 70
        },
        "outputId": "e45f4c3c-2184-4b73-b5e8-42b243294ea6"
      },
      "source": [
        "#We add the last policy evaluation to our List of evaluations and he save our model \n",
        "evaluations.append(evaluate_policy(policy)) \n",
        "if save_models: policy.save(\"%s\" % (file_name), directory=\"pytorch_models\") \n",
        "np.save(\"results/%as\" % (file_name), evaluations)"
      ],
      "execution_count": 263,
      "outputs": [
        {
          "output_type": "stream",
          "text": [
            "---------------------------------------------------------\n",
            "Average Reward over the Evaluation Step: -0.160359\n",
            "---------------------------------------------------------\n"
          ],
          "name": "stdout"
        }
      ]
    },
    {
      "cell_type": "code",
      "metadata": {
        "id": "2sjJ9aLyp3aJ",
        "colab_type": "code",
        "colab": {
          "base_uri": "https://localhost:8080/",
          "height": 34
        },
        "outputId": "2b224014-3153-4c8c-a1d2-45d2e7632864"
      },
      "source": [
        "!ls\n",
        "#!ls results/\n",
        "#!ls pytorch_models/\n",
        "!ls exp/brs/monitor/"
      ],
      "execution_count": 269,
      "outputs": [
        {
          "output_type": "stream",
          "text": [
            " exp  'pytorch models'\t pytorch_models   results   sample_data\n"
          ],
          "name": "stdout"
        }
      ]
    }
  ]
}