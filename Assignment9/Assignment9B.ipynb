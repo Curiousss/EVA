{
  "nbformat": 4,
  "nbformat_minor": 0,
  "metadata": {
    "colab": {
      "name": " Assignment9B.ipynb",
      "version": "0.3.2",
      "provenance": [],
      "collapsed_sections": [],
      "include_colab_link": true
    },
    "kernelspec": {
      "name": "python3",
      "display_name": "Python 3"
    },
    "accelerator": "GPU"
  },
  "cells": [
    {
      "cell_type": "markdown",
      "metadata": {
        "id": "view-in-github",
        "colab_type": "text"
      },
      "source": [
        "<a href=\"https://colab.research.google.com/github/Curiousss/EVA/blob/master/Assignment9/Assignment9B.ipynb\" target=\"_parent\"><img src=\"https://colab.research.google.com/assets/colab-badge.svg\" alt=\"Open In Colab\"/></a>"
      ]
    },
    {
      "cell_type": "code",
      "metadata": {
        "id": "dFsjwKw7uS7Y",
        "colab_type": "code",
        "colab": {
          "base_uri": "https://localhost:8080/",
          "height": 90
        },
        "outputId": "8a5ed0e2-10e2-45f5-9688-392357ddf2da"
      },
      "source": [
        "!git clone https://github.com/yu4u/cutout-random-erasing\n"
      ],
      "execution_count": 2,
      "outputs": [
        {
          "output_type": "stream",
          "text": [
            "Cloning into 'cutout-random-erasing'...\n",
            "remote: Enumerating objects: 23, done.\u001b[K\n",
            "Unpacking objects:   4% (1/23)   \rUnpacking objects:   8% (2/23)   \rUnpacking objects:  13% (3/23)   \rUnpacking objects:  17% (4/23)   \rUnpacking objects:  21% (5/23)   \rUnpacking objects:  26% (6/23)   \rUnpacking objects:  30% (7/23)   \rUnpacking objects:  34% (8/23)   \rUnpacking objects:  39% (9/23)   \rUnpacking objects:  43% (10/23)   \rUnpacking objects:  47% (11/23)   \rUnpacking objects:  52% (12/23)   \rUnpacking objects:  56% (13/23)   \rUnpacking objects:  60% (14/23)   \rUnpacking objects:  65% (15/23)   \rUnpacking objects:  69% (16/23)   \rremote: Total 23 (delta 0), reused 0 (delta 0), pack-reused 23\u001b[K\n",
            "Unpacking objects:  73% (17/23)   \rUnpacking objects:  78% (18/23)   \rUnpacking objects:  82% (19/23)   \rUnpacking objects:  86% (20/23)   \rUnpacking objects:  91% (21/23)   \rUnpacking objects:  95% (22/23)   \rUnpacking objects: 100% (23/23)   \rUnpacking objects: 100% (23/23), done.\n"
          ],
          "name": "stdout"
        }
      ]
    },
    {
      "cell_type": "code",
      "metadata": {
        "id": "t4-YXndOscn-",
        "colab_type": "code",
        "colab": {}
      },
      "source": [
        "!cp cutout-random-erasing/* ."
      ],
      "execution_count": 0,
      "outputs": []
    },
    {
      "cell_type": "code",
      "metadata": {
        "id": "KkwXnw9OfHZl",
        "colab_type": "code",
        "colab": {}
      },
      "source": [
        "from keras import backend as K\n",
        "import time\n",
        "import matplotlib.pyplot as plt\n",
        "import numpy as np\n",
        "% matplotlib inline\n",
        "np.random.seed(2017) \n",
        "from keras.models import Sequential\n",
        "from keras.layers.convolutional import Convolution2D, MaxPooling2D\n",
        "from keras.layers import Activation, Flatten, Dense, Dropout\n",
        "from keras.layers.normalization import BatchNormalization\n",
        "from keras.utils import np_utils"
      ],
      "execution_count": 0,
      "outputs": []
    },
    {
      "cell_type": "code",
      "metadata": {
        "id": "NHpnoCHZfO8g",
        "colab_type": "code",
        "colab": {
          "base_uri": "https://localhost:8080/",
          "height": 54
        },
        "outputId": "2bf4bdf3-7365-4e03-98ba-5299b8955cc3"
      },
      "source": [
        "from keras.datasets import cifar10\n",
        "(train_features, train_labels), (test_features, test_labels) = cifar10.load_data()\n",
        "num_train, img_channels, img_rows, img_cols =  train_features.shape\n",
        "num_test, _, _, _ =  test_features.shape\n",
        "num_classes = len(np.unique(train_labels))"
      ],
      "execution_count": 5,
      "outputs": [
        {
          "output_type": "stream",
          "text": [
            "Downloading data from https://www.cs.toronto.edu/~kriz/cifar-10-python.tar.gz\n",
            "170500096/170498071 [==============================] - 4s 0us/step\n"
          ],
          "name": "stdout"
        }
      ]
    },
    {
      "cell_type": "code",
      "metadata": {
        "id": "j4pg1vH1cqto",
        "colab_type": "code",
        "outputId": "31d14d99-449d-4d05-b7e1-ad430e227bf6",
        "colab": {
          "base_uri": "https://localhost:8080/",
          "height": 54
        }
      },
      "source": [
        "print(train_features[0].shape)\n",
        "print(num_classes)"
      ],
      "execution_count": 6,
      "outputs": [
        {
          "output_type": "stream",
          "text": [
            "(32, 32, 3)\n",
            "10\n"
          ],
          "name": "stdout"
        }
      ]
    },
    {
      "cell_type": "code",
      "metadata": {
        "id": "14HyBUXdfS6G",
        "colab_type": "code",
        "outputId": "a5068340-e3bd-4b23-c735-b12ab2eb3a48",
        "colab": {
          "base_uri": "https://localhost:8080/",
          "height": 214
        }
      },
      "source": [
        "class_names = ['airplane','automobile','bird','cat','deer',\n",
        "               'dog','frog','horse','ship','truck']\n",
        "fig = plt.figure(figsize=(8,3))\n",
        "for i in range(num_classes):\n",
        "    ax = fig.add_subplot(2, 5, 1 + i, xticks=[], yticks=[])\n",
        "    idx = np.where(train_labels[:]==i)[0]\n",
        "    features_idx = train_features[idx,::]\n",
        "    img_num = np.random.randint(features_idx.shape[0])\n",
        "    im = features_idx[img_num]\n",
        "    ax.set_title(class_names[i])\n",
        "    plt.imshow(im)\n",
        "plt.show()"
      ],
      "execution_count": 7,
      "outputs": [
        {
          "output_type": "display_data",
          "data": {
            "image/png": "[encoded data removed]",
            "text/plain": [
              "<Figure size 576x216 with 10 Axes>"
            ]
          },
          "metadata": {
            "tags": []
          }
        }
      ]
    },
    {
      "cell_type": "code",
      "metadata": {
        "id": "bmfsk76-fadV",
        "colab_type": "code",
        "colab": {}
      },
      "source": [
        "def plot_model_history(model_history):\n",
        "    fig, axs = plt.subplots(1,2,figsize=(15,5))\n",
        "    # summarize history for accuracy\n",
        "    axs[0].plot(range(1,len(model_history.history['acc'])+1),model_history.history['acc'])\n",
        "    axs[0].plot(range(1,len(model_history.history['val_acc'])+1),model_history.history['val_acc'])\n",
        "    axs[0].set_title('Model Accuracy')\n",
        "    axs[0].set_ylabel('Accuracy')\n",
        "    axs[0].set_xlabel('Epoch')\n",
        "    axs[0].set_xticks(np.arange(1,len(model_history.history['acc'])+1),len(model_history.history['acc'])/10)\n",
        "    axs[0].legend(['train', 'val'], loc='best')\n",
        "    # summarize history for loss\n",
        "    axs[1].plot(range(1,len(model_history.history['loss'])+1),model_history.history['loss'])\n",
        "    axs[1].plot(range(1,len(model_history.history['val_loss'])+1),model_history.history['val_loss'])\n",
        "    axs[1].set_title('Model Loss')\n",
        "    axs[1].set_ylabel('Loss')\n",
        "    axs[1].set_xlabel('Epoch')\n",
        "    axs[1].set_xticks(np.arange(1,len(model_history.history['loss'])+1),len(model_history.history['loss'])/10)\n",
        "    axs[1].legend(['train', 'val'], loc='best')\n",
        "    plt.show()"
      ],
      "execution_count": 0,
      "outputs": []
    },
    {
      "cell_type": "code",
      "metadata": {
        "id": "YJMT4rjgfdZz",
        "colab_type": "code",
        "colab": {}
      },
      "source": [
        "def accuracy(test_x, test_y, model):\n",
        "    result = model.predict(test_x)\n",
        "    predicted_class = np.argmax(result, axis=1)\n",
        "    true_class = np.argmax(test_y, axis=1)\n",
        "    num_correct = np.sum(predicted_class == true_class) \n",
        "    accuracy = float(num_correct)/result.shape[0]\n",
        "    return (accuracy * 100)"
      ],
      "execution_count": 0,
      "outputs": []
    },
    {
      "cell_type": "code",
      "metadata": {
        "id": "T5c5nDvxm6zR",
        "colab_type": "code",
        "colab": {}
      },
      "source": [
        "train_features = train_features.astype('float32')/255\n",
        "test_features = test_features.astype('float32')/255\n",
        "# convert class labels to binary class labels\n",
        "train_labels = np_utils.to_categorical(train_labels, num_classes)\n",
        "test_labels = np_utils.to_categorical(test_labels, num_classes)"
      ],
      "execution_count": 0,
      "outputs": []
    },
    {
      "cell_type": "code",
      "metadata": {
        "id": "cSOb2lkJfhVq",
        "colab_type": "code",
        "outputId": "a60e3da9-eb6e-4070-d188-cde6b8b721b0",
        "colab": {
          "base_uri": "https://localhost:8080/",
          "height": 1000
        }
      },
      "source": [
        "from keras.layers import GlobalMaxPooling2D\n",
        "# Define the model\n",
        "# RF 3\n",
        "# input size 32\n",
        "model = Sequential()\n",
        "model.add(Convolution2D(64, 3, 3, border_mode='same', input_shape=(32, 32, 3)))\n",
        "model.add(Activation('relu'))\n",
        "model.add(BatchNormalization())\n",
        "model.add(Dropout(0.2))\n",
        "\n",
        "#RF 5\n",
        "# input size 32\n",
        "model.add(Convolution2D(128, 3, 3, border_mode='same'))\n",
        "model.add(Activation('relu'))\n",
        "model.add(BatchNormalization())\n",
        "model.add(Dropout(0.2))\n",
        "\n",
        "#RF 10\n",
        "# input size 32\n",
        "model.add(MaxPooling2D(pool_size=(2, 2)))\n",
        "model.add(Convolution2D(64, 1, 1, border_mode='same'))\n",
        "model.add(Activation('relu'))\n",
        "model.add(BatchNormalization())\n",
        "model.add(Dropout(0.2))\n",
        "\n",
        "#RF 12\n",
        "# input size 16\n",
        "model.add(Convolution2D(128, 3, 3, border_mode='same'))\n",
        "model.add(Activation('relu'))\n",
        "model.add(BatchNormalization())\n",
        "model.add(Dropout(0.2))\n",
        "\n",
        "# RF 14\n",
        "# input size 16\n",
        "model.add(Convolution2D(256, 3, 3, border_mode='same'))\n",
        "model.add(Activation('relu'))\n",
        "model.add(BatchNormalization())\n",
        "model.add(Dropout(0.2))\n",
        "\n",
        "#RF 28\n",
        "# input size 16\n",
        "model.add(MaxPooling2D(pool_size=(2, 2)))\n",
        "model.add(Convolution2D(128, 1, 1, border_mode='same'))\n",
        "model.add(Activation('relu'))\n",
        "model.add(BatchNormalization())\n",
        "model.add(Dropout(0.2))\n",
        "\n",
        "#RF 30\n",
        "# input size 8\n",
        "model.add(Convolution2D(256, 3, 3, border_mode='same'))\n",
        "model.add(Activation('relu'))\n",
        "model.add(BatchNormalization())\n",
        "model.add(Dropout(0.2))\n",
        "\n",
        "#RF 32\n",
        "# input size 8\n",
        "model.add(Convolution2D(num_classes, 8, 8))\n",
        "#model.add(Flatten())\n",
        "model.add(GlobalMaxPooling2D())\n",
        "model.add(Activation('softmax'))\n",
        "\n",
        "model.summary()\n",
        "\n",
        "# Compile the model\n",
        "model.compile(optimizer='adam', loss='categorical_crossentropy', metrics=['accuracy'])\n"
      ],
      "execution_count": 11,
      "outputs": [
        {
          "output_type": "stream",
          "text": [
            "WARNING: Logging before flag parsing goes to stderr.\n",
            "W0629 12:31:47.887301 140409616836480 deprecation_wrapper.py:119] From /usr/local/lib/python3.6/dist-packages/keras/backend/tensorflow_backend.py:74: The name tf.get_default_graph is deprecated. Please use tf.compat.v1.get_default_graph instead.\n",
            "\n",
            "/usr/local/lib/python3.6/dist-packages/ipykernel_launcher.py:6: UserWarning: Update your `Conv2D` call to the Keras 2 API: `Conv2D(64, (3, 3), input_shape=(32, 32, 3..., padding=\"same\")`\n",
            "  \n",
            "W0629 12:31:47.927210 140409616836480 deprecation_wrapper.py:119] From /usr/local/lib/python3.6/dist-packages/keras/backend/tensorflow_backend.py:517: The name tf.placeholder is deprecated. Please use tf.compat.v1.placeholder instead.\n",
            "\n",
            "W0629 12:31:47.933994 140409616836480 deprecation_wrapper.py:119] From /usr/local/lib/python3.6/dist-packages/keras/backend/tensorflow_backend.py:4138: The name tf.random_uniform is deprecated. Please use tf.random.uniform instead.\n",
            "\n",
            "W0629 12:31:47.978327 140409616836480 deprecation_wrapper.py:119] From /usr/local/lib/python3.6/dist-packages/keras/backend/tensorflow_backend.py:174: The name tf.get_default_session is deprecated. Please use tf.compat.v1.get_default_session instead.\n",
            "\n",
            "W0629 12:31:47.979276 140409616836480 deprecation_wrapper.py:119] From /usr/local/lib/python3.6/dist-packages/keras/backend/tensorflow_backend.py:181: The name tf.ConfigProto is deprecated. Please use tf.compat.v1.ConfigProto instead.\n",
            "\n",
            "W0629 12:31:50.688410 140409616836480 deprecation_wrapper.py:119] From /usr/local/lib/python3.6/dist-packages/keras/backend/tensorflow_backend.py:1834: The name tf.nn.fused_batch_norm is deprecated. Please use tf.compat.v1.nn.fused_batch_norm instead.\n",
            "\n",
            "W0629 12:31:50.878042 140409616836480 deprecation.py:506] From /usr/local/lib/python3.6/dist-packages/keras/backend/tensorflow_backend.py:3445: calling dropout (from tensorflow.python.ops.nn_ops) with keep_prob is deprecated and will be removed in a future version.\n",
            "Instructions for updating:\n",
            "Please use `rate` instead of `keep_prob`. Rate should be set to `rate = 1 - keep_prob`.\n",
            "/usr/local/lib/python3.6/dist-packages/ipykernel_launcher.py:13: UserWarning: Update your `Conv2D` call to the Keras 2 API: `Conv2D(128, (3, 3), padding=\"same\")`\n",
            "  del sys.path[0]\n",
            "W0629 12:31:50.996587 140409616836480 deprecation_wrapper.py:119] From /usr/local/lib/python3.6/dist-packages/keras/backend/tensorflow_backend.py:3976: The name tf.nn.max_pool is deprecated. Please use tf.nn.max_pool2d instead.\n",
            "\n",
            "/usr/local/lib/python3.6/dist-packages/ipykernel_launcher.py:21: UserWarning: Update your `Conv2D` call to the Keras 2 API: `Conv2D(64, (1, 1), padding=\"same\")`\n",
            "/usr/local/lib/python3.6/dist-packages/ipykernel_launcher.py:28: UserWarning: Update your `Conv2D` call to the Keras 2 API: `Conv2D(128, (3, 3), padding=\"same\")`\n",
            "/usr/local/lib/python3.6/dist-packages/ipykernel_launcher.py:35: UserWarning: Update your `Conv2D` call to the Keras 2 API: `Conv2D(256, (3, 3), padding=\"same\")`\n",
            "/usr/local/lib/python3.6/dist-packages/ipykernel_launcher.py:43: UserWarning: Update your `Conv2D` call to the Keras 2 API: `Conv2D(128, (1, 1), padding=\"same\")`\n",
            "/usr/local/lib/python3.6/dist-packages/ipykernel_launcher.py:50: UserWarning: Update your `Conv2D` call to the Keras 2 API: `Conv2D(256, (3, 3), padding=\"same\")`\n",
            "/usr/local/lib/python3.6/dist-packages/ipykernel_launcher.py:57: UserWarning: Update your `Conv2D` call to the Keras 2 API: `Conv2D(10, (8, 8))`\n",
            "W0629 12:31:51.562284 140409616836480 deprecation_wrapper.py:119] From /usr/local/lib/python3.6/dist-packages/keras/optimizers.py:790: The name tf.train.Optimizer is deprecated. Please use tf.compat.v1.train.Optimizer instead.\n",
            "\n"
          ],
          "name": "stderr"
        },
        {
          "output_type": "stream",
          "text": [
            "_________________________________________________________________\n",
            "Layer (type)                 Output Shape              Param #   \n",
            "=================================================================\n",
            "conv2d_1 (Conv2D)            (None, 32, 32, 64)        1792      \n",
            "_________________________________________________________________\n",
            "activation_1 (Activation)    (None, 32, 32, 64)        0         \n",
            "_________________________________________________________________\n",
            "batch_normalization_1 (Batch (None, 32, 32, 64)        256       \n",
            "_________________________________________________________________\n",
            "dropout_1 (Dropout)          (None, 32, 32, 64)        0         \n",
            "_________________________________________________________________\n",
            "conv2d_2 (Conv2D)            (None, 32, 32, 128)       73856     \n",
            "_________________________________________________________________\n",
            "activation_2 (Activation)    (None, 32, 32, 128)       0         \n",
            "_________________________________________________________________\n",
            "batch_normalization_2 (Batch (None, 32, 32, 128)       512       \n",
            "_________________________________________________________________\n",
            "dropout_2 (Dropout)          (None, 32, 32, 128)       0         \n",
            "_________________________________________________________________\n",
            "max_pooling2d_1 (MaxPooling2 (None, 16, 16, 128)       0         \n",
            "_________________________________________________________________\n",
            "conv2d_3 (Conv2D)            (None, 16, 16, 64)        8256      \n",
            "_________________________________________________________________\n",
            "activation_3 (Activation)    (None, 16, 16, 64)        0         \n",
            "_________________________________________________________________\n",
            "batch_normalization_3 (Batch (None, 16, 16, 64)        256       \n",
            "_________________________________________________________________\n",
            "dropout_3 (Dropout)          (None, 16, 16, 64)        0         \n",
            "_________________________________________________________________\n",
            "conv2d_4 (Conv2D)            (None, 16, 16, 128)       73856     \n",
            "_________________________________________________________________\n",
            "activation_4 (Activation)    (None, 16, 16, 128)       0         \n",
            "_________________________________________________________________\n",
            "batch_normalization_4 (Batch (None, 16, 16, 128)       512       \n",
            "_________________________________________________________________\n",
            "dropout_4 (Dropout)          (None, 16, 16, 128)       0         \n",
            "_________________________________________________________________\n",
            "conv2d_5 (Conv2D)            (None, 16, 16, 256)       295168    \n",
            "_________________________________________________________________\n",
            "activation_5 (Activation)    (None, 16, 16, 256)       0         \n",
            "_________________________________________________________________\n",
            "batch_normalization_5 (Batch (None, 16, 16, 256)       1024      \n",
            "_________________________________________________________________\n",
            "dropout_5 (Dropout)          (None, 16, 16, 256)       0         \n",
            "_________________________________________________________________\n",
            "max_pooling2d_2 (MaxPooling2 (None, 8, 8, 256)         0         \n",
            "_________________________________________________________________\n",
            "conv2d_6 (Conv2D)            (None, 8, 8, 128)         32896     \n",
            "_________________________________________________________________\n",
            "activation_6 (Activation)    (None, 8, 8, 128)         0         \n",
            "_________________________________________________________________\n",
            "batch_normalization_6 (Batch (None, 8, 8, 128)         512       \n",
            "_________________________________________________________________\n",
            "dropout_6 (Dropout)          (None, 8, 8, 128)         0         \n",
            "_________________________________________________________________\n",
            "conv2d_7 (Conv2D)            (None, 8, 8, 256)         295168    \n",
            "_________________________________________________________________\n",
            "activation_7 (Activation)    (None, 8, 8, 256)         0         \n",
            "_________________________________________________________________\n",
            "batch_normalization_7 (Batch (None, 8, 8, 256)         1024      \n",
            "_________________________________________________________________\n",
            "dropout_7 (Dropout)          (None, 8, 8, 256)         0         \n",
            "_________________________________________________________________\n",
            "conv2d_8 (Conv2D)            (None, 1, 1, 10)          163850    \n",
            "_________________________________________________________________\n",
            "global_max_pooling2d_1 (Glob (None, 10)                0         \n",
            "_________________________________________________________________\n",
            "activation_8 (Activation)    (None, 10)                0         \n",
            "=================================================================\n",
            "Total params: 948,938\n",
            "Trainable params: 946,890\n",
            "Non-trainable params: 2,048\n",
            "_________________________________________________________________\n"
          ],
          "name": "stdout"
        }
      ]
    },
    {
      "cell_type": "code",
      "metadata": {
        "id": "5oK_V7WyfsXX",
        "colab_type": "code",
        "outputId": "86fceaad-396e-4782-ca2a-4503d5e9b41d",
        "colab": {
          "base_uri": "https://localhost:8080/",
          "height": 1000
        }
      },
      "source": [
        "from keras.preprocessing.image import ImageDataGenerator\n",
        "from keras.callbacks import LearningRateScheduler, ModelCheckpoint\n",
        "from random_eraser import get_random_eraser\n",
        "\n",
        "checkpoint = ModelCheckpoint('modelBest.h5', verbose=1, monitor='val_acc',save_best_only=True, mode='auto')\n",
        "\n",
        "datagen = ImageDataGenerator(zoom_range=0.1, \n",
        "                             horizontal_flip=True,\n",
        "                            featurewise_center=True,\n",
        "                            featurewise_std_normalization=True,\n",
        "                            preprocessing_function=get_random_eraser(v_l=0, v_h=1, pixel_level=False))\n",
        "datagen.fit(train_features)\n",
        "testgen = ImageDataGenerator(featurewise_center=True,\n",
        "                            featurewise_std_normalization=True)\n",
        "testgen.fit(test_features)\n",
        "\n",
        "# train the model\n",
        "start = time.time()\n",
        "# Train the model\n",
        "model_info = model.fit_generator(datagen.flow(train_features, train_labels, batch_size = 128),\n",
        "                                 samples_per_epoch = train_features.shape[0], nb_epoch = 50, \n",
        "                                 validation_data = testgen.flow(test_features, test_labels), validation_steps=100, verbose=1,\n",
        "                                callbacks=[checkpoint])\n",
        "end = time.time()\n",
        "print (\"Model took %0.2f seconds to train\"%(end - start))\n",
        "# plot model history\n",
        "plot_model_history(model_info)\n",
        "# compute test accuracy\n",
        "print (\"Accuracy on test data is: %0.2f\"%accuracy(test_features, test_labels, model))"
      ],
      "execution_count": 14,
      "outputs": [
        {
          "output_type": "stream",
          "text": [
            "Epoch 1/50\n",
            "\r  1/390 [..............................] - ETA: 55s - loss: 0.2386 - acc: 0.9062"
          ],
          "name": "stdout"
        },
        {
          "output_type": "stream",
          "text": [
            "/usr/local/lib/python3.6/dist-packages/ipykernel_launcher.py:23: UserWarning: The semantics of the Keras 2 argument `steps_per_epoch` is not the same as the Keras 1 argument `samples_per_epoch`. `steps_per_epoch` is the number of batches to draw from the generator at each epoch. Basically steps_per_epoch = samples_per_epoch/batch_size. Similarly `nb_val_samples`->`validation_steps` and `val_samples`->`steps` arguments have changed. Update your method calls accordingly.\n",
            "/usr/local/lib/python3.6/dist-packages/ipykernel_launcher.py:23: UserWarning: Update your `fit_generator` call to the Keras 2 API: `fit_generator(<keras_pre..., validation_data=<keras_pre..., validation_steps=100, verbose=1, callbacks=[<keras.ca..., steps_per_epoch=390, epochs=50)`\n"
          ],
          "name": "stderr"
        },
        {
          "output_type": "stream",
          "text": [
            "390/390 [==============================] - 28s 72ms/step - loss: 0.2522 - acc: 0.9101 - val_loss: 0.4328 - val_acc: 0.8631\n",
            "\n",
            "Epoch 00001: val_acc improved from -inf to 0.86313, saving model to modelBest.h5\n",
            "Epoch 2/50\n",
            "390/390 [==============================] - 28s 71ms/step - loss: 0.2533 - acc: 0.9102 - val_loss: 0.3662 - val_acc: 0.8878\n",
            "\n",
            "Epoch 00002: val_acc improved from 0.86313 to 0.88781, saving model to modelBest.h5\n",
            "Epoch 3/50\n",
            "390/390 [==============================] - 28s 71ms/step - loss: 0.2521 - acc: 0.9101 - val_loss: 0.4120 - val_acc: 0.8722\n",
            "\n",
            "Epoch 00003: val_acc did not improve from 0.88781\n",
            "Epoch 4/50\n",
            "390/390 [==============================] - 28s 71ms/step - loss: 0.2794 - acc: 0.9020 - val_loss: 0.4053 - val_acc: 0.8800\n",
            "\n",
            "Epoch 00004: val_acc did not improve from 0.88781\n",
            "Epoch 5/50\n",
            "390/390 [==============================] - 28s 71ms/step - loss: 0.2513 - acc: 0.9099 - val_loss: 0.3529 - val_acc: 0.8869\n",
            "\n",
            "Epoch 00005: val_acc did not improve from 0.88781\n",
            "Epoch 6/50\n",
            "390/390 [==============================] - 27s 70ms/step - loss: 0.2411 - acc: 0.9133 - val_loss: 0.3896 - val_acc: 0.8797\n",
            "\n",
            "Epoch 00006: val_acc did not improve from 0.88781\n",
            "Epoch 7/50\n",
            "390/390 [==============================] - 28s 71ms/step - loss: 0.2495 - acc: 0.9111 - val_loss: 0.3238 - val_acc: 0.8970\n",
            "\n",
            "Epoch 00007: val_acc improved from 0.88781 to 0.89698, saving model to modelBest.h5\n",
            "Epoch 8/50\n",
            "390/390 [==============================] - 28s 71ms/step - loss: 0.2405 - acc: 0.9150 - val_loss: 0.3706 - val_acc: 0.8853\n",
            "\n",
            "Epoch 00008: val_acc did not improve from 0.89698\n",
            "Epoch 9/50\n",
            "390/390 [==============================] - 28s 72ms/step - loss: 0.2476 - acc: 0.9124 - val_loss: 0.4311 - val_acc: 0.8662\n",
            "\n",
            "Epoch 00009: val_acc did not improve from 0.89698\n",
            "Epoch 10/50\n",
            "390/390 [==============================] - 28s 71ms/step - loss: 0.2400 - acc: 0.9135 - val_loss: 0.3756 - val_acc: 0.8844\n",
            "\n",
            "Epoch 00010: val_acc did not improve from 0.89698\n",
            "Epoch 11/50\n",
            "390/390 [==============================] - 28s 73ms/step - loss: 0.2430 - acc: 0.9137 - val_loss: 0.3922 - val_acc: 0.8841\n",
            "\n",
            "Epoch 00011: val_acc did not improve from 0.89698\n",
            "Epoch 12/50\n",
            "390/390 [==============================] - 28s 72ms/step - loss: 0.2369 - acc: 0.9141 - val_loss: 0.3268 - val_acc: 0.8984\n",
            "\n",
            "Epoch 00012: val_acc improved from 0.89698 to 0.89844, saving model to modelBest.h5\n",
            "Epoch 13/50\n",
            "390/390 [==============================] - 28s 71ms/step - loss: 0.2372 - acc: 0.9147 - val_loss: 0.3754 - val_acc: 0.8750\n",
            "\n",
            "Epoch 00013: val_acc did not improve from 0.89844\n",
            "Epoch 14/50\n",
            "390/390 [==============================] - 28s 72ms/step - loss: 0.2351 - acc: 0.9169 - val_loss: 0.3931 - val_acc: 0.8816\n",
            "\n",
            "Epoch 00014: val_acc did not improve from 0.89844\n",
            "Epoch 15/50\n",
            "390/390 [==============================] - 28s 72ms/step - loss: 0.2363 - acc: 0.9156 - val_loss: 0.3473 - val_acc: 0.8919\n",
            "\n",
            "Epoch 00015: val_acc did not improve from 0.89844\n",
            "Epoch 16/50\n",
            "390/390 [==============================] - 28s 72ms/step - loss: 0.2346 - acc: 0.9171 - val_loss: 0.3832 - val_acc: 0.8794\n",
            "\n",
            "Epoch 00016: val_acc did not improve from 0.89844\n",
            "Epoch 17/50\n",
            "390/390 [==============================] - 28s 73ms/step - loss: 0.2319 - acc: 0.9178 - val_loss: 0.3500 - val_acc: 0.8888\n",
            "\n",
            "Epoch 00017: val_acc did not improve from 0.89844\n",
            "Epoch 18/50\n",
            "390/390 [==============================] - 28s 72ms/step - loss: 0.2315 - acc: 0.9176 - val_loss: 0.4162 - val_acc: 0.8722\n",
            "\n",
            "Epoch 00018: val_acc did not improve from 0.89844\n",
            "Epoch 19/50\n",
            "390/390 [==============================] - 28s 71ms/step - loss: 0.2315 - acc: 0.9170 - val_loss: 0.4203 - val_acc: 0.8763\n",
            "\n",
            "Epoch 00019: val_acc did not improve from 0.89844\n",
            "Epoch 20/50\n",
            "390/390 [==============================] - 28s 71ms/step - loss: 0.2285 - acc: 0.9168 - val_loss: 0.3822 - val_acc: 0.8825\n",
            "\n",
            "Epoch 00020: val_acc did not improve from 0.89844\n",
            "Epoch 21/50\n",
            "390/390 [==============================] - 28s 72ms/step - loss: 0.2272 - acc: 0.9172 - val_loss: 0.3482 - val_acc: 0.8897\n",
            "\n",
            "Epoch 00021: val_acc did not improve from 0.89844\n",
            "Epoch 22/50\n",
            "390/390 [==============================] - 28s 73ms/step - loss: 0.2287 - acc: 0.9190 - val_loss: 0.4111 - val_acc: 0.8750\n",
            "\n",
            "Epoch 00022: val_acc did not improve from 0.89844\n",
            "Epoch 23/50\n",
            "390/390 [==============================] - 28s 73ms/step - loss: 0.2292 - acc: 0.9180 - val_loss: 0.3467 - val_acc: 0.8944\n",
            "\n",
            "Epoch 00023: val_acc did not improve from 0.89844\n",
            "Epoch 24/50\n",
            "390/390 [==============================] - 28s 73ms/step - loss: 0.2278 - acc: 0.9191 - val_loss: 0.3910 - val_acc: 0.8794\n",
            "\n",
            "Epoch 00024: val_acc did not improve from 0.89844\n",
            "Epoch 25/50\n",
            "390/390 [==============================] - 29s 74ms/step - loss: 0.2237 - acc: 0.9197 - val_loss: 0.3582 - val_acc: 0.8884\n",
            "\n",
            "Epoch 00025: val_acc did not improve from 0.89844\n",
            "Epoch 26/50\n",
            "390/390 [==============================] - 29s 75ms/step - loss: 0.2259 - acc: 0.9198 - val_loss: 0.3728 - val_acc: 0.8803\n",
            "\n",
            "Epoch 00026: val_acc did not improve from 0.89844\n",
            "Epoch 27/50\n",
            "390/390 [==============================] - 29s 74ms/step - loss: 0.2236 - acc: 0.9201 - val_loss: 0.3575 - val_acc: 0.8884\n",
            "\n",
            "Epoch 00027: val_acc did not improve from 0.89844\n",
            "Epoch 28/50\n",
            "390/390 [==============================] - 29s 74ms/step - loss: 0.2222 - acc: 0.9211 - val_loss: 0.3430 - val_acc: 0.8931\n",
            "\n",
            "Epoch 00028: val_acc did not improve from 0.89844\n",
            "Epoch 29/50\n",
            "390/390 [==============================] - 28s 73ms/step - loss: 0.2209 - acc: 0.9211 - val_loss: 0.4135 - val_acc: 0.8737\n",
            "\n",
            "Epoch 00029: val_acc did not improve from 0.89844\n",
            "Epoch 30/50\n",
            "390/390 [==============================] - 29s 73ms/step - loss: 0.2208 - acc: 0.9208 - val_loss: 0.3752 - val_acc: 0.8866\n",
            "\n",
            "Epoch 00030: val_acc did not improve from 0.89844\n",
            "Epoch 31/50\n",
            "390/390 [==============================] - 29s 74ms/step - loss: 0.3106 - acc: 0.8953 - val_loss: 0.3878 - val_acc: 0.8831\n",
            "\n",
            "Epoch 00031: val_acc did not improve from 0.89844\n",
            "Epoch 32/50\n",
            "390/390 [==============================] - 29s 74ms/step - loss: 0.2354 - acc: 0.9158 - val_loss: 0.3556 - val_acc: 0.8901\n",
            "\n",
            "Epoch 00032: val_acc did not improve from 0.89844\n",
            "Epoch 33/50\n",
            "390/390 [==============================] - 28s 71ms/step - loss: 0.2269 - acc: 0.9204 - val_loss: 0.4251 - val_acc: 0.8694\n",
            "\n",
            "Epoch 00033: val_acc did not improve from 0.89844\n",
            "Epoch 34/50\n",
            "390/390 [==============================] - 28s 72ms/step - loss: 0.2204 - acc: 0.9206 - val_loss: 0.3409 - val_acc: 0.8962\n",
            "\n",
            "Epoch 00034: val_acc did not improve from 0.89844\n",
            "Epoch 35/50\n",
            "390/390 [==============================] - 28s 72ms/step - loss: 0.2208 - acc: 0.9215 - val_loss: 0.3954 - val_acc: 0.8766\n",
            "\n",
            "Epoch 00035: val_acc did not improve from 0.89844\n",
            "Epoch 36/50\n",
            "390/390 [==============================] - 28s 72ms/step - loss: 0.2140 - acc: 0.9219 - val_loss: 0.4582 - val_acc: 0.8769\n",
            "\n",
            "Epoch 00036: val_acc did not improve from 0.89844\n",
            "Epoch 37/50\n",
            "390/390 [==============================] - 28s 72ms/step - loss: 0.2213 - acc: 0.9216 - val_loss: 0.3838 - val_acc: 0.8841\n",
            "\n",
            "Epoch 00037: val_acc did not improve from 0.89844\n",
            "Epoch 38/50\n",
            "390/390 [==============================] - 29s 73ms/step - loss: 0.2216 - acc: 0.9202 - val_loss: 0.3774 - val_acc: 0.8907\n",
            "\n",
            "Epoch 00038: val_acc did not improve from 0.89844\n",
            "Epoch 39/50\n",
            "390/390 [==============================] - 29s 74ms/step - loss: 0.2172 - acc: 0.9224 - val_loss: 0.3722 - val_acc: 0.8850\n",
            "\n",
            "Epoch 00039: val_acc did not improve from 0.89844\n",
            "Epoch 40/50\n",
            "390/390 [==============================] - 29s 73ms/step - loss: 0.2156 - acc: 0.9228 - val_loss: 0.3455 - val_acc: 0.8950\n",
            "\n",
            "Epoch 00040: val_acc did not improve from 0.89844\n",
            "Epoch 41/50\n",
            "390/390 [==============================] - 28s 72ms/step - loss: 0.2180 - acc: 0.9227 - val_loss: 0.3680 - val_acc: 0.8916\n",
            "\n",
            "Epoch 00041: val_acc did not improve from 0.89844\n",
            "Epoch 42/50\n",
            "390/390 [==============================] - 28s 72ms/step - loss: 0.2132 - acc: 0.9228 - val_loss: 0.3863 - val_acc: 0.8866\n",
            "\n",
            "Epoch 00042: val_acc did not improve from 0.89844\n",
            "Epoch 43/50\n",
            "390/390 [==============================] - 28s 72ms/step - loss: 0.2113 - acc: 0.9250 - val_loss: 0.3489 - val_acc: 0.8897\n",
            "\n",
            "Epoch 00043: val_acc did not improve from 0.89844\n",
            "Epoch 44/50\n",
            "390/390 [==============================] - 28s 72ms/step - loss: 0.2118 - acc: 0.9248 - val_loss: 0.3837 - val_acc: 0.8800\n",
            "\n",
            "Epoch 00044: val_acc did not improve from 0.89844\n",
            "Epoch 45/50\n",
            "390/390 [==============================] - 28s 72ms/step - loss: 0.2167 - acc: 0.9231 - val_loss: 0.3838 - val_acc: 0.8862\n",
            "\n",
            "Epoch 00045: val_acc did not improve from 0.89844\n",
            "Epoch 46/50\n",
            "390/390 [==============================] - 28s 72ms/step - loss: 0.2072 - acc: 0.9244 - val_loss: 0.3786 - val_acc: 0.8844\n",
            "\n",
            "Epoch 00046: val_acc did not improve from 0.89844\n",
            "Epoch 47/50\n",
            "390/390 [==============================] - 27s 70ms/step - loss: 0.2097 - acc: 0.9248 - val_loss: 0.3561 - val_acc: 0.8904\n",
            "\n",
            "Epoch 00047: val_acc did not improve from 0.89844\n",
            "Epoch 48/50\n",
            "390/390 [==============================] - 28s 71ms/step - loss: 0.2126 - acc: 0.9236 - val_loss: 0.3375 - val_acc: 0.8975\n",
            "\n",
            "Epoch 00048: val_acc did not improve from 0.89844\n",
            "Epoch 49/50\n",
            "390/390 [==============================] - 28s 71ms/step - loss: 0.2152 - acc: 0.9231 - val_loss: 0.4038 - val_acc: 0.8741\n",
            "\n",
            "Epoch 00049: val_acc did not improve from 0.89844\n",
            "Epoch 50/50\n",
            "390/390 [==============================] - 28s 71ms/step - loss: 0.2094 - acc: 0.9253 - val_loss: 0.4019 - val_acc: 0.8791\n",
            "\n",
            "Epoch 00050: val_acc did not improve from 0.89844\n",
            "Model took 1406.96 seconds to train\n"
          ],
          "name": "stdout"
        },
        {
          "output_type": "display_data",
          "data": {
            "image/png": "[encoded data removed]",
            "text/plain": [
              "<Figure size 1080x360 with 2 Axes>"
            ]
          },
          "metadata": {
            "tags": []
          }
        },
        {
          "output_type": "stream",
          "text": [
            "Accuracy on test data is: 39.66\n"
          ],
          "name": "stdout"
        }
      ]
    },
    {
      "cell_type": "code",
      "metadata": {
        "id": "uIndKleF6BC7",
        "colab_type": "code",
        "colab": {}
      },
      "source": [
        "from google.colab import files\n",
        "files.download('modelBest.h5') "
      ],
      "execution_count": 0,
      "outputs": []
    },
    {
      "cell_type": "code",
      "metadata": {
        "id": "NduV2tpNVsnu",
        "colab_type": "code",
        "colab": {}
      },
      "source": [
        "from google.colab import files\n",
        "files.upload()"
      ],
      "execution_count": 0,
      "outputs": []
    },
    {
      "cell_type": "code",
      "metadata": {
        "id": "S1hQp909Z4R6",
        "colab_type": "code",
        "colab": {}
      },
      "source": [
        "from keras.models import load_model\n",
        "modelBest = load_model(\"modelBest.h5\")"
      ],
      "execution_count": 0,
      "outputs": []
    },
    {
      "cell_type": "code",
      "metadata": {
        "id": "-2o6QBCfC9UM",
        "colab_type": "code",
        "colab": {}
      },
      "source": [
        "from keras.preprocessing import image\n",
        "import keras.backend as K\n",
        "import numpy as np\n",
        "import cv2\n",
        "import sys"
      ],
      "execution_count": 0,
      "outputs": []
    },
    {
      "cell_type": "code",
      "metadata": {
        "id": "lvuiFWu9leT-",
        "colab_type": "code",
        "colab": {}
      },
      "source": [
        "from keras.preprocessing.image import ImageDataGenerator\n",
        "\n",
        "predgen = ImageDataGenerator(featurewise_center=True,\n",
        "                            featurewise_std_normalization=True)\n",
        "\n",
        "predgen.fit(test_features)\n",
        "\n",
        "pred_generator = predgen.flow(test_features, test_labels,\n",
        "  shuffle=False)\n",
        "\n",
        "y_pred = modelBest.predict_generator(pred_generator, steps=1) "
      ],
      "execution_count": 0,
      "outputs": []
    },
    {
      "cell_type": "code",
      "metadata": {
        "id": "Yzw6O9pYmSCM",
        "colab_type": "code",
        "outputId": "0bba7e6d-f4e4-4656-f27c-db2ae4ff6d95",
        "colab": {
          "base_uri": "https://localhost:8080/",
          "height": 199
        }
      },
      "source": [
        "for test_index in range(10):\n",
        "  print(test_index, np.argmax(y_pred[test_index]), np.argmax(test_labels[test_index]))"
      ],
      "execution_count": 19,
      "outputs": [
        {
          "output_type": "stream",
          "text": [
            "0 3 3\n",
            "1 8 8\n",
            "2 8 8\n",
            "3 0 0\n",
            "4 6 6\n",
            "5 6 6\n",
            "6 1 1\n",
            "7 6 6\n",
            "8 3 3\n",
            "9 1 1\n"
          ],
          "name": "stdout"
        }
      ]
    },
    {
      "cell_type": "code",
      "metadata": {
        "id": "SUvmJOqvVqw_",
        "colab_type": "code",
        "colab": {}
      },
      "source": [
        "test_idx = 1\n",
        "class_idx = np.argmax(y_pred[test_idx])\n",
        "class_output = modelBest.output[:, class_idx]\n",
        "last_conv_layer = modelBest.get_layer(\"activation_7\")"
      ],
      "execution_count": 0,
      "outputs": []
    },
    {
      "cell_type": "code",
      "metadata": {
        "id": "PxNgoiQxWYN8",
        "colab_type": "code",
        "outputId": "ef96cddf-4e2a-4cf4-d465-68013012799c",
        "colab": {
          "base_uri": "https://localhost:8080/",
          "height": 35
        }
      },
      "source": [
        "grads = K.gradients(class_output, last_conv_layer.output)[0]\n",
        "print(grads)\n",
        "pooled_grads = K.mean(grads, axis=(0, 1, 2))\n",
        "iterate = K.function([modelBest.input], [pooled_grads, last_conv_layer.output[0]])\n",
        "x = test_features[test_idx]\n",
        "x = np.expand_dims(x, axis=0)\n",
        "pooled_grads_value, conv_layer_output_value = iterate([x])\n",
        "for i in range(256):\n",
        "    conv_layer_output_value[:, :, i] *= pooled_grads_value[i]"
      ],
      "execution_count": 31,
      "outputs": [
        {
          "output_type": "stream",
          "text": [
            "Tensor(\"gradients_1/AddN_1:0\", shape=(?, 8, 8, 256), dtype=float32)\n"
          ],
          "name": "stdout"
        }
      ]
    },
    {
      "cell_type": "code",
      "metadata": {
        "id": "QfydoVHpZDle",
        "colab_type": "code",
        "colab": {}
      },
      "source": [
        "heatmap = np.mean(conv_layer_output_value, axis=-1)\n",
        "heatmap = np.maximum(heatmap, 0)\n",
        "heatmap /= np.max(heatmap)"
      ],
      "execution_count": 0,
      "outputs": []
    },
    {
      "cell_type": "code",
      "metadata": {
        "id": "bmNxsREvZHAc",
        "colab_type": "code",
        "outputId": "c720e683-c66e-49b9-e32b-4400acb73a60",
        "colab": {
          "base_uri": "https://localhost:8080/",
          "height": 117
        }
      },
      "source": [
        "from google.colab.patches import cv2_imshow\n",
        "img = test_features[test_idx]\n",
        "print(img.shape)\n",
        "heatmap = cv2.resize(heatmap, (img.shape[1], img.shape[0]))\n",
        "heatmap = np.uint8(255 * heatmap)\n",
        "img = np.uint8(255 * img)\n",
        "heatmap = cv2.applyColorMap(heatmap, cv2.COLORMAP_JET)\n",
        "superimposed_img = cv2.addWeighted(img, 0.6, heatmap, 0.4, 0)\n",
        "#superimposed_img = cv2.addWeighted(img, 0.4, heatmap, 0.6, 0)\n",
        "cv2_imshow(img)\n",
        "cv2_imshow(superimposed_img)\n",
        "cv2.waitKey(0)"
      ],
      "execution_count": 33,
      "outputs": [
        {
          "output_type": "stream",
          "text": [
            "(32, 32, 3)\n"
          ],
          "name": "stdout"
        },
        {
          "output_type": "display_data",
          "data": {
            "image/png": "[encoded data removed]",
            "text/plain": [
              "<PIL.Image.Image image mode=RGB size=32x32 at 0x7FB2F7EBC4A8>"
            ]
          },
          "metadata": {
            "tags": []
          }
        },
        {
          "output_type": "display_data",
          "data": {
            "image/png": "[encoded data removed]",
            "text/plain": [
              "<PIL.Image.Image image mode=RGB size=32x32 at 0x7FB2F7D58898>"
            ]
          },
          "metadata": {
            "tags": []
          }
        },
        {
          "output_type": "execute_result",
          "data": {
            "text/plain": [
              "-1"
            ]
          },
          "metadata": {
            "tags": []
          },
          "execution_count": 33
        }
      ]
    },
    {
      "cell_type": "code",
      "metadata": {
        "id": "DVbKUEmTLMtm",
        "colab_type": "code",
        "outputId": "b8a7f6f6-9785-442d-fb3f-a064a36fbae3",
        "colab": {
          "base_uri": "https://localhost:8080/",
          "height": 215
        }
      },
      "source": [
        "fig = plt.figure(figsize=(8,3))\n",
        "plt.imshow(img)\n",
        "plt.show()"
      ],
      "execution_count": 34,
      "outputs": [
        {
          "output_type": "display_data",
          "data": {
            "image/png": "[encoded data removed]",
            "text/plain": [
              "<Figure size 576x216 with 1 Axes>"
            ]
          },
          "metadata": {
            "tags": []
          }
        }
      ]
    },
    {
      "cell_type": "code",
      "metadata": {
        "id": "NKbOOSEoLSbU",
        "colab_type": "code",
        "outputId": "3d475f47-98ec-46e0-b178-0bfa364a47a7",
        "colab": {
          "base_uri": "https://localhost:8080/",
          "height": 215
        }
      },
      "source": [
        "fig = plt.figure(figsize=(8,3))\n",
        "plt.imshow(superimposed_img)\n",
        "plt.show()"
      ],
      "execution_count": 35,
      "outputs": [
        {
          "output_type": "display_data",
          "data": {
            "image/png": "[encoded data removed]",
            "text/plain": [
              "<Figure size 576x216 with 1 Axes>"
            ]
          },
          "metadata": {
            "tags": []
          }
        }
      ]
    }
  ]
}