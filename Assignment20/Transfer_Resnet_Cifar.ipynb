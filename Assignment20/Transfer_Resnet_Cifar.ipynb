{
  "nbformat": 4,
  "nbformat_minor": 0,
  "metadata": {
    "kernelspec": {
      "name": "python3",
      "display_name": "Python 3"
    },
    "language_info": {
      "codemirror_mode": {
        "name": "ipython",
        "version": 3
      },
      "file_extension": ".py",
      "mimetype": "text/x-python",
      "name": "python",
      "nbconvert_exporter": "python",
      "pygments_lexer": "ipython3",
      "version": "3.6.3"
    },
    "widgets": {
      "state": {},
      "version": "1.1.2"
    },
    "colab": {
      "name": "Transfer_Resnet_Cifar.ipynb",
      "provenance": [],
      "collapsed_sections": [],
      "include_colab_link": true
    },
    "accelerator": "GPU"
  },
  "cells": [
    {
      "cell_type": "markdown",
      "metadata": {
        "id": "view-in-github",
        "colab_type": "text"
      },
      "source": [
        "<a href=\"https://colab.research.google.com/github/Curiousss/EVA/blob/master/Assignment20/Transfer_Resnet_Cifar.ipynb\" target=\"_parent\"><img src=\"https://colab.research.google.com/assets/colab-badge.svg\" alt=\"Open In Colab\"/></a>"
      ]
    },
    {
      "cell_type": "code",
      "metadata": {
        "id": "aCr5WqGzFDzo",
        "colab_type": "code",
        "colab": {}
      },
      "source": [
        "#!ls -l\n",
        "!rm test/* train/*\n",
        "!rm test/cifar-100-python/* train/cifar-100-python/*\n",
        "!rmdir test/cifar-100-python train/cifar-100-python\n",
        "!rmdir test/ train/\n",
        "!rmdir test train"
      ],
      "execution_count": 0,
      "outputs": []
    },
    {
      "cell_type": "code",
      "metadata": {
        "id": "CmAorKgNDXXg",
        "colab_type": "code",
        "colab": {}
      },
      "source": [
        "import os\n",
        "import numpy as np\n",
        "import torch\n",
        "\n",
        "import torchvision\n",
        "from torchvision import datasets, models, transforms\n",
        "import matplotlib.pyplot as plt\n",
        "\n",
        "%matplotlib inline"
      ],
      "execution_count": 0,
      "outputs": []
    },
    {
      "cell_type": "code",
      "metadata": {
        "id": "tT0nzNkeDXXj",
        "colab_type": "code",
        "outputId": "3be4f294-8a4e-40d4-fb1e-69410d63f2e0",
        "colab": {
          "base_uri": "https://localhost:8080/",
          "height": 35
        }
      },
      "source": [
        "# check if CUDA is available\n",
        "train_on_gpu = torch.cuda.is_available()\n",
        "\n",
        "if not train_on_gpu:\n",
        "    print('CUDA is not available.  Training on CPU ...')\n",
        "else:\n",
        "    print('CUDA is available!  Training on GPU ...')"
      ],
      "execution_count": 2,
      "outputs": [
        {
          "output_type": "stream",
          "text": [
            "CUDA is available!  Training on GPU ...\n"
          ],
          "name": "stdout"
        }
      ]
    },
    {
      "cell_type": "code",
      "metadata": {
        "id": "wnsU-_-9Ef1p",
        "colab_type": "code",
        "outputId": "b5285bab-d3a9-4b85-fcb0-2b7cf618f43c",
        "colab": {
          "base_uri": "https://localhost:8080/",
          "height": 54
        }
      },
      "source": [
        "data_transform = transforms.Compose([transforms.Resize((197,197)), \n",
        "                                     transforms.RandomHorizontalFlip(),\n",
        "                                      transforms.ToTensor(),\n",
        "                                     transforms.Normalize((0.485, 0.456, 0.406), (0.229, 0.224, 0.225))])\n",
        "trainset = torchvision.datasets.CIFAR100(root='train/',\n",
        "                                         train=True,\n",
        "                                         download=True,\n",
        "                                         transform=data_transform)\n",
        "testset = torchvision.datasets.CIFAR100(root='test/',\n",
        "                                        train=False,\n",
        "                                        download=True,\n",
        "                                        transform=data_transform)"
      ],
      "execution_count": 3,
      "outputs": [
        {
          "output_type": "stream",
          "text": [
            "Files already downloaded and verified\n",
            "Files already downloaded and verified\n"
          ],
          "name": "stdout"
        }
      ]
    },
    {
      "cell_type": "code",
      "metadata": {
        "id": "6-SCzPlwDXXt",
        "colab_type": "code",
        "colab": {}
      },
      "source": [
        "# define dataloader parameters\n",
        "batch_size = 128\n",
        "num_workers=0\n",
        "\n",
        "# prepare data loaders\n",
        "train_loader = torch.utils.data.DataLoader(trainset, batch_size=batch_size, \n",
        "                                           num_workers=num_workers, shuffle=True)\n",
        "test_loader = torch.utils.data.DataLoader(testset, batch_size=batch_size, \n",
        "                                          num_workers=num_workers, shuffle=True)"
      ],
      "execution_count": 0,
      "outputs": []
    },
    {
      "cell_type": "code",
      "metadata": {
        "id": "wTl54uKtDXXw",
        "colab_type": "code",
        "colab": {}
      },
      "source": [
        "# Visualize some sample data\n",
        "\n",
        "# obtain one batch of training images\n",
        "dataiter = iter(train_loader)\n",
        "images, labels = dataiter.next()\n",
        "images = images.numpy() # convert images to numpy for display\n",
        "\n",
        "# plot the images in the batch, along with the corresponding labels\n",
        "#fig = plt.figure(figsize=(25, 4))\n",
        "#for idx in np.arange(20):\n",
        "    #ax = fig.add_subplot(2, 20/2, idx+1, xticks=[], yticks=[])\n",
        "    #plt.imshow(np.transpose(images[idx], (1, 2, 0)))\n",
        "    #ax.set_title(classes[labels[idx]])"
      ],
      "execution_count": 0,
      "outputs": []
    },
    {
      "cell_type": "code",
      "metadata": {
        "scrolled": true,
        "id": "uCy0e-tYDXX0",
        "colab_type": "code",
        "colab": {}
      },
      "source": [
        "# Load the pretrained model from pytorch\n",
        "#pretrained (bool) – If True, returns a model pre-trained on ImageNet\n",
        "resnet18 = models.resnet18(pretrained=True)\n",
        "\n",
        "# print out the model structure\n",
        "#print(resnet18)"
      ],
      "execution_count": 0,
      "outputs": []
    },
    {
      "cell_type": "code",
      "metadata": {
        "id": "krrp7-duDXX3",
        "colab_type": "code",
        "outputId": "b28e8248-834f-4191-9365-0d1607898eef",
        "colab": {
          "base_uri": "https://localhost:8080/",
          "height": 54
        }
      },
      "source": [
        "print(resnet18.fc.in_features) \n",
        "print(resnet18.fc.out_features) "
      ],
      "execution_count": 8,
      "outputs": [
        {
          "output_type": "stream",
          "text": [
            "512\n",
            "1000\n"
          ],
          "name": "stdout"
        }
      ]
    },
    {
      "cell_type": "code",
      "metadata": {
        "id": "hw5zZZHoDXX6",
        "colab_type": "code",
        "outputId": "915ee1f2-5844-4d33-926e-28fdadb67a96",
        "colab": {
          "base_uri": "https://localhost:8080/",
          "height": 54
        }
      },
      "source": [
        "# Freeze training for all \"features\" layers\n",
        "#for param in resnet18.parameters():\n",
        "#    param.requires_grad = False\n",
        "#resnet18.avgpool.requires_grad = True\n",
        "#resnet18.layer4.requires_grad_ = True\n",
        "#print(resnet18)\n",
        "for name, child in resnet18.named_children():\n",
        "    if name in ['layer3', 'layer4']:\n",
        "        print(name + 'has been unfrozen.')\n",
        "        for param in child.parameters():\n",
        "            param.requires_grad = True\n",
        "    else:\n",
        "        for param in child.parameters():\n",
        "            param.requires_grad = False"
      ],
      "execution_count": 7,
      "outputs": [
        {
          "output_type": "stream",
          "text": [
            "layer3has been unfrozen.\n",
            "layer4has been unfrozen.\n"
          ],
          "name": "stdout"
        }
      ]
    },
    {
      "cell_type": "code",
      "metadata": {
        "id": "P66bfRkUDXX-",
        "colab_type": "code",
        "outputId": "b7527950-8bbb-4f41-f60e-97917ee647ef",
        "colab": {
          "base_uri": "https://localhost:8080/",
          "height": 35
        }
      },
      "source": [
        "import torch.nn as nn\n",
        "\n",
        "n_inputs = resnet18.fc.in_features\n",
        "\n",
        "last_layer = nn.Linear(n_inputs, 100)\n",
        "\n",
        "resnet18.fc = last_layer\n",
        "\n",
        "# if GPU is available, move the model to GPU\n",
        "if train_on_gpu:\n",
        "    resnet18.cuda()\n",
        "\n",
        "# check to see that your last layer produces the expected number of outputs\n",
        "print(resnet18.fc.out_features)\n",
        "#print(resnet18)"
      ],
      "execution_count": 8,
      "outputs": [
        {
          "output_type": "stream",
          "text": [
            "100\n"
          ],
          "name": "stdout"
        }
      ]
    },
    {
      "cell_type": "code",
      "metadata": {
        "id": "TpJLhem6lkAf",
        "colab_type": "code",
        "colab": {}
      },
      "source": [
        "CIFAR100_LABELS_LIST = [\n",
        "    'apple', 'aquarium_fish', 'baby', 'bear', 'beaver', 'bed', 'bee', 'beetle', \n",
        "    'bicycle', 'bottle', 'bowl', 'boy', 'bridge', 'bus', 'butterfly', 'camel', \n",
        "    'can', 'castle', 'caterpillar', 'cattle', 'chair', 'chimpanzee', 'clock', \n",
        "    'cloud', 'cockroach', 'couch', 'crab', 'crocodile', 'cup', 'dinosaur', \n",
        "    'dolphin', 'elephant', 'flatfish', 'forest', 'fox', 'girl', 'hamster', \n",
        "    'house', 'kangaroo', 'keyboard', 'lamp', 'lawn_mower', 'leopard', 'lion',\n",
        "    'lizard', 'lobster', 'man', 'maple_tree', 'motorcycle', 'mountain', 'mouse',\n",
        "    'mushroom', 'oak_tree', 'orange', 'orchid', 'otter', 'palm_tree', 'pear',\n",
        "    'pickup_truck', 'pine_tree', 'plain', 'plate', 'poppy', 'porcupine',\n",
        "    'possum', 'rabbit', 'raccoon', 'ray', 'road', 'rocket', 'rose',\n",
        "    'sea', 'seal', 'shark', 'shrew', 'skunk', 'skyscraper', 'snail', 'snake',\n",
        "    'spider', 'squirrel', 'streetcar', 'sunflower', 'sweet_pepper', 'table',\n",
        "    'tank', 'telephone', 'television', 'tiger', 'tractor', 'train', 'trout',\n",
        "    'tulip', 'turtle', 'wardrobe', 'whale', 'willow_tree', 'wolf', 'woman',\n",
        "    'worm'\n",
        "]"
      ],
      "execution_count": 0,
      "outputs": []
    },
    {
      "cell_type": "code",
      "metadata": {
        "id": "jBspO5JqDXYC",
        "colab_type": "code",
        "colab": {}
      },
      "source": [
        "import torch.optim as optim\n",
        "from torch.optim import lr_scheduler\n",
        "\n",
        "# specify loss function (categorical cross-entropy)\n",
        "criterion = nn.CrossEntropyLoss()\n",
        "\n",
        "# specify optimizer (stochastic gradient descent) and learning rate = 0.001\n",
        "optimizer = optim.AdamW(resnet18.parameters(), lr=0.001)\n",
        "\n",
        "exp_lr_scheduler = lr_scheduler.StepLR(optimizer, step_size=7, gamma=0.1)"
      ],
      "execution_count": 0,
      "outputs": []
    },
    {
      "cell_type": "code",
      "metadata": {
        "scrolled": true,
        "id": "1HepYtZPDXYG",
        "colab_type": "code",
        "outputId": "70c21a8e-1bc6-4d1a-b4f4-f5e3f1077a70",
        "colab": {
          "base_uri": "https://localhost:8080/",
          "height": 108
        }
      },
      "source": [
        "# number of epochs to train the model\n",
        "n_epochs = 5\n",
        "\n",
        "for epoch in range(1, n_epochs+1):\n",
        "\n",
        "    # keep track of training and validation loss\n",
        "    train_loss = 0.0\n",
        "    \n",
        "    #exp_lr_scheduler.step()\n",
        "\n",
        "    ###################\n",
        "    # train the model #\n",
        "    ###################\n",
        "    # model by default is set to train\n",
        "    for batch_i, (data, target) in enumerate(train_loader):\n",
        "        # move tensors to GPU if CUDA is available\n",
        "        if train_on_gpu:\n",
        "            data, target = data.cuda(), target.cuda()\n",
        "        # clear the gradients of all optimized variables\n",
        "        optimizer.zero_grad()\n",
        "        # forward pass: compute predicted outputs by passing inputs to the model\n",
        "        output = resnet18(data)\n",
        "        # calculate the batch loss\n",
        "        loss = criterion(output, target)\n",
        "        # backward pass: compute gradient of the loss with respect to model parameters\n",
        "        loss.backward()\n",
        "        # perform a single optimization step (parameter update)\n",
        "        optimizer.step()\n",
        "        # update training loss \n",
        "        train_loss += loss.item()\n",
        "        \n",
        "    exp_lr_scheduler.step()\n",
        "    print('Epoch %d, Batch %d loss: %.16f' %(epoch, batch_i + 1, train_loss / (batch_i)))\n",
        "    train_loss = 0.0"
      ],
      "execution_count": 13,
      "outputs": [
        {
          "output_type": "stream",
          "text": [
            "Epoch 1, Batch 391 loss: 0.7019589031353975\n",
            "Epoch 2, Batch 391 loss: 0.4268446434766818\n",
            "Epoch 3, Batch 391 loss: 0.1232785094147309\n",
            "Epoch 4, Batch 391 loss: 0.0656632228444020\n",
            "Epoch 5, Batch 391 loss: 0.0457607636467004\n"
          ],
          "name": "stdout"
        }
      ]
    },
    {
      "cell_type": "code",
      "metadata": {
        "id": "7GweFU06DXYJ",
        "colab_type": "code",
        "outputId": "6a3c83e5-6d35-4979-f7a8-49c4cd60a7f0",
        "colab": {
          "base_uri": "https://localhost:8080/",
          "height": 1000
        }
      },
      "source": [
        "test_loss = 0.0\n",
        "class_correct = list(0. for i in range(100))\n",
        "class_total = list(0. for i in range(100))\n",
        "\n",
        "resnet18.eval() # eval mode\n",
        "\n",
        "# iterate over test data\n",
        "for data, target in test_loader:\n",
        "    # move tensors to GPU if CUDA is available\n",
        "    if train_on_gpu:\n",
        "        data, target = data.cuda(), target.cuda()\n",
        "    # forward pass: compute predicted outputs by passing inputs to the model\n",
        "    output = resnet18(data)\n",
        "    # calculate the batch loss\n",
        "    loss = criterion(output, target)\n",
        "    # update  test loss \n",
        "    test_loss += loss.item()*data.size(0)\n",
        "    # convert output probabilities to predicted class\n",
        "    _, pred = torch.max(output, 1)    \n",
        "    # compare predictions to true label\n",
        "    correct_tensor = pred.eq(target.data.view_as(pred))\n",
        "    correct = np.squeeze(correct_tensor.numpy()) if not train_on_gpu else np.squeeze(correct_tensor.cpu().numpy())\n",
        "    # calculate test accuracy for each object class\n",
        "    i = 0\n",
        "    for t in target:\n",
        "        label = t.data\n",
        "        class_correct[label] += correct[i].item()\n",
        "        class_total[label] += 1\n",
        "        i = i + 1\n",
        "\n",
        "# calculate avg test loss\n",
        "test_loss = test_loss/len(test_loader.dataset)\n",
        "print('Test Loss: {:.6f}\\n'.format(test_loss))\n",
        "\n",
        "for i in range(100):\n",
        "    if class_total[i] > 0:\n",
        "        print('Test Accuracy of %5s: %2d%% (%2d/%2d)' % (\n",
        "            CIFAR100_LABELS_LIST[i], 100 * class_correct[i] / class_total[i],\n",
        "            np.sum(class_correct[i]), np.sum(class_total[i])))\n",
        "    else:\n",
        "        print('Test Accuracy of %5d: N/A (no training examples)' % i)\n",
        "\n",
        "print('\\nTest Accuracy (Overall): %2d%% (%2d/%2d)' % (\n",
        "    100. * np.sum(class_correct) / np.sum(class_total),\n",
        "    np.sum(class_correct), np.sum(class_total)))"
      ],
      "execution_count": 14,
      "outputs": [
        {
          "output_type": "stream",
          "text": [
            "Test Loss: 1.174624\n",
            "\n",
            "Test Accuracy of apple: 89% (89/100)\n",
            "Test Accuracy of aquarium_fish: 88% (88/100)\n",
            "Test Accuracy of  baby: 66% (66/100)\n",
            "Test Accuracy of  bear: 60% (60/100)\n",
            "Test Accuracy of beaver: 56% (56/100)\n",
            "Test Accuracy of   bed: 72% (72/100)\n",
            "Test Accuracy of   bee: 74% (74/100)\n",
            "Test Accuracy of beetle: 83% (83/100)\n",
            "Test Accuracy of bicycle: 85% (85/100)\n",
            "Test Accuracy of bottle: 91% (91/100)\n",
            "Test Accuracy of  bowl: 69% (69/100)\n",
            "Test Accuracy of   boy: 72% (72/100)\n",
            "Test Accuracy of bridge: 79% (79/100)\n",
            "Test Accuracy of   bus: 69% (69/100)\n",
            "Test Accuracy of butterfly: 72% (72/100)\n",
            "Test Accuracy of camel: 73% (73/100)\n",
            "Test Accuracy of   can: 83% (83/100)\n",
            "Test Accuracy of castle: 85% (85/100)\n",
            "Test Accuracy of caterpillar: 80% (80/100)\n",
            "Test Accuracy of cattle: 79% (79/100)\n",
            "Test Accuracy of chair: 84% (84/100)\n",
            "Test Accuracy of chimpanzee: 83% (83/100)\n",
            "Test Accuracy of clock: 84% (84/100)\n",
            "Test Accuracy of cloud: 84% (84/100)\n",
            "Test Accuracy of cockroach: 76% (76/100)\n",
            "Test Accuracy of couch: 67% (67/100)\n",
            "Test Accuracy of  crab: 71% (71/100)\n",
            "Test Accuracy of crocodile: 71% (71/100)\n",
            "Test Accuracy of   cup: 83% (83/100)\n",
            "Test Accuracy of dinosaur: 78% (78/100)\n",
            "Test Accuracy of dolphin: 74% (74/100)\n",
            "Test Accuracy of elephant: 73% (73/100)\n",
            "Test Accuracy of flatfish: 66% (66/100)\n",
            "Test Accuracy of forest: 76% (76/100)\n",
            "Test Accuracy of   fox: 84% (84/100)\n",
            "Test Accuracy of  girl: 52% (52/100)\n",
            "Test Accuracy of hamster: 86% (86/100)\n",
            "Test Accuracy of house: 80% (80/100)\n",
            "Test Accuracy of kangaroo: 77% (77/100)\n",
            "Test Accuracy of keyboard: 90% (90/100)\n",
            "Test Accuracy of  lamp: 68% (68/100)\n",
            "Test Accuracy of lawn_mower: 89% (89/100)\n",
            "Test Accuracy of leopard: 74% (74/100)\n",
            "Test Accuracy of  lion: 78% (78/100)\n",
            "Test Accuracy of lizard: 68% (68/100)\n",
            "Test Accuracy of lobster: 67% (67/100)\n",
            "Test Accuracy of   man: 60% (60/100)\n",
            "Test Accuracy of maple_tree: 63% (63/100)\n",
            "Test Accuracy of motorcycle: 95% (95/100)\n",
            "Test Accuracy of mountain: 88% (88/100)\n",
            "Test Accuracy of mouse: 60% (60/100)\n",
            "Test Accuracy of mushroom: 81% (81/100)\n",
            "Test Accuracy of oak_tree: 58% (58/100)\n",
            "Test Accuracy of orange: 93% (93/100)\n",
            "Test Accuracy of orchid: 88% (88/100)\n",
            "Test Accuracy of otter: 53% (53/100)\n",
            "Test Accuracy of palm_tree: 87% (87/100)\n",
            "Test Accuracy of  pear: 83% (83/100)\n",
            "Test Accuracy of pickup_truck: 90% (90/100)\n",
            "Test Accuracy of pine_tree: 70% (70/100)\n",
            "Test Accuracy of plain: 86% (86/100)\n",
            "Test Accuracy of plate: 75% (75/100)\n",
            "Test Accuracy of poppy: 79% (79/100)\n",
            "Test Accuracy of porcupine: 69% (69/100)\n",
            "Test Accuracy of possum: 63% (63/100)\n",
            "Test Accuracy of rabbit: 73% (73/100)\n",
            "Test Accuracy of raccoon: 85% (85/100)\n",
            "Test Accuracy of   ray: 61% (61/100)\n",
            "Test Accuracy of  road: 91% (91/100)\n",
            "Test Accuracy of rocket: 82% (82/100)\n",
            "Test Accuracy of  rose: 85% (85/100)\n",
            "Test Accuracy of   sea: 85% (85/100)\n",
            "Test Accuracy of  seal: 45% (45/100)\n",
            "Test Accuracy of shark: 69% (69/100)\n",
            "Test Accuracy of shrew: 61% (61/100)\n",
            "Test Accuracy of skunk: 90% (90/100)\n",
            "Test Accuracy of skyscraper: 90% (90/100)\n",
            "Test Accuracy of snail: 67% (67/100)\n",
            "Test Accuracy of snake: 67% (67/100)\n",
            "Test Accuracy of spider: 80% (80/100)\n",
            "Test Accuracy of squirrel: 75% (75/100)\n",
            "Test Accuracy of streetcar: 83% (83/100)\n",
            "Test Accuracy of sunflower: 90% (90/100)\n",
            "Test Accuracy of sweet_pepper: 73% (73/100)\n",
            "Test Accuracy of table: 75% (75/100)\n",
            "Test Accuracy of  tank: 89% (89/100)\n",
            "Test Accuracy of telephone: 77% (77/100)\n",
            "Test Accuracy of television: 87% (87/100)\n",
            "Test Accuracy of tiger: 77% (77/100)\n",
            "Test Accuracy of tractor: 90% (90/100)\n",
            "Test Accuracy of train: 84% (84/100)\n",
            "Test Accuracy of trout: 85% (85/100)\n",
            "Test Accuracy of tulip: 65% (65/100)\n",
            "Test Accuracy of turtle: 67% (67/100)\n",
            "Test Accuracy of wardrobe: 93% (93/100)\n",
            "Test Accuracy of whale: 72% (72/100)\n",
            "Test Accuracy of willow_tree: 63% (63/100)\n",
            "Test Accuracy of  wolf: 85% (85/100)\n",
            "Test Accuracy of woman: 49% (49/100)\n",
            "Test Accuracy of  worm: 78% (78/100)\n",
            "\n",
            "Test Accuracy (Overall): 76% (7637/10000)\n"
          ],
          "name": "stdout"
        }
      ]
    },
    {
      "cell_type": "code",
      "metadata": {
        "id": "a6NVznYXDXYN",
        "colab_type": "code",
        "colab": {}
      },
      "source": [
        "# obtain one batch of test images\n",
        "dataiter = iter(test_loader)\n",
        "images, labels = dataiter.next()\n",
        "#images.numpy()\n",
        "\n",
        "# move model inputs to cuda, if GPU available\n",
        "if train_on_gpu:\n",
        "    images = images.cuda()\n",
        "\n",
        "# get sample outputs\n",
        "output = resnet18(images)\n",
        "# convert output probabilities to predicted class\n",
        "_, preds_tensor = torch.max(output, 1)\n",
        "preds = np.squeeze(preds_tensor.numpy()) if not train_on_gpu else np.squeeze(preds_tensor.cpu().numpy())\n",
        "images = images.cpu()\n",
        "\n",
        "# plot the images in the batch, along with predicted and true labels\n",
        "fig = plt.figure(figsize=(25, 4))\n",
        "for idx in np.arange(20):\n",
        "    ax = fig.add_subplot(2, 20/2, idx+1, xticks=[], yticks=[])\n",
        "    #print(images[idx])\n",
        "    plt.imshow(np.transpose(images[idx], (1,2,0)))\n",
        "    ax.set_title(\"{} ({})\".format(CIFAR100_LABELS_LIST[preds[idx]], CIFAR100_LABELS_LIST[labels[idx]]),\n",
        "                 color=(\"green\" if preds[idx]==labels[idx].item() else \"red\"))"
      ],
      "execution_count": 0,
      "outputs": []
    }
  ]
}