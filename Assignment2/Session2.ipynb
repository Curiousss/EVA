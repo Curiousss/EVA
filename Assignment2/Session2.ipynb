{
  "nbformat": 4,
  "nbformat_minor": 0,
  "metadata": {
    "colab": {
      "name": "AssignmentSession2.ipynb",
      "version": "0.3.2",
      "provenance": [],
      "collapsed_sections": [],
      "include_colab_link": true
    },
    "kernelspec": {
      "name": "python3",
      "display_name": "Python 3"
    },
    "accelerator": "GPU"
  },
  "cells": [
    {
      "cell_type": "markdown",
      "metadata": {
        "id": "view-in-github",
        "colab_type": "text"
      },
      "source": [
        "<a href=\"https://colab.research.google.com/github/Curiousss/EVA/blob/master/Assignment2/Session2.ipynb\" target=\"_parent\"><img src=\"https://colab.research.google.com/assets/colab-badge.svg\" alt=\"Open In Colab\"/></a>"
      ]
    },
    {
      "cell_type": "markdown",
      "metadata": {
        "id": "-nJ7YEw_vyjG",
        "colab_type": "text"
      },
      "source": [
        "# **Not an ideal network**"
      ]
    },
    {
      "cell_type": "markdown",
      "metadata": {
        "id": "Argf1mkqpzgZ",
        "colab_type": "text"
      },
      "source": [
        "Install Keras, Keras is a wrapper over tensorflow with many inbuilt functionalities that help to build neural network quicker."
      ]
    },
    {
      "cell_type": "code",
      "metadata": {
        "id": "kGWv5hBhv2jf",
        "colab_type": "code",
        "outputId": "ba449297-9d50-4868-a8f9-615f7a6cbab9",
        "colab": {
          "base_uri": "https://localhost:8080/",
          "height": 35
        }
      },
      "source": [
        "# https://keras.io/\n",
        "!pip install -q keras\n",
        "import keras"
      ],
      "execution_count": 0,
      "outputs": [
        {
          "output_type": "stream",
          "text": [
            "Using TensorFlow backend.\n"
          ],
          "name": "stderr"
        }
      ]
    },
    {
      "cell_type": "markdown",
      "metadata": {
        "id": "jz_NM2glqNMG",
        "colab_type": "text"
      },
      "source": [
        "Import the packages that are needed:\n",
        "*   Numpy for mathematically calculations \n",
        "*   Functions from Keras to build neural network\n",
        "*   MNIST dataset which will be the training data\n",
        "\n",
        "\n",
        "\n",
        "\n"
      ]
    },
    {
      "cell_type": "code",
      "metadata": {
        "id": "wnMlDJQKv4VG",
        "colab_type": "code",
        "colab": {}
      },
      "source": [
        "import numpy as np\n",
        "\n",
        "from keras.models import Sequential\n",
        "from keras.layers import Flatten\n",
        "from keras.layers import Convolution2D\n",
        "from keras.utils import np_utils\n",
        "\n",
        "from keras.datasets import mnist"
      ],
      "execution_count": 0,
      "outputs": []
    },
    {
      "cell_type": "markdown",
      "metadata": {
        "id": "6Dfv4MiRqy_e",
        "colab_type": "text"
      },
      "source": [
        "Load the MNIST data into training set and test data. \n",
        "\n",
        "\n",
        "*   X contains the images (of numbers in grayscale)\n",
        "*   Y represents the label for respective images in the X. (label is the number 0-9)\n",
        "\n"
      ]
    },
    {
      "cell_type": "code",
      "metadata": {
        "id": "8CdSu2lMwB9s",
        "colab_type": "code",
        "colab": {}
      },
      "source": [
        "(X_train, y_train), (X_test, y_test) = mnist.load_data()"
      ],
      "execution_count": 0,
      "outputs": []
    },
    {
      "cell_type": "markdown",
      "metadata": {
        "id": "BVUWS49brFrd",
        "colab_type": "text"
      },
      "source": [
        "Display the first image from the training set using the matplotlib library."
      ]
    },
    {
      "cell_type": "code",
      "metadata": {
        "id": "tLaDf0-rwCmj",
        "colab_type": "code",
        "outputId": "3bbcbab8-a965-4c01-c449-2d7dd2eba8f8",
        "colab": {
          "base_uri": "https://localhost:8080/",
          "height": 305
        }
      },
      "source": [
        "print (X_train.shape)\n",
        "from matplotlib import pyplot as plt\n",
        "%matplotlib inline\n",
        "plt.imshow(X_train[0])"
      ],
      "execution_count": 0,
      "outputs": [
        {
          "output_type": "stream",
          "text": [
            "(60000, 28, 28)\n"
          ],
          "name": "stdout"
        },
        {
          "output_type": "execute_result",
          "data": {
            "text/plain": [
              "<matplotlib.image.AxesImage at 0x7f5c98dbb198>"
            ]
          },
          "metadata": {
            "tags": []
          },
          "execution_count": 4
        },
        {
          "output_type": "display_data",
          "data": {
            "image/png": "[encoded data removed]",
            "text/plain": [
              "<Figure size 432x288 with 1 Axes>"
            ]
          },
          "metadata": {
            "tags": []
          }
        }
      ]
    },
    {
      "cell_type": "markdown",
      "metadata": {
        "id": "tCA6JsberDw6",
        "colab_type": "text"
      },
      "source": [
        "Reshape the input data by adding another dimension to represent the number of channels. The number of channels for MNIST images is 1 (representing the grayscale)"
      ]
    },
    {
      "cell_type": "code",
      "metadata": {
        "id": "erb11jNwwFwl",
        "colab_type": "code",
        "colab": {}
      },
      "source": [
        "X_train = X_train.reshape(X_train.shape[0], 28, 28,1)\n",
        "X_test = X_test.reshape(X_test.shape[0], 28, 28,1)"
      ],
      "execution_count": 0,
      "outputs": []
    },
    {
      "cell_type": "markdown",
      "metadata": {
        "id": "6_PZ84rRuUqO",
        "colab_type": "text"
      },
      "source": [
        "Normalise the image pixel values. Normalization helps to train the network faster."
      ]
    },
    {
      "cell_type": "code",
      "metadata": {
        "id": "RLK4YDoRwHet",
        "colab_type": "code",
        "colab": {}
      },
      "source": [
        "X_train = X_train.astype('float32')\n",
        "X_test = X_test.astype('float32')\n",
        "X_train /= 255\n",
        "X_test /= 255"
      ],
      "execution_count": 0,
      "outputs": []
    },
    {
      "cell_type": "markdown",
      "metadata": {
        "id": "fJbjslk-0vYV",
        "colab_type": "text"
      },
      "source": [
        "Display the first 10 values of y, the labels."
      ]
    },
    {
      "cell_type": "code",
      "metadata": {
        "id": "JNKLOmhlwJQl",
        "colab_type": "code",
        "outputId": "eb1ef359-a670-46f0-e924-52f0776ce2ff",
        "colab": {
          "base_uri": "https://localhost:8080/",
          "height": 35
        }
      },
      "source": [
        "y_train[:10]"
      ],
      "execution_count": 0,
      "outputs": [
        {
          "output_type": "execute_result",
          "data": {
            "text/plain": [
              "array([5, 0, 4, 1, 9, 2, 1, 3, 1, 4], dtype=uint8)"
            ]
          },
          "metadata": {
            "tags": []
          },
          "execution_count": 7
        }
      ]
    },
    {
      "cell_type": "markdown",
      "metadata": {
        "id": "-Zx9XupP02oQ",
        "colab_type": "text"
      },
      "source": [
        "np.utils.to_categorical is used to convert array of labeled data(from 0 to number of classes-1) to one-hot vector."
      ]
    },
    {
      "cell_type": "code",
      "metadata": {
        "id": "YusMJguiwKsM",
        "colab_type": "code",
        "colab": {}
      },
      "source": [
        "# Convert 1-dimensional class arrays to 10-dimensional class matrices\n",
        "Y_train = np_utils.to_categorical(y_train, 10)\n",
        "Y_test = np_utils.to_categorical(y_test, 10)"
      ],
      "execution_count": 0,
      "outputs": []
    },
    {
      "cell_type": "markdown",
      "metadata": {
        "id": "YMOo4vW13svi",
        "colab_type": "text"
      },
      "source": [
        "Display first 10 values of Y. This time it will be the number assigned to the labels."
      ]
    },
    {
      "cell_type": "code",
      "metadata": {
        "id": "upxc99AswMW0",
        "colab_type": "code",
        "outputId": "3bff8afb-20ce-46d3-e024-e2c3bbffee4c",
        "colab": {
          "base_uri": "https://localhost:8080/",
          "height": 199
        }
      },
      "source": [
        "Y_train[:10]\n"
      ],
      "execution_count": 0,
      "outputs": [
        {
          "output_type": "execute_result",
          "data": {
            "text/plain": [
              "array([[0., 0., 0., 0., 0., 1., 0., 0., 0., 0.],\n",
              "       [1., 0., 0., 0., 0., 0., 0., 0., 0., 0.],\n",
              "       [0., 0., 0., 0., 1., 0., 0., 0., 0., 0.],\n",
              "       [0., 1., 0., 0., 0., 0., 0., 0., 0., 0.],\n",
              "       [0., 0., 0., 0., 0., 0., 0., 0., 0., 1.],\n",
              "       [0., 0., 1., 0., 0., 0., 0., 0., 0., 0.],\n",
              "       [0., 1., 0., 0., 0., 0., 0., 0., 0., 0.],\n",
              "       [0., 0., 0., 1., 0., 0., 0., 0., 0., 0.],\n",
              "       [0., 1., 0., 0., 0., 0., 0., 0., 0., 0.],\n",
              "       [0., 0., 0., 0., 1., 0., 0., 0., 0., 0.]], dtype=float32)"
            ]
          },
          "metadata": {
            "tags": []
          },
          "execution_count": 9
        }
      ]
    },
    {
      "cell_type": "markdown",
      "metadata": {
        "id": "90jpgWC13zy4",
        "colab_type": "text"
      },
      "source": [
        "#Neural network model:\n",
        "* 3 layers of 3x3 Convolutions with relu activation\n",
        "* 1 layer of 2x2 Max polling\n",
        "* 5 layers of 3x3 Convolutions with relu activation\n",
        "* Flatten layer\n",
        "* Output layer of softmax to get the probability for each label, which describes the confidence level of the network that the input is of a certain number"
      ]
    },
    {
      "cell_type": "code",
      "metadata": {
        "id": "Dp-9D5WkPnb4",
        "colab_type": "code",
        "colab": {}
      },
      "source": [
        "from keras.layers import Activation, MaxPooling2D\n",
        "\n",
        "model = Sequential() \n",
        "# input channel dimension: (28,28,1)\n",
        "# Receptive field 3x3\n",
        "# output (26,26,32)\n",
        "model.add(Convolution2D(32, 3, 3, activation='relu', input_shape=(28,28,1)))\n",
        "\n",
        "# input channel dimension: (26,26,32)\n",
        "# receptive field 5x5\n",
        "# output dimension (24, 24, 64)\n",
        "model.add(Convolution2D(64, 3, 3, activation='relu'))\n",
        "\n",
        "# input channel dimension (24, 24, 64)\n",
        "# receptive field 9x9\n",
        "# output dimension (22, 22, 128)\n",
        "model.add(Convolution2D(128, 3, 3, activation='relu'))\n",
        "\n",
        "# input channel dimension (22, 22, 128) \n",
        "# receptive field 18x18\n",
        "# output dimension (11, 11, 128)\n",
        "model.add(MaxPooling2D(pool_size=(2, 2)))\n",
        "\n",
        "# input channel dimension (11, 11, 128)\n",
        "# receptive field 20x20\n",
        "# output dimension (9, 9, 256)\n",
        "model.add(Convolution2D(256, 3, 3, activation='relu'))\n",
        "\n",
        "# input channel dimension (9, 9, 256)\n",
        "# receptive field 22x22\n",
        "# output dimension ( 7, 7, 512)\n",
        "model.add(Convolution2D(512, 3, 3, activation='relu'))\n",
        "\n",
        "# input channel dimension ( 7, 7, 512) \n",
        "# receptive field 24x24\n",
        "# output dimension (5, 5, 1024)\n",
        "model.add(Convolution2D(1024, 3, 3, activation='relu'))\n",
        "\n",
        "# input channel dimension (5, 5, 1024)\n",
        "# receptive field 26x26\n",
        "# output dimension (3, 3, 2048)\n",
        "model.add(Convolution2D(2048, 3, 3, activation='relu'))\n",
        "\n",
        "# input channel dimension (3, 3, 2048)\n",
        "# receptive field 28x28\n",
        "# output dimension ( 1, 1, 10)\n",
        "model.add(Convolution2D(10, 3, 3, activation='relu'))\n",
        "\n",
        "# input channel dimension ( 1, 1, 10) \n",
        "# output dimension 10, \n",
        "#each representing the confidence of predicting the input image as respective no.\n",
        "\n",
        "model.add(Flatten())\n",
        "model.add(Activation('softmax'))\n",
        "\n",
        "model.summary()"
      ],
      "execution_count": 0,
      "outputs": []
    },
    {
      "cell_type": "markdown",
      "metadata": {
        "id": "YkiEtHZLpNJt",
        "colab_type": "text"
      },
      "source": [
        "#Modified Network"
      ]
    },
    {
      "cell_type": "code",
      "metadata": {
        "id": "irTVUE47wNwr",
        "colab_type": "code",
        "outputId": "59a69821-209a-4268-80e3-84f4001111eb",
        "colab": {
          "base_uri": "https://localhost:8080/",
          "height": 910
        }
      },
      "source": [
        "from keras.layers import Activation, MaxPooling2D,GlobalAveragePooling2D\n",
        "\n",
        "model = Sequential() \n",
        "model.add(Convolution2D(16, 3, 3, activation='relu', input_shape=(28,28,1)))\n",
        "model.add(Convolution2D(32, 3, 3, activation='relu'))\n",
        "model.add(Convolution2D(64, 3, 3, activation='relu'))\n",
        "model.add(MaxPooling2D(pool_size=(2, 2)))\n",
        "model.add(Convolution2D(128, 3, 3, activation='relu'))\n",
        "model.add(Convolution2D(256, 3, 3, activation='relu'))\n",
        "model.add(Convolution2D(256, 3, 3, activation='relu'))\n",
        "model.add(Convolution2D(512, 3, 3, activation='relu'))\n",
        "model.add(Convolution2D(10, 3, 3, activation='relu'))\n",
        "model.add(Flatten())\n",
        "model.add(Activation('softmax'))\n",
        "\n",
        "model.summary()"
      ],
      "execution_count": 0,
      "outputs": [
        {
          "output_type": "stream",
          "text": [
            "WARNING:tensorflow:From /usr/local/lib/python3.6/dist-packages/tensorflow/python/framework/op_def_library.py:263: colocate_with (from tensorflow.python.framework.ops) is deprecated and will be removed in a future version.\n",
            "Instructions for updating:\n",
            "Colocations handled automatically by placer.\n",
            "_________________________________________________________________\n",
            "Layer (type)                 Output Shape              Param #   \n",
            "=================================================================\n",
            "conv2d_1 (Conv2D)            (None, 26, 26, 16)        160       \n",
            "_________________________________________________________________\n",
            "conv2d_2 (Conv2D)            (None, 24, 24, 32)        4640      \n",
            "_________________________________________________________________\n",
            "conv2d_3 (Conv2D)            (None, 22, 22, 64)        18496     \n",
            "_________________________________________________________________\n",
            "max_pooling2d_1 (MaxPooling2 (None, 11, 11, 64)        0         \n",
            "_________________________________________________________________\n",
            "conv2d_4 (Conv2D)            (None, 9, 9, 128)         73856     \n",
            "_________________________________________________________________\n",
            "conv2d_5 (Conv2D)            (None, 7, 7, 256)         295168    \n",
            "_________________________________________________________________\n",
            "conv2d_6 (Conv2D)            (None, 5, 5, 256)         590080    \n",
            "_________________________________________________________________\n",
            "conv2d_7 (Conv2D)            (None, 3, 3, 512)         1180160   \n",
            "_________________________________________________________________\n",
            "conv2d_8 (Conv2D)            (None, 1, 1, 10)          46090     \n",
            "_________________________________________________________________\n",
            "flatten_1 (Flatten)          (None, 10)                0         \n",
            "_________________________________________________________________\n",
            "activation_1 (Activation)    (None, 10)                0         \n",
            "=================================================================\n",
            "Total params: 2,208,650\n",
            "Trainable params: 2,208,650\n",
            "Non-trainable params: 0\n",
            "_________________________________________________________________\n"
          ],
          "name": "stdout"
        },
        {
          "output_type": "stream",
          "text": [
            "/usr/local/lib/python3.6/dist-packages/ipykernel_launcher.py:4: UserWarning: Update your `Conv2D` call to the Keras 2 API: `Conv2D(16, (3, 3), activation=\"relu\", input_shape=(28, 28, 1...)`\n",
            "  after removing the cwd from sys.path.\n",
            "/usr/local/lib/python3.6/dist-packages/ipykernel_launcher.py:5: UserWarning: Update your `Conv2D` call to the Keras 2 API: `Conv2D(32, (3, 3), activation=\"relu\")`\n",
            "  \"\"\"\n",
            "/usr/local/lib/python3.6/dist-packages/ipykernel_launcher.py:6: UserWarning: Update your `Conv2D` call to the Keras 2 API: `Conv2D(64, (3, 3), activation=\"relu\")`\n",
            "  \n",
            "/usr/local/lib/python3.6/dist-packages/ipykernel_launcher.py:8: UserWarning: Update your `Conv2D` call to the Keras 2 API: `Conv2D(128, (3, 3), activation=\"relu\")`\n",
            "  \n",
            "/usr/local/lib/python3.6/dist-packages/ipykernel_launcher.py:9: UserWarning: Update your `Conv2D` call to the Keras 2 API: `Conv2D(256, (3, 3), activation=\"relu\")`\n",
            "  if __name__ == '__main__':\n",
            "/usr/local/lib/python3.6/dist-packages/ipykernel_launcher.py:10: UserWarning: Update your `Conv2D` call to the Keras 2 API: `Conv2D(256, (3, 3), activation=\"relu\")`\n",
            "  # Remove the CWD from sys.path while we load stuff.\n",
            "/usr/local/lib/python3.6/dist-packages/ipykernel_launcher.py:11: UserWarning: Update your `Conv2D` call to the Keras 2 API: `Conv2D(512, (3, 3), activation=\"relu\")`\n",
            "  # This is added back by InteractiveShellApp.init_path()\n",
            "/usr/local/lib/python3.6/dist-packages/ipykernel_launcher.py:12: UserWarning: Update your `Conv2D` call to the Keras 2 API: `Conv2D(10, (3, 3), activation=\"relu\")`\n",
            "  if sys.path[0] == '':\n"
          ],
          "name": "stderr"
        }
      ]
    },
    {
      "cell_type": "markdown",
      "metadata": {
        "id": "d386DdOsGzul",
        "colab_type": "text"
      },
      "source": [
        "Configure the model with loss function, Cross Entropy and Adam optimizer."
      ]
    },
    {
      "cell_type": "code",
      "metadata": {
        "id": "VYZOpRb6yG7_",
        "colab_type": "code",
        "colab": {}
      },
      "source": [
        "model.compile(loss='categorical_crossentropy',\n",
        "             optimizer='adam',\n",
        "             metrics=['accuracy'])"
      ],
      "execution_count": 0,
      "outputs": []
    },
    {
      "cell_type": "markdown",
      "metadata": {
        "id": "JfcXQJ_MHFXa",
        "colab_type": "text"
      },
      "source": [
        "Train the network with training set"
      ]
    },
    {
      "cell_type": "code",
      "metadata": {
        "id": "5O248wVQyMft",
        "colab_type": "code",
        "outputId": "1f0e68e4-c025-45c0-888c-637fc590c62d",
        "colab": {
          "base_uri": "https://localhost:8080/",
          "height": 510
        }
      },
      "source": [
        "model.fit(X_train, Y_train, batch_size=32, nb_epoch=10, verbose=1)"
      ],
      "execution_count": 0,
      "outputs": [
        {
          "output_type": "stream",
          "text": [
            "WARNING:tensorflow:From /usr/local/lib/python3.6/dist-packages/tensorflow/python/ops/math_ops.py:3066: to_int32 (from tensorflow.python.ops.math_ops) is deprecated and will be removed in a future version.\n",
            "Instructions for updating:\n",
            "Use tf.cast instead.\n"
          ],
          "name": "stdout"
        },
        {
          "output_type": "stream",
          "text": [
            "/usr/local/lib/python3.6/dist-packages/ipykernel_launcher.py:1: UserWarning: The `nb_epoch` argument in `fit` has been renamed `epochs`.\n",
            "  \"\"\"Entry point for launching an IPython kernel.\n"
          ],
          "name": "stderr"
        },
        {
          "output_type": "stream",
          "text": [
            "Epoch 1/10\n",
            "60000/60000 [==============================] - 20s 342us/step - loss: 1.0123 - acc: 0.5904\n",
            "Epoch 2/10\n",
            "60000/60000 [==============================] - 18s 299us/step - loss: 0.9401 - acc: 0.6024\n",
            "Epoch 3/10\n",
            "60000/60000 [==============================] - 18s 295us/step - loss: 0.9312 - acc: 0.6039\n",
            "Epoch 4/10\n",
            "60000/60000 [==============================] - 18s 294us/step - loss: 0.9257 - acc: 0.6054\n",
            "Epoch 5/10\n",
            "60000/60000 [==============================] - 18s 293us/step - loss: 0.9218 - acc: 0.6056\n",
            "Epoch 6/10\n",
            "60000/60000 [==============================] - 18s 293us/step - loss: 0.9193 - acc: 0.6062\n",
            "Epoch 7/10\n",
            "60000/60000 [==============================] - 18s 299us/step - loss: 0.9166 - acc: 0.6064\n",
            "Epoch 8/10\n",
            "60000/60000 [==============================] - 18s 293us/step - loss: 0.9152 - acc: 0.6068\n",
            "Epoch 9/10\n",
            "60000/60000 [==============================] - 18s 293us/step - loss: 0.9179 - acc: 0.6062\n",
            "Epoch 10/10\n",
            "60000/60000 [==============================] - 18s 293us/step - loss: 0.9151 - acc: 0.6068\n"
          ],
          "name": "stdout"
        },
        {
          "output_type": "execute_result",
          "data": {
            "text/plain": [
              "<keras.callbacks.History at 0x7f5cfafe5b70>"
            ]
          },
          "metadata": {
            "tags": []
          },
          "execution_count": 12
        }
      ]
    },
    {
      "cell_type": "markdown",
      "metadata": {
        "id": "I1qt-hcgHJpi",
        "colab_type": "text"
      },
      "source": [
        "Test the model with test dataset. "
      ]
    },
    {
      "cell_type": "code",
      "metadata": {
        "id": "Sst4KneiyOL5",
        "colab_type": "code",
        "colab": {}
      },
      "source": [
        "score = model.evaluate(X_test, Y_test, verbose=0)"
      ],
      "execution_count": 0,
      "outputs": []
    },
    {
      "cell_type": "markdown",
      "metadata": {
        "id": "Jfjb0-ZUHRv_",
        "colab_type": "text"
      },
      "source": [
        "print the result of the test dataset"
      ]
    },
    {
      "cell_type": "code",
      "metadata": {
        "id": "CfJiXOKsyj4y",
        "colab_type": "code",
        "outputId": "f5aa88aa-3788-4187-db2f-7997b1714d4a",
        "colab": {
          "base_uri": "https://localhost:8080/",
          "height": 35
        }
      },
      "source": [
        "print(score)"
      ],
      "execution_count": 0,
      "outputs": [
        {
          "output_type": "stream",
          "text": [
            "[0.9350369338035583, 0.6081]\n"
          ],
          "name": "stdout"
        }
      ]
    },
    {
      "cell_type": "markdown",
      "metadata": {
        "id": "8A72CB2fHiN-",
        "colab_type": "text"
      },
      "source": [
        "Find the predicted values"
      ]
    },
    {
      "cell_type": "code",
      "metadata": {
        "id": "hwLSXt7nyn_0",
        "colab_type": "code",
        "colab": {}
      },
      "source": [
        "y_pred = model.predict(X_test)"
      ],
      "execution_count": 0,
      "outputs": []
    },
    {
      "cell_type": "code",
      "metadata": {
        "id": "WWKKoOKwyppN",
        "colab_type": "code",
        "outputId": "cee1d522-2e8c-48e3-913f-6ffbaa5d5385",
        "colab": {
          "base_uri": "https://localhost:8080/",
          "height": 363
        }
      },
      "source": [
        "print(y_pred[:9])\n",
        "print(y_test[:9])"
      ],
      "execution_count": 0,
      "outputs": [
        {
          "output_type": "stream",
          "text": [
            "[[5.2354614e-18 5.2354614e-18 5.2354614e-18 5.2354614e-18 5.2354614e-18\n",
            "  5.2354614e-18 5.2354614e-18 1.0000000e+00 5.2354614e-18 5.2354614e-18]\n",
            " [1.2742490e-08 1.2742490e-08 1.0000000e+00 1.2742490e-08 1.2742490e-08\n",
            "  1.2742490e-08 1.2742490e-08 1.2742490e-08 1.2742490e-08 1.2742490e-08]\n",
            " [9.9471537e-16 1.0000000e+00 9.9471537e-16 9.9471537e-16 9.9471537e-16\n",
            "  9.9471537e-16 9.9471537e-16 9.9471537e-16 9.9471537e-16 9.9471537e-16]\n",
            " [1.0000000e+00 2.3939248e-19 2.3939248e-19 2.3939248e-19 2.3939248e-19\n",
            "  2.3939248e-19 2.3939248e-19 2.3939248e-19 2.3939248e-19 2.3939248e-19]\n",
            " [8.6201550e-21 8.6201550e-21 8.6201550e-21 8.6201550e-21 1.0000000e+00\n",
            "  8.6201550e-21 8.6201550e-21 8.6201550e-21 8.6201550e-21 8.6201550e-21]\n",
            " [2.7342623e-18 1.0000000e+00 2.7342623e-18 2.7342623e-18 1.9257771e-17\n",
            "  2.7342623e-18 2.7342623e-18 2.7342623e-18 2.7342623e-18 2.7342623e-18]\n",
            " [2.7326538e-20 2.7326538e-20 2.7326538e-20 2.7326538e-20 1.0000000e+00\n",
            "  2.7326538e-20 2.7326538e-20 2.7326538e-20 4.9911598e-18 2.7326538e-20]\n",
            " [1.0000000e-01 1.0000000e-01 1.0000000e-01 1.0000000e-01 1.0000000e-01\n",
            "  1.0000000e-01 1.0000000e-01 1.0000000e-01 1.0000000e-01 1.0000000e-01]\n",
            " [1.0000000e-01 1.0000000e-01 1.0000000e-01 1.0000000e-01 1.0000000e-01\n",
            "  1.0000000e-01 1.0000000e-01 1.0000000e-01 1.0000000e-01 1.0000000e-01]]\n",
            "[7 2 1 0 4 1 4 9 5]\n"
          ],
          "name": "stdout"
        }
      ]
    },
    {
      "cell_type": "markdown",
      "metadata": {
        "id": "tbS3Z5Pkmmjv",
        "colab_type": "text"
      },
      "source": [
        "# Neural network:\n",
        "The network is a convolutional neural network which is efficient and fast as opposed to a fully connected network. But the original network did not seem to be training. The number of filters or neurons is quite high, reaching 2048 in the last layer for a small input image size of 28x28. \n",
        "The solution would be to reduce the number of filters, the highest number of filters will be 512 which is in the last convolutional layer.\n",
        "More accuracy can be obtained by image augmentation.\n"
      ]
    }
  ]
}